{
 "cells": [
  {
   "cell_type": "code",
   "execution_count": 1,
   "id": "e90ad89f-c534-4469-86c6-47afdec303e7",
   "metadata": {},
   "outputs": [],
   "source": [
    "# Test\n",
    "file_name=\"./aoc_2104_test.txt\"\n",
    "# Prod\n",
    "file_name=\"./aoc_2104_prod.txt\""
   ]
  },
  {
   "cell_type": "code",
   "execution_count": 2,
   "id": "2eb75b2d-4a74-4cee-909c-920208bb85d6",
   "metadata": {},
   "outputs": [
    {
     "name": "stdout",
     "output_type": "stream",
     "text": [
      "['93,18,74,26,98,52,94,23,15,2,34,75,13,31,39,76,96,16,84,12,38,27,8,85,86,43,4,79,57,19,40,59,14,21,35,0,90,11,32,17,78,83,54,42,66,82,99,45,55,63,24,5,89,46,80,49,3,48,67,47,50,60,81,51,71,33,72,6,9,30,56,20,77,29,28,69,25,36,91,92,65,22,62,58,64,88,10,7,87,41,44,37,73,70,68,97,61,95,53,1', '97 18 90 62 17\\n98 88 49 41 74\\n66  9 83 69 91\\n33 57  3 71 43\\n11 50  7 10 28']\n",
      "101\n"
     ]
    }
   ],
   "source": [
    "with open(file_name) as f:\n",
    "    data=[line for line in f.read().split('\\n\\n')]\n",
    "    \n",
    "print(data[:2])\n",
    "print(len(data))"
   ]
  },
  {
   "cell_type": "code",
   "execution_count": 3,
   "id": "df03ca12-c52f-42ce-a623-68ea4d1ec2fc",
   "metadata": {},
   "outputs": [],
   "source": [
    "numbers_drawn_part, boards_part = data[0], [l.split('\\n') for l in data[1:]]"
   ]
  },
  {
   "cell_type": "code",
   "execution_count": 4,
   "id": "02c423c9-1a63-4966-9ddc-03cfd57b030d",
   "metadata": {},
   "outputs": [
    {
     "data": {
      "text/plain": [
       "('93,18,74,26,98,52,94,23,15,2,34,75,13,31,39,76,96,16,84,12,38,27,8,85,86,43,4,79,57,19,40,59,14,21,35,0,90,11,32,17,78,83,54,42,66,82,99,45,55,63,24,5,89,46,80,49,3,48,67,47,50,60,81,51,71,33,72,6,9,30,56,20,77,29,28,69,25,36,91,92,65,22,62,58,64,88,10,7,87,41,44,37,73,70,68,97,61,95,53,1',\n",
       " [['97 18 90 62 17',\n",
       "   '98 88 49 41 74',\n",
       "   '66  9 83 69 91',\n",
       "   '33 57  3 71 43',\n",
       "   '11 50  7 10 28'],\n",
       "  [' 6 34 13  5  9',\n",
       "   '50 21 66 77  3',\n",
       "   '60 74 40 12 33',\n",
       "   '69 57 99 18 95',\n",
       "   '70 72 49 71 87']])"
      ]
     },
     "execution_count": 4,
     "metadata": {},
     "output_type": "execute_result"
    }
   ],
   "source": [
    "numbers_drawn_part, boards_part[:2]"
   ]
  },
  {
   "cell_type": "code",
   "execution_count": 5,
   "id": "b5e5925a-9ba5-4a2f-b267-fc0878a39522",
   "metadata": {},
   "outputs": [
    {
     "data": {
      "text/plain": [
       "[93, 18, 74, 26, 98, 52, 94, 23, 15, 2, 34, 75, 13, 31, 39, 76, 96, 16, 84, 12]"
      ]
     },
     "execution_count": 5,
     "metadata": {},
     "output_type": "execute_result"
    }
   ],
   "source": [
    "## Get Numbers Drawn\n",
    "numbers_drawn=list(map(int, numbers_drawn_part.split(',')))\n",
    "numbers_drawn[:20]"
   ]
  },
  {
   "cell_type": "code",
   "execution_count": 6,
   "id": "f3c9664c-4841-42d8-a52b-e37cb7ddc3d0",
   "metadata": {},
   "outputs": [
    {
     "data": {
      "text/plain": [
       "[[[97, 18, 90, 62, 17],\n",
       "  [98, 88, 49, 41, 74],\n",
       "  [66, 9, 83, 69, 91],\n",
       "  [33, 57, 3, 71, 43],\n",
       "  [11, 50, 7, 10, 28]],\n",
       " [[6, 34, 13, 5, 9],\n",
       "  [50, 21, 66, 77, 3],\n",
       "  [60, 74, 40, 12, 33],\n",
       "  [69, 57, 99, 18, 95],\n",
       "  [70, 72, 49, 71, 87]]]"
      ]
     },
     "execution_count": 6,
     "metadata": {},
     "output_type": "execute_result"
    }
   ],
   "source": [
    "## Get Boards\n",
    "#Cube (3rd level) split -- interesting; plus map to convert to int\n",
    "boards=[[list(map(int, l.split())) for l in board] for board in boards_part]\n",
    "boards[:2]"
   ]
  },
  {
   "cell_type": "markdown",
   "id": "72194f6d-32f5-4514-8e41-574d96744f21",
   "metadata": {},
   "source": [
    "## Part 1"
   ]
  },
  {
   "cell_type": "code",
   "execution_count": 7,
   "id": "6b1934ee-03cc-4c58-8774-b7063044dc2a",
   "metadata": {},
   "outputs": [],
   "source": [
    "class Board:\n",
    "    def __init__(self, board: list):\n",
    "        self.board=board\n",
    "        self.drawn=[[0  for column in line] for line in board]\n",
    "        self.numbers={board[line][column]:(line, column) for line in range(len(board)) for column in range(len(board[line]))}\n",
    "        self.complete_rows=[0]*len(board)\n",
    "        self.complete_cols=[0]*len(board[0])\n",
    "        \n",
    "    def add_drawn_number(self, number: int) -> bool:\n",
    "        isBingo=False\n",
    "        if number in self.numbers:\n",
    "            row, col=self.numbers.get(number)\n",
    "            self.drawn[row][col]=1\n",
    "            self.complete_rows[row]+=1\n",
    "            self.complete_cols[col]+=1\n",
    "            if (self.complete_rows[row]==len(self.complete_cols)) or (self.complete_cols[col]==len(self.complete_rows)):\n",
    "                isBingo=True\n",
    "            return isBingo, row, col, self.drawn, self.complete_cols, self.complete_rows\n",
    "        else:\n",
    "            return isBingo, self.drawn, self.complete_cols, self.complete_rows\n",
    "        \n",
    "    def sum_unmarked_numbers(self) -> int:\n",
    "        return sum([\n",
    "            self.board[row][col] \n",
    "            for row in range(len(self.board)) \n",
    "            for col in range(len(self.board[0]))\n",
    "            if self.drawn[row][col]==0\n",
    "        ])"
   ]
  },
  {
   "cell_type": "code",
   "execution_count": 8,
   "id": "c9cb9934-cf3b-4fd4-a846-92dda251c15f",
   "metadata": {},
   "outputs": [],
   "source": [
    "# Initialize all boards\n",
    "myboards=[Board(board) for board in boards]"
   ]
  },
  {
   "cell_type": "code",
   "execution_count": 9,
   "id": "35ac5f5c-60e1-459d-a6ce-d4acadfa7b03",
   "metadata": {},
   "outputs": [
    {
     "name": "stdout",
     "output_type": "stream",
     "text": [
      "True BINGO! for the board 11 after drawing number 8:\n"
     ]
    },
    {
     "data": {
      "text/plain": [
       "[[0, 1, 0, 1, 1],\n",
       " [0, 0, 1, 1, 0],\n",
       " [1, 0, 0, 1, 0],\n",
       " [0, 0, 0, 1, 0],\n",
       " [1, 0, 0, 1, 0]]"
      ]
     },
     "metadata": {},
     "output_type": "display_data"
    }
   ],
   "source": [
    "total_number_of_numbers=len(numbers_drawn)\n",
    "number_of_numbers=-1\n",
    "isBingo = False\n",
    "while (number_of_numbers < total_number_of_numbers-1) and not(isBingo):\n",
    "    number_of_numbers+=1\n",
    "    number_of_board=-1\n",
    "    while (number_of_board<len(myboards)-1) and not(isBingo):\n",
    "        number_of_board+=1\n",
    "        isBingo=myboards[number_of_board].add_drawn_number(numbers_drawn[number_of_numbers])[0]\n",
    "\n",
    "print(f'{isBingo} BINGO! for the board {number_of_board} after drawing number {numbers_drawn[number_of_numbers]}:')\n",
    "display(myboards[number_of_board].drawn)"
   ]
  },
  {
   "cell_type": "code",
   "execution_count": 10,
   "id": "d4a20cd3-ed52-4d27-9028-fd0ee4fabfa4",
   "metadata": {},
   "outputs": [],
   "source": [
    "result=myboards[number_of_board].sum_unmarked_numbers() * numbers_drawn[number_of_numbers]"
   ]
  },
  {
   "cell_type": "code",
   "execution_count": 11,
   "id": "509c6a64-3c33-4a0a-8910-3eae8beb1189",
   "metadata": {},
   "outputs": [
    {
     "name": "stdout",
     "output_type": "stream",
     "text": [
      "Result for part 1: 6592\n"
     ]
    }
   ],
   "source": [
    "print(f\"Result for part 1: {result}\")"
   ]
  },
  {
   "cell_type": "markdown",
   "id": "956adb13-b794-49b5-9d2d-dad25fb36d23",
   "metadata": {},
   "source": [
    "## Part 2"
   ]
  },
  {
   "cell_type": "code",
   "execution_count": 12,
   "id": "03bc8253-9f36-4623-926e-8003068ce365",
   "metadata": {},
   "outputs": [],
   "source": [
    "# Re-Initialize all boards\n",
    "myboards=[Board(board) for board in boards]"
   ]
  },
  {
   "cell_type": "code",
   "execution_count": 13,
   "id": "d7a4a13a-db34-48a3-b113-ed2f69324857",
   "metadata": {},
   "outputs": [
    {
     "name": "stdout",
     "output_type": "stream",
     "text": [
      "True BINGO! for the board 11 after drawing number 8.\n",
      "True BINGO! for the board 72 after drawing number 14.\n",
      "True BINGO! for the board 6 after drawing number 21.\n",
      "True BINGO! for the board 12 after drawing number 0.\n",
      "True BINGO! for the board 18 after drawing number 0.\n",
      "True BINGO! for the board 77 after drawing number 0.\n",
      "True BINGO! for the board 82 after drawing number 90.\n",
      "True BINGO! for the board 97 after drawing number 11.\n",
      "True BINGO! for the board 71 after drawing number 17.\n",
      "True BINGO! for the board 74 after drawing number 17.\n",
      "True BINGO! for the board 92 after drawing number 78.\n",
      "True BINGO! for the board 61 after drawing number 82.\n",
      "True BINGO! for the board 88 after drawing number 82.\n",
      "True BINGO! for the board 94 after drawing number 99.\n",
      "True BINGO! for the board 21 after drawing number 45.\n",
      "True BINGO! for the board 24 after drawing number 45.\n",
      "True BINGO! for the board 33 after drawing number 45.\n",
      "True BINGO! for the board 42 after drawing number 45.\n",
      "True BINGO! for the board 20 after drawing number 55.\n",
      "True BINGO! for the board 46 after drawing number 55.\n",
      "True BINGO! for the board 23 after drawing number 63.\n",
      "True BINGO! for the board 52 after drawing number 63.\n",
      "True BINGO! for the board 9 after drawing number 24.\n",
      "True BINGO! for the board 31 after drawing number 24.\n",
      "True BINGO! for the board 36 after drawing number 24.\n",
      "True BINGO! for the board 17 after drawing number 5.\n",
      "True BINGO! for the board 66 after drawing number 89.\n",
      "True BINGO! for the board 19 after drawing number 80.\n",
      "True BINGO! for the board 70 after drawing number 80.\n",
      "True BINGO! for the board 1 after drawing number 49.\n",
      "True BINGO! for the board 38 after drawing number 49.\n",
      "True BINGO! for the board 47 after drawing number 49.\n",
      "True BINGO! for the board 78 after drawing number 49.\n",
      "True BINGO! for the board 2 after drawing number 3.\n",
      "True BINGO! for the board 4 after drawing number 3.\n",
      "True BINGO! for the board 28 after drawing number 3.\n",
      "True BINGO! for the board 50 after drawing number 3.\n",
      "True BINGO! for the board 57 after drawing number 3.\n",
      "True BINGO! for the board 75 after drawing number 3.\n",
      "True BINGO! for the board 79 after drawing number 3.\n",
      "True BINGO! for the board 99 after drawing number 3.\n",
      "True BINGO! for the board 13 after drawing number 48.\n",
      "True BINGO! for the board 85 after drawing number 48.\n",
      "True BINGO! for the board 89 after drawing number 48.\n",
      "True BINGO! for the board 43 after drawing number 67.\n",
      "True BINGO! for the board 44 after drawing number 67.\n",
      "True BINGO! for the board 49 after drawing number 67.\n",
      "True BINGO! for the board 62 after drawing number 67.\n",
      "True BINGO! for the board 93 after drawing number 67.\n",
      "True BINGO! for the board 95 after drawing number 67.\n",
      "True BINGO! for the board 8 after drawing number 47.\n",
      "True BINGO! for the board 30 after drawing number 47.\n",
      "True BINGO! for the board 80 after drawing number 47.\n",
      "True BINGO! for the board 67 after drawing number 50.\n",
      "True BINGO! for the board 25 after drawing number 60.\n",
      "True BINGO! for the board 32 after drawing number 60.\n",
      "True BINGO! for the board 64 after drawing number 60.\n",
      "True BINGO! for the board 68 after drawing number 81.\n",
      "True BINGO! for the board 3 after drawing number 51.\n",
      "True BINGO! for the board 35 after drawing number 51.\n",
      "True BINGO! for the board 53 after drawing number 71.\n",
      "True BINGO! for the board 55 after drawing number 71.\n",
      "True BINGO! for the board 65 after drawing number 71.\n",
      "True BINGO! for the board 0 after drawing number 33.\n",
      "True BINGO! for the board 26 after drawing number 33.\n",
      "True BINGO! for the board 34 after drawing number 72.\n",
      "True BINGO! for the board 37 after drawing number 72.\n",
      "True BINGO! for the board 59 after drawing number 72.\n",
      "True BINGO! for the board 84 after drawing number 72.\n",
      "True BINGO! for the board 98 after drawing number 72.\n",
      "True BINGO! for the board 14 after drawing number 6.\n",
      "True BINGO! for the board 40 after drawing number 6.\n",
      "True BINGO! for the board 10 after drawing number 9.\n",
      "True BINGO! for the board 29 after drawing number 9.\n",
      "True BINGO! for the board 48 after drawing number 9.\n",
      "True BINGO! for the board 58 after drawing number 9.\n",
      "True BINGO! for the board 81 after drawing number 9.\n",
      "True BINGO! for the board 83 after drawing number 9.\n",
      "True BINGO! for the board 86 after drawing number 9.\n",
      "True BINGO! for the board 22 after drawing number 30.\n",
      "True BINGO! for the board 45 after drawing number 30.\n",
      "True BINGO! for the board 90 after drawing number 30.\n",
      "True BINGO! for the board 27 after drawing number 56.\n",
      "True BINGO! for the board 41 after drawing number 56.\n",
      "True BINGO! for the board 56 after drawing number 56.\n",
      "True BINGO! for the board 16 after drawing number 20.\n",
      "True BINGO! for the board 54 after drawing number 77.\n",
      "True BINGO! for the board 60 after drawing number 77.\n",
      "True BINGO! for the board 63 after drawing number 77.\n",
      "True BINGO! for the board 73 after drawing number 77.\n",
      "True BINGO! for the board 96 after drawing number 77.\n",
      "True BINGO! for the board 7 after drawing number 29.\n",
      "True BINGO! for the board 51 after drawing number 29.\n",
      "True BINGO! for the board 76 after drawing number 28.\n",
      "True BINGO! for the board 87 after drawing number 69.\n",
      "True BINGO! for the board 69 after drawing number 36.\n",
      "True BINGO! for the board 91 after drawing number 92.\n",
      "True BINGO! for the board 15 after drawing number 22.\n",
      "True BINGO! for the board 5 after drawing number 7.\n",
      "True BINGO! for the board 39 after drawing number 87.\n",
      "\n",
      "True final BINGO! for the board 39 after drawing number 87:\n"
     ]
    },
    {
     "data": {
      "text/plain": [
       "[[0, 1, 0, 1, 1],\n",
       " [0, 1, 1, 1, 1],\n",
       " [1, 1, 0, 1, 1],\n",
       " [1, 1, 1, 1, 0],\n",
       " [1, 1, 0, 0, 1]]"
      ]
     },
     "metadata": {},
     "output_type": "display_data"
    }
   ],
   "source": [
    "total_number_of_numbers=len(numbers_drawn)\n",
    "number_of_numbers=-1\n",
    "isBingo = False\n",
    "complete_boards=[]\n",
    "\n",
    "while (number_of_numbers < total_number_of_numbers-1) and not(isBingo):\n",
    "    number_of_numbers+=1\n",
    "    number_of_board=-1\n",
    "    while (number_of_board<len(myboards)-1) and not(isBingo) and (len(complete_boards)<len(myboards)):\n",
    "        number_of_board+=1\n",
    "        if not(number_of_board in complete_boards):\n",
    "            isBingo=myboards[number_of_board].add_drawn_number(numbers_drawn[number_of_numbers])[0]\n",
    "            if isBingo:\n",
    "                print(f'{isBingo} BINGO! for the board {number_of_board} after drawing number {numbers_drawn[number_of_numbers]}.')\n",
    "                complete_boards.append(number_of_board)\n",
    "            if isBingo and len(complete_boards)<len(myboards):\n",
    "                isBingo=False\n",
    "\n",
    "print(f'\\n{isBingo} final BINGO! for the board {number_of_board} after drawing number {numbers_drawn[number_of_numbers]}:')\n",
    "display(myboards[number_of_board].drawn)"
   ]
  },
  {
   "cell_type": "code",
   "execution_count": 14,
   "id": "9f1a1a6c-d87a-451d-a81e-ae5e9eaf57d7",
   "metadata": {},
   "outputs": [],
   "source": [
    "result=myboards[number_of_board].sum_unmarked_numbers() * numbers_drawn[number_of_numbers]"
   ]
  },
  {
   "cell_type": "code",
   "execution_count": 15,
   "id": "ab9d3fc9-e857-4a4b-85aa-363a0a93deec",
   "metadata": {},
   "outputs": [
    {
     "name": "stdout",
     "output_type": "stream",
     "text": [
      "Result for part 2: 31755\n"
     ]
    }
   ],
   "source": [
    "print(f\"Result for part 2: {result}\")"
   ]
  },
  {
   "cell_type": "code",
   "execution_count": null,
   "id": "dfe49e99-d263-49ba-8f92-0b2544c2f764",
   "metadata": {},
   "outputs": [],
   "source": []
  }
 ],
 "metadata": {
  "kernelspec": {
   "display_name": "Python 3 (ipykernel)",
   "language": "python",
   "name": "python3"
  },
  "language_info": {
   "codemirror_mode": {
    "name": "ipython",
    "version": 3
   },
   "file_extension": ".py",
   "mimetype": "text/x-python",
   "name": "python",
   "nbconvert_exporter": "python",
   "pygments_lexer": "ipython3",
   "version": "3.10.0"
  }
 },
 "nbformat": 4,
 "nbformat_minor": 5
}
