{
 "cells": [
  {
   "cell_type": "code",
   "execution_count": 1,
   "id": "e90ad89f-c534-4469-86c6-47afdec303e7",
   "metadata": {},
   "outputs": [],
   "source": [
    "# Test\n",
    "file_name=\"./aoc_2105_test.txt\"\n",
    "# Prod\n",
    "file_name=\"./aoc_2105_prod.txt\""
   ]
  },
  {
   "cell_type": "code",
   "execution_count": 2,
   "id": "7ee4bf08-f3eb-4b99-ab1e-7bded045dfb1",
   "metadata": {},
   "outputs": [
    {
     "name": "stdout",
     "output_type": "stream",
     "text": [
      "['194,556 -> 739,556', '818,920 -> 818,524', '340,734 -> 774,300', '223,511 -> 146,434', '841,47 -> 122,766', '323,858 -> 859,322', '277,205 -> 85,205', '782,901 -> 782,186', '969,96 -> 969,648', '504,971 -> 989,971', '926,151 -> 926,480', '722,895 -> 722,488', '15,14 -> 987,986', '378,486 -> 267,597', '732,418 -> 157,418']\n",
      "500\n"
     ]
    }
   ],
   "source": [
    "with open(file_name) as f:\n",
    "    data=[line for line in f.read().splitlines()]\n",
    "    \n",
    "print(data[:15])\n",
    "print(len(data))"
   ]
  },
  {
   "cell_type": "markdown",
   "id": "72194f6d-32f5-4514-8e41-574d96744f21",
   "metadata": {},
   "source": [
    "## Part 1"
   ]
  },
  {
   "cell_type": "code",
   "execution_count": 3,
   "id": "9a69d73e-6d2f-4ca1-80d5-fa3612de1c62",
   "metadata": {},
   "outputs": [],
   "source": [
    "def one_if_not_zero(num:int)->int:\n",
    "    if num>0: \n",
    "        num=1\n",
    "    elif num<0:\n",
    "        num=-1\n",
    "    return num"
   ]
  },
  {
   "cell_type": "code",
   "execution_count": 4,
   "id": "6580d4bc-8321-4ce4-9874-a0faa992b31b",
   "metadata": {},
   "outputs": [],
   "source": [
    "class Line:\n",
    "    def __init__(self, representation: str):\n",
    "        self.point1, self.point2=[[int(value) for value in coord.split(',')] for coord in representation.split(' -> ')]\n",
    "        \n",
    "    def __str__(self) -> str:\n",
    "        return f\"{str(self.point1)} -> {str(self.point2)}\"\n",
    "    \n",
    "    def calc_all_points(self, exercise_part=1) -> list[list[int]]:\n",
    "        ## Init\n",
    "        self.points=[] #list of tuples, so they can be used as keys in dictionary\n",
    "        self.delta0=self.point2[0]-self.point1[0] \n",
    "        self.delta1=self.point2[1]-self.point1[1]\n",
    "        length=(max(abs(self.delta0),abs(self.delta1)))\n",
    "        ## Populate\n",
    "        for i in range(length+1):\n",
    "            if (exercise_part==1) and (self.delta0!=0 and self.delta1!=0): break\n",
    "            self.points.append((self.point1[0] + i*one_if_not_zero(self.delta0), self.point1[1] + i*one_if_not_zero(self.delta1)))\n",
    "        return self.points"
   ]
  },
  {
   "cell_type": "code",
   "execution_count": 5,
   "id": "7419ab4d-2690-4554-8c01-4688d8d057ea",
   "metadata": {},
   "outputs": [],
   "source": [
    "lines_of_vents=[Line(data[i]) for i in range(len(data))]"
   ]
  },
  {
   "cell_type": "code",
   "execution_count": 6,
   "id": "52f8cbf6-3d7b-4092-ac8d-10492d7b315f",
   "metadata": {
    "tags": []
   },
   "outputs": [
    {
     "name": "stdout",
     "output_type": "stream",
     "text": [
      "[194, 556] -> [739, 556] [(194, 556), (195, 556), (196, 556), (197, 556), (198, 556), (199, 556), (200, 556), (201, 556), (202, 556), (203, 556)]\n",
      "[818, 920] -> [818, 524] [(818, 920), (818, 919), (818, 918), (818, 917), (818, 916), (818, 915), (818, 914), (818, 913), (818, 912), (818, 911)]\n",
      "[340, 734] -> [774, 300] []\n",
      "[223, 511] -> [146, 434] []\n",
      "[841, 47] -> [122, 766] []\n"
     ]
    }
   ],
   "source": [
    "# Check step\n",
    "for i in range(5):\n",
    "    print(lines_of_vents[i], lines_of_vents[i].calc_all_points(exercise_part=1)[:10])"
   ]
  },
  {
   "cell_type": "code",
   "execution_count": 7,
   "id": "e35ec870-f570-4230-a397-30d50d220fd0",
   "metadata": {},
   "outputs": [],
   "source": [
    "class Field:\n",
    "    def __init__(self):\n",
    "        self.field=dict()\n",
    "        \n",
    "    def __str__(self):\n",
    "        return str(self.field)\n",
    "    \n",
    "    def add_line_of_vents(self, line : Line, exercise_part=1):\n",
    "        for k in line.calc_all_points(exercise_part):\n",
    "            self.field[k]=1+self.field.get(k,0) \n",
    "            \n",
    "    def count_more_than_one_overlap(self) -> int:\n",
    "        #filtered=dict(filter(lambda elem: self.field[elem] > 1, self.field.keys())) <-- returns incomplete key :(\n",
    "        filtered=dict(filter(lambda elem: elem[1] > 1, self.field.items()))\n",
    "        return len(filtered)"
   ]
  },
  {
   "cell_type": "code",
   "execution_count": 8,
   "id": "6d350041-3e43-40d5-9302-2bf3cd252908",
   "metadata": {
    "tags": []
   },
   "outputs": [
    {
     "name": "stdout",
     "output_type": "stream",
     "text": [
      "110847\n"
     ]
    }
   ],
   "source": [
    "myfield=Field()\n",
    "for line in lines_of_vents:\n",
    "    myfield.add_line_of_vents(line, exercise_part=1)\n",
    "print(len(myfield.field))"
   ]
  },
  {
   "cell_type": "code",
   "execution_count": 9,
   "id": "d4a20cd3-ed52-4d27-9028-fd0ee4fabfa4",
   "metadata": {},
   "outputs": [],
   "source": [
    "result=myfield.count_more_than_one_overlap()"
   ]
  },
  {
   "cell_type": "code",
   "execution_count": 10,
   "id": "509c6a64-3c33-4a0a-8910-3eae8beb1189",
   "metadata": {},
   "outputs": [
    {
     "name": "stdout",
     "output_type": "stream",
     "text": [
      "Result for part 1: 7085\n"
     ]
    }
   ],
   "source": [
    "print(f\"Result for part 1: {result}\")"
   ]
  },
  {
   "cell_type": "markdown",
   "id": "956adb13-b794-49b5-9d2d-dad25fb36d23",
   "metadata": {},
   "source": [
    "## Part 2"
   ]
  },
  {
   "cell_type": "code",
   "execution_count": 11,
   "id": "90b106a8-5807-4ccd-aa90-6c625c77be36",
   "metadata": {
    "tags": []
   },
   "outputs": [
    {
     "name": "stdout",
     "output_type": "stream",
     "text": [
      "169661\n"
     ]
    }
   ],
   "source": [
    "myfield=Field()\n",
    "for line in lines_of_vents:\n",
    "    myfield.add_line_of_vents(line, exercise_part=2)\n",
    "print(len(myfield.field))"
   ]
  },
  {
   "cell_type": "code",
   "execution_count": 12,
   "id": "9402b1e2-98fe-4ff3-b750-48e9074c17f7",
   "metadata": {},
   "outputs": [],
   "source": [
    "result=myfield.count_more_than_one_overlap()"
   ]
  },
  {
   "cell_type": "code",
   "execution_count": 13,
   "id": "ab9d3fc9-e857-4a4b-85aa-363a0a93deec",
   "metadata": {},
   "outputs": [
    {
     "name": "stdout",
     "output_type": "stream",
     "text": [
      "Result for part 2: 20271\n"
     ]
    }
   ],
   "source": [
    "print(f\"Result for part 2: {result}\")"
   ]
  }
 ],
 "metadata": {
  "kernelspec": {
   "display_name": "Python 3 (ipykernel)",
   "language": "python",
   "name": "python3"
  },
  "language_info": {
   "codemirror_mode": {
    "name": "ipython",
    "version": 3
   },
   "file_extension": ".py",
   "mimetype": "text/x-python",
   "name": "python",
   "nbconvert_exporter": "python",
   "pygments_lexer": "ipython3",
   "version": "3.10.0"
  }
 },
 "nbformat": 4,
 "nbformat_minor": 5
}
