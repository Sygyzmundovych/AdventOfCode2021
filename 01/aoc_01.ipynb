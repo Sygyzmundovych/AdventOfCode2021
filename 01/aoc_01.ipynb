{
 "cells": [
  {
   "cell_type": "code",
   "execution_count": 30,
   "id": "e90ad89f-c534-4469-86c6-47afdec303e7",
   "metadata": {},
   "outputs": [],
   "source": [
    "# Test\n",
    "file_name=\"./aoc_2101_test.txt\"\n",
    "# Prod\n",
    "file_name=\"./aoc_2101_prod.txt\""
   ]
  },
  {
   "cell_type": "code",
   "execution_count": 66,
   "id": "2eb75b2d-4a74-4cee-909c-920208bb85d6",
   "metadata": {},
   "outputs": [
    {
     "name": "stdout",
     "output_type": "stream",
     "text": [
      "[191, 192, 201, 205, 206, 203, 188, 189, 199, 206, 224, 230, 233, 232, 260]\n",
      "2000\n"
     ]
    }
   ],
   "source": [
    "with open(file_name) as f:\n",
    "    data=[int(i) for i in f.read().splitlines()]\n",
    "    \n",
    "print(data[:15])\n",
    "print(len(data))"
   ]
  },
  {
   "cell_type": "markdown",
   "id": "72194f6d-32f5-4514-8e41-574d96744f21",
   "metadata": {},
   "source": [
    "## Part 1"
   ]
  },
  {
   "cell_type": "code",
   "execution_count": 84,
   "id": "152758bd-1939-4775-8d0a-120f1721be80",
   "metadata": {},
   "outputs": [
    {
     "data": {
      "text/plain": [
       "[True, True, True, True, False]"
      ]
     },
     "execution_count": 84,
     "metadata": {},
     "output_type": "execute_result"
    }
   ],
   "source": [
    "depth_increases=[data[i]>data[i-1] for i in range(1,len(data))]\n",
    "depth_increases[:5]"
   ]
  },
  {
   "cell_type": "code",
   "execution_count": 80,
   "id": "ed7a5b54-3bb9-4656-96c5-620f21b2debf",
   "metadata": {},
   "outputs": [],
   "source": [
    "result=depth_increases.count(True)"
   ]
  },
  {
   "cell_type": "markdown",
   "id": "1737c670-2174-47d2-af2d-5b90f871854b",
   "metadata": {},
   "source": [
    "### ...or using a list of tuples"
   ]
  },
  {
   "cell_type": "code",
   "execution_count": 85,
   "id": "2af31efb-b644-4e7e-a4a3-30e4c1723d72",
   "metadata": {},
   "outputs": [
    {
     "data": {
      "text/plain": [
       "[(192, True), (201, True), (205, True), (206, True), (203, False)]"
      ]
     },
     "execution_count": 85,
     "metadata": {},
     "output_type": "execute_result"
    }
   ],
   "source": [
    "depth_scan=[(data[i],(data[i]>data[i-1])) for i in range(1,len(data))]\n",
    "depth_scan[:5]"
   ]
  },
  {
   "cell_type": "code",
   "execution_count": 86,
   "id": "ce1cdcfb-03cb-4cc3-8676-52d99c193fb2",
   "metadata": {
    "tags": []
   },
   "outputs": [],
   "source": [
    "result=len(list(filter(lambda t : t[1], depth_scan)))"
   ]
  },
  {
   "cell_type": "code",
   "execution_count": 87,
   "id": "509c6a64-3c33-4a0a-8910-3eae8beb1189",
   "metadata": {},
   "outputs": [
    {
     "name": "stdout",
     "output_type": "stream",
     "text": [
      "Result for part 1: 1374\n"
     ]
    }
   ],
   "source": [
    "print(f\"Result for part 1: {result}\")"
   ]
  },
  {
   "cell_type": "markdown",
   "id": "956adb13-b794-49b5-9d2d-dad25fb36d23",
   "metadata": {},
   "source": [
    "## Part 2"
   ]
  },
  {
   "cell_type": "code",
   "execution_count": null,
   "id": "6da02e55-aa7a-4053-b815-fac195092ecc",
   "metadata": {},
   "outputs": [],
   "source": []
  }
 ],
 "metadata": {
  "kernelspec": {
   "display_name": "sandbox",
   "language": "python",
   "name": "sandbox"
  },
  "language_info": {
   "codemirror_mode": {
    "name": "ipython",
    "version": 3
   },
   "file_extension": ".py",
   "mimetype": "text/x-python",
   "name": "python",
   "nbconvert_exporter": "python",
   "pygments_lexer": "ipython3",
   "version": "3.9.7"
  }
 },
 "nbformat": 4,
 "nbformat_minor": 5
}
