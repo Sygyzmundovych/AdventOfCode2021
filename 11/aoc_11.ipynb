{
 "cells": [
  {
   "cell_type": "code",
   "execution_count": 1,
   "id": "75561c94-28fa-43fe-aaa2-286fd74ba268",
   "metadata": {},
   "outputs": [],
   "source": [
    "# Test\n",
    "file_name=\"./aoc_2111_test.txt\"\n",
    "# Prod\n",
    "file_name=\"./aoc_2111_prod.txt\""
   ]
  },
  {
   "cell_type": "code",
   "execution_count": 2,
   "id": "3ff53436-4476-46ce-8bbe-67358bb3f243",
   "metadata": {},
   "outputs": [
    {
     "data": {
      "text/plain": [
       "['3113284886',\n",
       " '2851876144',\n",
       " '2774664484',\n",
       " '6715112578',\n",
       " '7146272153',\n",
       " '6256656367',\n",
       " '3148666245',\n",
       " '3857446528',\n",
       " '7322422833',\n",
       " '8152175168']"
      ]
     },
     "metadata": {},
     "output_type": "display_data"
    }
   ],
   "source": [
    "with open(file_name) as f:\n",
    "    raw_data=[line for line in f.read().splitlines()]\n",
    "    f.close()\n",
    "\n",
    "# Check\n",
    "display(raw_data[:10])"
   ]
  },
  {
   "cell_type": "code",
   "execution_count": 3,
   "id": "b3f05f48-752b-4961-9ca1-53fb7be63370",
   "metadata": {},
   "outputs": [],
   "source": [
    "data=[[int(digit) for digit in line] for line in raw_data]"
   ]
  },
  {
   "cell_type": "code",
   "execution_count": 4,
   "id": "146b2df7-ce50-4b2b-ace5-d1ca0d9b2453",
   "metadata": {
    "tags": []
   },
   "outputs": [
    {
     "data": {
      "text/plain": [
       "([[3, 1, 1, 3, 2, 8, 4, 8, 8, 6],\n",
       "  [2, 8, 5, 1, 8, 7, 6, 1, 4, 4],\n",
       "  [2, 7, 7, 4, 6, 6, 4, 4, 8, 4]],\n",
       " [[3, 8, 5, 7, 4, 4, 6, 5, 2, 8],\n",
       "  [7, 3, 2, 2, 4, 2, 2, 8, 3, 3],\n",
       "  [8, 1, 5, 2, 1, 7, 5, 1, 6, 8]])"
      ]
     },
     "execution_count": 4,
     "metadata": {},
     "output_type": "execute_result"
    }
   ],
   "source": [
    "data[:3],data[-3:]"
   ]
  },
  {
   "cell_type": "markdown",
   "id": "e31f7cbc-d29d-407b-9a26-4e9dfbebd9f8",
   "metadata": {},
   "source": [
    "## Part 1"
   ]
  },
  {
   "cell_type": "code",
   "execution_count": 5,
   "id": "036a88c1-afc2-48a2-ac62-fbea859b7902",
   "metadata": {},
   "outputs": [],
   "source": [
    "from typing import List, Tuple\n",
    "import copy"
   ]
  },
  {
   "cell_type": "code",
   "execution_count": 6,
   "id": "1ed810de-c5b7-439c-8d9a-961e207a90ca",
   "metadata": {},
   "outputs": [],
   "source": [
    "class Grid:\n",
    "    def __init__(self, initial_state: List[List[int]]):\n",
    "        self.grid=copy.deepcopy(initial_state)\n",
    "        self.rows=len(self.grid)\n",
    "        self.cols=len(self.grid[0])\n",
    "\n",
    "    def get_neigbours_flashed(self, row: int, col: int) -> List[Tuple[int]]:\n",
    "        neighbours=[(y,x) \n",
    "                    for y in range(max(row-1,0),min(row+2,self.rows)) \n",
    "                    for x in range(max(col-1,0),min(col+2, self.cols))\n",
    "                    if self.grid[y][x]>=10\n",
    "                   ]\n",
    "        #neighbours.remove((row,col))\n",
    "        return neighbours        \n",
    "        \n",
    "    def get_neigbours(self, row: int, col: int) -> List[Tuple[int]]:\n",
    "        neighbours=[(y,x) \n",
    "                    for y in range(max(row-1,0),min(row+2,self.rows)) \n",
    "                    for x in range(max(col-1,0),min(col+2, self.cols))\n",
    "                    if self.grid[y][x]!=0\n",
    "                   ]\n",
    "        neighbours.remove((row,col))\n",
    "        return neighbours        \n",
    "        \n",
    "    def increase_energy(self, delta: int =1) -> int:\n",
    "        to_flash=0\n",
    "        for row in range(self.rows):\n",
    "            for col in range(self.cols):\n",
    "                self.grid[row][col]+=1\n",
    "                if self.grid[row][col]>9: to_flash+=1\n",
    "        return to_flash\n",
    "                \n",
    "    def flash_once(self) -> Tuple[int,int]:\n",
    "        to_reset=[]\n",
    "        to_energize=[]\n",
    "        #display(self.grid)\n",
    "        for row in range(self.rows):\n",
    "            for col in range(self.cols):\n",
    "                if self.grid[row][col]>9:\n",
    "                    to_reset.append((row,col))\n",
    "                    to_energize+=self.get_neigbours(row,col)\n",
    "        for energy in to_energize: \n",
    "            self.grid[energy[0]][energy[1]]+=1\n",
    "        #display(self.grid)\n",
    "        for reset in to_reset:\n",
    "            self.grid[reset[0]][reset[1]]=0\n",
    "        #display(self.grid)\n",
    "        \n",
    "        flashed=0\n",
    "        to_flash=0\n",
    "        for row in range(self.rows):\n",
    "            for col in range(self.cols):\n",
    "                if self.grid[row][col]>9: to_flash+=1\n",
    "                if self.grid[row][col]==0: flashed+=1\n",
    "            \n",
    "        return (to_flash, flashed)\n",
    "    \n",
    "    def step(self)->int:\n",
    "        to_flash=self.increase_energy()\n",
    "        flashed=0\n",
    "        while to_flash>0:\n",
    "            #print(f'To flash: {to_flash}')\n",
    "            to_flash, flashed=self.flash_once()\n",
    "        return flashed\n",
    "        "
   ]
  },
  {
   "cell_type": "code",
   "execution_count": 7,
   "id": "ae0d1c38-3fce-443d-ad33-3e927efa88da",
   "metadata": {},
   "outputs": [],
   "source": [
    "octopuses=Grid(data)\n",
    "STEPS=100\n",
    "result=0\n",
    "for step in range(1, STEPS+1):\n",
    "    result+=octopuses.step()\n",
    "    #print(step, result)"
   ]
  },
  {
   "cell_type": "code",
   "execution_count": 8,
   "id": "3696aef5-b423-41b8-ba7f-5dc939a16e32",
   "metadata": {},
   "outputs": [
    {
     "data": {
      "text/plain": [
       "[[6, 8, 0, 0, 0, 2, 1, 1, 4, 9],\n",
       " [8, 0, 0, 0, 4, 2, 1, 5, 5, 1],\n",
       " [2, 3, 4, 3, 2, 1, 5, 3, 5, 1],\n",
       " [1, 1, 1, 1, 1, 5, 3, 3, 6, 1],\n",
       " [1, 1, 1, 1, 5, 3, 3, 5, 1, 1],\n",
       " [1, 1, 1, 5, 3, 2, 4, 1, 1, 1],\n",
       " [1, 1, 6, 3, 2, 2, 4, 1, 1, 1],\n",
       " [2, 2, 6, 3, 2, 2, 3, 5, 1, 6],\n",
       " [0, 4, 4, 6, 5, 5, 5, 5, 6, 2],\n",
       " [3, 0, 0, 0, 0, 2, 1, 1, 5, 0]]"
      ]
     },
     "execution_count": 8,
     "metadata": {},
     "output_type": "execute_result"
    }
   ],
   "source": [
    "octopuses.grid"
   ]
  },
  {
   "cell_type": "code",
   "execution_count": 9,
   "id": "bb6890d4-7048-406d-b70f-ca27bc744dee",
   "metadata": {},
   "outputs": [
    {
     "name": "stdout",
     "output_type": "stream",
     "text": [
      "Result for part 1: 1705\n"
     ]
    }
   ],
   "source": [
    "print(f\"Result for part 1: {result}\")"
   ]
  },
  {
   "cell_type": "markdown",
   "id": "2cf9e844-873f-46ef-b072-0f89f46f283a",
   "metadata": {},
   "source": [
    "## Part 2"
   ]
  },
  {
   "cell_type": "code",
   "execution_count": null,
   "id": "2b6df721-6b77-4fd6-a17a-5428327126dc",
   "metadata": {},
   "outputs": [],
   "source": []
  },
  {
   "cell_type": "code",
   "execution_count": 10,
   "id": "0a32f035-ace7-4a8a-8624-119f393e661d",
   "metadata": {},
   "outputs": [],
   "source": [
    "octopuses=Grid(data)\n",
    "expected_flashes=len(data)*len(data[0])\n",
    "result=1\n",
    "flashed=octopuses.step()\n",
    "while flashed!=expected_flashes:\n",
    "    result+=1\n",
    "    flashed=octopuses.step()\n",
    "    #print(flashed, result)"
   ]
  },
  {
   "cell_type": "code",
   "execution_count": 12,
   "id": "5571bd45-24f1-4c33-9779-0f31aa7e4851",
   "metadata": {},
   "outputs": [
    {
     "data": {
      "text/plain": [
       "[[0, 0, 0, 0, 0, 0, 0, 0, 0, 0],\n",
       " [0, 0, 0, 0, 0, 0, 0, 0, 0, 0],\n",
       " [0, 0, 0, 0, 0, 0, 0, 0, 0, 0],\n",
       " [0, 0, 0, 0, 0, 0, 0, 0, 0, 0],\n",
       " [0, 0, 0, 0, 0, 0, 0, 0, 0, 0],\n",
       " [0, 0, 0, 0, 0, 0, 0, 0, 0, 0],\n",
       " [0, 0, 0, 0, 0, 0, 0, 0, 0, 0],\n",
       " [0, 0, 0, 0, 0, 0, 0, 0, 0, 0],\n",
       " [0, 0, 0, 0, 0, 0, 0, 0, 0, 0],\n",
       " [0, 0, 0, 0, 0, 0, 0, 0, 0, 0]]"
      ]
     },
     "execution_count": 12,
     "metadata": {},
     "output_type": "execute_result"
    }
   ],
   "source": [
    "octopuses.grid"
   ]
  },
  {
   "cell_type": "code",
   "execution_count": 11,
   "id": "85b8d65e-87ad-4fbb-b9de-1e6570da3257",
   "metadata": {},
   "outputs": [
    {
     "name": "stdout",
     "output_type": "stream",
     "text": [
      "Result for part 2: 265\n"
     ]
    }
   ],
   "source": [
    "print(f\"Result for part 2: {result}\")"
   ]
  }
 ],
 "metadata": {
  "kernelspec": {
   "display_name": "Python 3 (ipykernel)",
   "language": "python",
   "name": "python3"
  },
  "language_info": {
   "codemirror_mode": {
    "name": "ipython",
    "version": 3
   },
   "file_extension": ".py",
   "mimetype": "text/x-python",
   "name": "python",
   "nbconvert_exporter": "python",
   "pygments_lexer": "ipython3",
   "version": "3.10.0"
  }
 },
 "nbformat": 4,
 "nbformat_minor": 5
}
