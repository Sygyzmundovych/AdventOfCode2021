{
 "cells": [
  {
   "cell_type": "code",
   "execution_count": 1,
   "id": "75561c94-28fa-43fe-aaa2-286fd74ba268",
   "metadata": {},
   "outputs": [],
   "source": [
    "# Test\n",
    "file_name=\"./aoc_2113_test.txt\"\n",
    "# Prod\n",
    "file_name=\"./aoc_2113_prod.txt\""
   ]
  },
  {
   "cell_type": "code",
   "execution_count": 2,
   "id": "3ff53436-4476-46ce-8bbe-67358bb3f243",
   "metadata": {},
   "outputs": [],
   "source": [
    "with open(file_name) as f:\n",
    "    paragraphs=[line for line in f.read().split('\\n\\n')]\n",
    "    f.close()\n",
    "\n",
    "# Check\n",
    "#display(paragraphs)"
   ]
  },
  {
   "cell_type": "code",
   "execution_count": 3,
   "id": "5172b043-7df5-4da8-ab1b-68bb8bc1c2e3",
   "metadata": {},
   "outputs": [],
   "source": [
    "#paragraphs[0], paragraphs[1]"
   ]
  },
  {
   "cell_type": "code",
   "execution_count": 4,
   "id": "b3f05f48-752b-4961-9ca1-53fb7be63370",
   "metadata": {},
   "outputs": [],
   "source": [
    "data={tuple(int(number) for number in pair.split(',')) :1 for pair in paragraphs[0].split('\\n')}"
   ]
  },
  {
   "cell_type": "code",
   "execution_count": 5,
   "id": "146b2df7-ce50-4b2b-ace5-d1ca0d9b2453",
   "metadata": {
    "tags": []
   },
   "outputs": [],
   "source": [
    "#Check\n",
    "#data"
   ]
  },
  {
   "cell_type": "code",
   "execution_count": 6,
   "id": "40304acd-370a-44db-9a8d-83a951190af8",
   "metadata": {},
   "outputs": [],
   "source": [
    "instructions=[tuple(parts.split()[-1] for parts in instruction.split('=')) for instruction in paragraphs[1].split('\\n')]"
   ]
  },
  {
   "cell_type": "code",
   "execution_count": 7,
   "id": "5935585d-510e-47cc-adcd-5c4aa00033c0",
   "metadata": {},
   "outputs": [
    {
     "data": {
      "text/plain": [
       "[('x', '655'),\n",
       " ('y', '447'),\n",
       " ('x', '327'),\n",
       " ('y', '223'),\n",
       " ('x', '163'),\n",
       " ('y', '111'),\n",
       " ('x', '81'),\n",
       " ('y', '55'),\n",
       " ('x', '40'),\n",
       " ('y', '27'),\n",
       " ('y', '13'),\n",
       " ('y', '6')]"
      ]
     },
     "execution_count": 7,
     "metadata": {},
     "output_type": "execute_result"
    }
   ],
   "source": [
    "instructions"
   ]
  },
  {
   "cell_type": "markdown",
   "id": "e31f7cbc-d29d-407b-9a26-4e9dfbebd9f8",
   "metadata": {},
   "source": [
    "## Part 1"
   ]
  },
  {
   "cell_type": "code",
   "execution_count": 8,
   "id": "9436eeea-6d3b-40a0-90cc-bea9f993162d",
   "metadata": {},
   "outputs": [],
   "source": [
    "from typing import Dict, Tuple"
   ]
  },
  {
   "cell_type": "code",
   "execution_count": 9,
   "id": "1ed810de-c5b7-439c-8d9a-961e207a90ca",
   "metadata": {},
   "outputs": [],
   "source": [
    "def fold(axis: str, location: int, paper: Dict[Tuple, int]) -> Dict[Tuple, int]:\n",
    "    new_paper=dict()\n",
    "    position=(axis=='y')\n",
    "    for dot in paper:\n",
    "        if dot[position]>location:\n",
    "            new_dot=list(dot)\n",
    "            new_dot[position]=location-(dot[position]-location)\n",
    "            new_paper[tuple(new_dot)]=paper[dot]\n",
    "        else:\n",
    "            new_paper[dot]=paper[dot]\n",
    "    return new_paper"
   ]
  },
  {
   "cell_type": "code",
   "execution_count": 10,
   "id": "90b704c8-d5c4-4644-8a3c-ceda01004579",
   "metadata": {},
   "outputs": [],
   "source": [
    "folded_data=fold(instructions[0][0], int(instructions[0][1]), data)"
   ]
  },
  {
   "cell_type": "code",
   "execution_count": 11,
   "id": "a0f8fa9a-5b2f-4bbc-809d-7f4efee122fa",
   "metadata": {
    "tags": []
   },
   "outputs": [
    {
     "data": {
      "text/plain": [
       "[(513, 352), (70, 595), (261, 372)]"
      ]
     },
     "execution_count": 11,
     "metadata": {},
     "output_type": "execute_result"
    }
   ],
   "source": [
    "#Check\n",
    "list(folded_data)[:3]"
   ]
  },
  {
   "cell_type": "code",
   "execution_count": 12,
   "id": "1d87bf90-6f38-4123-8212-97ebeaa4b6ad",
   "metadata": {},
   "outputs": [],
   "source": [
    "result=len(folded_data)"
   ]
  },
  {
   "cell_type": "code",
   "execution_count": 13,
   "id": "bb6890d4-7048-406d-b70f-ca27bc744dee",
   "metadata": {},
   "outputs": [
    {
     "name": "stdout",
     "output_type": "stream",
     "text": [
      "Result for part 1: 592\n"
     ]
    }
   ],
   "source": [
    "print(f\"Result for part 1: {result}\")"
   ]
  },
  {
   "cell_type": "markdown",
   "id": "2cf9e844-873f-46ef-b072-0f89f46f283a",
   "metadata": {},
   "source": [
    "## Part 2"
   ]
  },
  {
   "cell_type": "code",
   "execution_count": 14,
   "id": "3f5094e4-f4c8-47f1-bd95-5bd6c7bf985d",
   "metadata": {},
   "outputs": [],
   "source": [
    "folded_data=data.copy()"
   ]
  },
  {
   "cell_type": "code",
   "execution_count": 15,
   "id": "db03e153-91b8-402d-aa93-d9bff974a162",
   "metadata": {},
   "outputs": [],
   "source": [
    "for instruction in instructions:\n",
    "    #print(instruction[0], int(instruction[1]))\n",
    "    folded_data=fold(instruction[0], int(instruction[1]), folded_data)"
   ]
  },
  {
   "cell_type": "code",
   "execution_count": 16,
   "id": "e4975f1e-82dd-47d8-bc8e-be2976856899",
   "metadata": {},
   "outputs": [],
   "source": [
    "#folded_data"
   ]
  },
  {
   "cell_type": "code",
   "execution_count": 17,
   "id": "aab6b536-dfb9-4c09-bea7-900757a5acb9",
   "metadata": {},
   "outputs": [
    {
     "data": {
      "text/plain": [
       "(6, 39)"
      ]
     },
     "execution_count": 17,
     "metadata": {},
     "output_type": "execute_result"
    }
   ],
   "source": [
    "dots_locations=folded_data.keys()\n",
    "y_max=max([k[1] for k in dots_locations])+1\n",
    "x_max=max([k[0] for k in dots_locations])+1\n",
    "y_max, x_max"
   ]
  },
  {
   "cell_type": "code",
   "execution_count": 18,
   "id": "6f2d4920-dff6-4da4-ae00-0837a28d0045",
   "metadata": {},
   "outputs": [],
   "source": [
    "paper_says=[['*' if (x,y) in dots_locations else ' ' \n",
    "             for x in range(x_max)] \n",
    "            for y in range(y_max)]"
   ]
  },
  {
   "cell_type": "code",
   "execution_count": 19,
   "id": "062c05ed-36a3-4409-bcce-e7aa984f857b",
   "metadata": {},
   "outputs": [],
   "source": [
    "result=''\n",
    "for line in paper_says:\n",
    "    result+=''.join(line)+'\\n'"
   ]
  },
  {
   "cell_type": "code",
   "execution_count": 20,
   "id": "85b8d65e-87ad-4fbb-b9de-1e6570da3257",
   "metadata": {},
   "outputs": [
    {
     "name": "stdout",
     "output_type": "stream",
     "text": [
      "Result for part 2: \n",
      "  **  **   **    ** **** **** *  * *  *\n",
      "   * *  * *  *    * *    *    * *  *  *\n",
      "   * *    *  *    * ***  ***  **   *  *\n",
      "   * * ** ****    * *    *    * *  *  *\n",
      "*  * *  * *  * *  * *    *    * *  *  *\n",
      " **   *** *  *  **  **** *    *  *  ** \n",
      "\n"
     ]
    }
   ],
   "source": [
    "print(f\"Result for part 2: \\n{result}\")"
   ]
  }
 ],
 "metadata": {
  "kernelspec": {
   "display_name": "Python 3 (ipykernel)",
   "language": "python",
   "name": "python3"
  },
  "language_info": {
   "codemirror_mode": {
    "name": "ipython",
    "version": 3
   },
   "file_extension": ".py",
   "mimetype": "text/x-python",
   "name": "python",
   "nbconvert_exporter": "python",
   "pygments_lexer": "ipython3",
   "version": "3.10.0"
  }
 },
 "nbformat": 4,
 "nbformat_minor": 5
}
