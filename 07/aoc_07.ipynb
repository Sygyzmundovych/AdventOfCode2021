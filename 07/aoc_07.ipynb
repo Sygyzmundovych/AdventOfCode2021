{
 "cells": [
  {
   "cell_type": "code",
   "execution_count": 1,
   "id": "75561c94-28fa-43fe-aaa2-286fd74ba268",
   "metadata": {},
   "outputs": [],
   "source": [
    "# Test\n",
    "file_name=\"./aoc_2107_test.txt\"\n",
    "# Prod\n",
    "file_name=\"./aoc_2107_prod.txt\""
   ]
  },
  {
   "cell_type": "code",
   "execution_count": 2,
   "id": "3ff53436-4476-46ce-8bbe-67358bb3f243",
   "metadata": {},
   "outputs": [
    {
     "data": {
      "text/plain": [
       "['1101,1,29,67,1102,0,1,65,1008,65,35,66,1005,66,28,1,67,65,20,4,0,1001,65,1,65,1106,0,8,99,35,67,101,99,105,32,110,39,101,115,116,32,112,97,115,32,117,110,101,32,105,110,116,99,111,100,101,32,112,114,111,103,114,97,109,10,209,573,1277,704,518,276,196,62,1226,170,58,1450,101,65,99,435,986,1437,1570,35,354,247,110,105,139,1209,23,1074,339,69,483,21,33,323,1348,111,2,270,1239,316,529,1680,1056,1960,257,1009,1073,59,425,1181,198,31,299,771,53,817,728,931,72,517,39,279,304,401,1271,533,1551,133,297,162,902,370,985,643,1217,78,16,380,223,177,600,349,12,776,26,1738,526,85,1542,111,844,93,595,1545,873,836,422,180,1187,329,231,1521,54,162,212,471,1329,156,1299,160,541,676,67,200,22,24,76,242,178,1093,1173,818,1380,284,335,642,1047,112,271,541,927,52,983,238,116,135,871,400,436,1094,684,249,263,303,24,437,813,32,45,19,620,57,866,44,68,277,1112,110,77,1481,437,302,678,541,904,322,13,186,1474,836,43,1020,201,1586,1169,1149,470,535,55,879,133,1229,106,989,1023,256,103,56,401,667,557,98,288,694,286,237,1661,933,1063,20,227,80,815,289,1414,234,517,227,616,829,191,1211,92,591,279,22,139,67,214,60,145,468,10,521,807,1243,76,163,190,122,804,88,383,319,1127,399,376,423,304,126,10,297,377,1103,691,139,70,519,16,15,43,397,468,1183,90,28,1262,151,1448,62,64,1072,386,1330,1313,12,100,657,28,55,612,337,1865,704,263,565,249,564,565,1218,40,1146,150,718,1253,228,120,713,925,159,36,1087,1023,1490,316,540,1124,1127,781,417,656,0,174,1006,529,389,86,90,78,403,1500,253,35,655,650,933,815,108,168,321,345,147,251,258,25,173,243,740,48,476,1507,634,425,738,160,1415,395,448,156,636,1967,516,316,628,810,817,26,20,753,22,1133,352,204,211,47,22,874,43,12,18,1015,779,108,579,251,1398,33,1507,93,274,904,221,1062,868,3,363,42,14,435,62,1508,540,64,267,1690,418,205,502,152,142,414,178,50,344,780,81,635,128,355,239,1708,1814,29,251,624,22,38,789,948,186,529,895,76,150,416,502,975,1216,456,862,522,1149,131,10,121,1353,313,568,595,6,318,633,331,1652,656,214,21,35,289,80,860,229,244,1188,350,594,424,235,327,6,1083,40,134,839,279,172,1452,197,47,2,73,607,238,1151,844,533,110,1207,125,129,16,1000,965,236,228,497,589,111,1245,453,179,956,116,212,47,497,380,574,355,799,209,384,47,449,688,312,748,1531,1092,23,1001,69,155,924,1352,163,1561,743,609,1261,1231,32,1,739,513,300,370,36,568,89,487,201,11,146,274,163,1029,829,469,299,118,732,769,120,1093,776,610,1944,90,67,494,831,88,227,1257,344,662,401,310,664,56,94,183,935,179,643,4,1083,567,1525,208,204,899,123,36,438,1171,265,1406,177,202,1398,631,444,385,589,29,124,96,237,374,793,794,502,665,287,575,113,305,157,465,376,66,662,77,595,75,141,243,254,30,5,622,140,443,566,360,192,1531,1113,1299,598,147,469,732,1565,409,1380,550,173,232,361,131,99,37,547,132,1779,193,228,664,553,568,389,1069,58,71,610,738,624,261,491,158,105,416,131,198,35,823,9,313,6,429,1492,290,313,272,281,427,280,661,141,54,383,3,130,43,418,2,1040,1051,1006,38,151,1325,1357,117,1473,175,201,613,1458,1218,588,169,228,565,901,420,42,117,110,442,9,99,1685,979,84,35,129,248,1,21,360,123,203,1320,1200,209,510,362,106,148,313,292,63,842,93,88,134,720,565,156,118,983,119,1451,757,736,445,466,226,265,573,612,652,170,225,32,1049,1332,366,1375,692,270,388,321,1153,909,1266,93,5,495,377,212,429,90,199,278,631,693,63,816,395,281,315,0,737,575,121,865,1,485,262,49,804,518,109,600,358,221,14,370,450,947,448,67,576,22,1266,226,100,10,607,620,295,568,316,51,687,199,1478,45,489,1878,1035,298,219,363,85,664,1290,492,70,644,78,163,100,102,465,732,439,93,25,847,297,172,361,393,304,461,583,122,121,762,58,112,85,142,48,193,1617,386,685,1054,584,488,394,665,277,263,596,290,1231,171,1394,9,1218,77,54,487,182,528,695,662,413,345,51,690,1702,203,1500,461,1755,190,371,1122,1614,324,238,569,1482,15,711,1332,700,437,242,174,642,660,987,1232,121,620,17,389,22,105,847,36,251,285,1238,162,1227,1473,411,66,258,377,1135,438,117,664,281,1070,301,132,256,498,172,194,103,662,606,342,340,1501,802,549,380,58,179,361']"
      ]
     },
     "execution_count": 2,
     "metadata": {},
     "output_type": "execute_result"
    }
   ],
   "source": [
    "with open(file_name) as f:\n",
    "    raw_data=[line for line in f.read().splitlines()]\n",
    "    f.close()\n",
    "\n",
    "raw_data[:3]"
   ]
  },
  {
   "cell_type": "code",
   "execution_count": 3,
   "id": "9818331d-443d-4430-9583-84f8230d6d02",
   "metadata": {},
   "outputs": [],
   "source": [
    "data=[int(timer) for line in raw_data for timer in line.split(',')]"
   ]
  },
  {
   "cell_type": "code",
   "execution_count": 4,
   "id": "146b2df7-ce50-4b2b-ace5-d1ca0d9b2453",
   "metadata": {
    "tags": []
   },
   "outputs": [
    {
     "data": {
      "text/plain": [
       "([1101, 1, 29], [58, 179, 361])"
      ]
     },
     "execution_count": 4,
     "metadata": {},
     "output_type": "execute_result"
    }
   ],
   "source": [
    "data[:3],data[-3:]"
   ]
  },
  {
   "cell_type": "markdown",
   "id": "e31f7cbc-d29d-407b-9a26-4e9dfbebd9f8",
   "metadata": {},
   "source": [
    "## Part 1 (Cheating with statistics?)"
   ]
  },
  {
   "cell_type": "code",
   "execution_count": 5,
   "id": "7c1c4f1a-1d9e-408d-886b-106fb33b15fe",
   "metadata": {},
   "outputs": [],
   "source": [
    "import statistics"
   ]
  },
  {
   "cell_type": "code",
   "execution_count": 6,
   "id": "7561f8fa-e04a-4220-a52f-d500d8d47be0",
   "metadata": {},
   "outputs": [],
   "source": [
    "med=int(statistics.median(data))"
   ]
  },
  {
   "cell_type": "code",
   "execution_count": 7,
   "id": "553eb408-890d-48fe-be0f-1f0da611429b",
   "metadata": {},
   "outputs": [],
   "source": [
    "total_cost=sum([abs(med-position) for position in data])"
   ]
  },
  {
   "cell_type": "code",
   "execution_count": 8,
   "id": "19b7e250-2bc7-44b1-a057-6fb5b450be4a",
   "metadata": {},
   "outputs": [],
   "source": [
    "result=total_cost"
   ]
  },
  {
   "cell_type": "code",
   "execution_count": 9,
   "id": "bb6890d4-7048-406d-b70f-ca27bc744dee",
   "metadata": {},
   "outputs": [
    {
     "name": "stdout",
     "output_type": "stream",
     "text": [
      "Result for part 1: 343441\n"
     ]
    }
   ],
   "source": [
    "print(f\"Result for part 1: {result}\")"
   ]
  },
  {
   "cell_type": "markdown",
   "id": "a68ab4bc-46f0-4a17-88d6-6463ba9cf717",
   "metadata": {},
   "source": [
    "## Part 1 (Combinatorial)"
   ]
  },
  {
   "cell_type": "code",
   "execution_count": 10,
   "id": "141ac92d-5082-46fc-9b50-386d1f3a8151",
   "metadata": {},
   "outputs": [],
   "source": [
    "def cost_of_path_liniar(length=0) -> int:\n",
    "    return length"
   ]
  },
  {
   "cell_type": "code",
   "execution_count": 11,
   "id": "d97fec50-517d-4a7d-a525-c794aa251932",
   "metadata": {},
   "outputs": [],
   "source": [
    "def cost_for_level(func_cost, positions: list, level=0) -> int:\n",
    "    return sum([func_cost(abs(level-positions[i])) for i in range(len(positions))])"
   ]
  },
  {
   "cell_type": "code",
   "execution_count": 12,
   "id": "3f9abb86-ffaf-4394-a5c8-a6aebf3ed501",
   "metadata": {},
   "outputs": [
    {
     "data": {
      "text/plain": [
       "471643"
      ]
     },
     "execution_count": 12,
     "metadata": {},
     "output_type": "execute_result"
    }
   ],
   "source": [
    "cost_for_level(cost_of_path_liniar, data, 2)"
   ]
  },
  {
   "cell_type": "code",
   "execution_count": 13,
   "id": "2f752428-1c77-4195-95f1-3ffb2953497d",
   "metadata": {},
   "outputs": [
    {
     "name": "stdout",
     "output_type": "stream",
     "text": [
      "CPU times: user 317 ms, sys: 3.75 ms, total: 320 ms\n",
      "Wall time: 319 ms\n"
     ]
    }
   ],
   "source": [
    "%%time\n",
    "costs=[(cost_for_level(cost_of_path_liniar, data, i), i) for i in range(min(data),max(data))]"
   ]
  },
  {
   "cell_type": "code",
   "execution_count": 14,
   "id": "02381a3a-8fc0-4bac-bec3-e00efa0b28a1",
   "metadata": {},
   "outputs": [],
   "source": [
    "result=min(costs)[0]"
   ]
  },
  {
   "cell_type": "code",
   "execution_count": 15,
   "id": "2864601c-a415-47b4-8b91-ad7471f21f0d",
   "metadata": {},
   "outputs": [
    {
     "name": "stdout",
     "output_type": "stream",
     "text": [
      "Result for part 1: 343441\n"
     ]
    }
   ],
   "source": [
    "print(f\"Result for part 1: {result}\")"
   ]
  },
  {
   "cell_type": "markdown",
   "id": "42566fca-c215-490a-8395-ad3929d75543",
   "metadata": {},
   "source": [
    "## Part 2 (compute every time)"
   ]
  },
  {
   "cell_type": "code",
   "execution_count": 16,
   "id": "5894cd56-83f9-466f-8dad-38a10d878c29",
   "metadata": {},
   "outputs": [],
   "source": [
    "def cost_of_path_incremental(length=0) -> int:\n",
    "    return sum(range(length+1))"
   ]
  },
  {
   "cell_type": "code",
   "execution_count": 17,
   "id": "c2346fc7-244e-43ec-b596-18859719575c",
   "metadata": {},
   "outputs": [
    {
     "name": "stdout",
     "output_type": "stream",
     "text": [
      "0 0\n",
      "1 1\n",
      "2 3\n",
      "3 6\n",
      "4 10\n",
      "5 15\n"
     ]
    }
   ],
   "source": [
    "for i in range(6): print(i, cost_of_path_incremental(i))"
   ]
  },
  {
   "cell_type": "code",
   "execution_count": 18,
   "id": "6cd9c2d5-df02-4b83-972b-406685b3f9d3",
   "metadata": {},
   "outputs": [
    {
     "data": {
      "text/plain": [
       "210187965"
      ]
     },
     "execution_count": 18,
     "metadata": {},
     "output_type": "execute_result"
    }
   ],
   "source": [
    "cost_for_level(cost_of_path_incremental, data, 2)"
   ]
  },
  {
   "cell_type": "code",
   "execution_count": 19,
   "id": "f3d91b52-b98e-4572-9f93-cc0da2b2a0f4",
   "metadata": {},
   "outputs": [
    {
     "name": "stdout",
     "output_type": "stream",
     "text": [
      "CPU times: user 18.7 s, sys: 29.4 ms, total: 18.7 s\n",
      "Wall time: 18.8 s\n"
     ]
    }
   ],
   "source": [
    "%%time\n",
    "costs=[(cost_for_level(cost_of_path_incremental, data, i), i) for i in range(min(data),max(data))]"
   ]
  },
  {
   "cell_type": "code",
   "execution_count": 20,
   "id": "9d6d886c-f66c-4305-a19d-a363fd708c8c",
   "metadata": {},
   "outputs": [
    {
     "data": {
      "text/plain": [
       "(98925151, 473)"
      ]
     },
     "execution_count": 20,
     "metadata": {},
     "output_type": "execute_result"
    }
   ],
   "source": [
    "min(costs)"
   ]
  },
  {
   "cell_type": "code",
   "execution_count": 21,
   "id": "45ca4355-b61b-4372-b0fc-5716f03c6d57",
   "metadata": {
    "tags": []
   },
   "outputs": [],
   "source": [
    "result=min(costs)[0]"
   ]
  },
  {
   "cell_type": "code",
   "execution_count": 22,
   "id": "49c45c9b-3a4d-4698-931e-f777dac41cda",
   "metadata": {},
   "outputs": [
    {
     "name": "stdout",
     "output_type": "stream",
     "text": [
      "Result for part 2: 98925151\n"
     ]
    }
   ],
   "source": [
    "print(f\"Result for part 2: {result}\")"
   ]
  },
  {
   "cell_type": "markdown",
   "id": "c19d3f96-aacb-4b56-a9f1-e1209a4bb643",
   "metadata": {},
   "source": [
    "## Part 2 (store all costs)"
   ]
  },
  {
   "cell_type": "code",
   "execution_count": 23,
   "id": "2faab24a-93a2-4303-96ff-994990a66ec5",
   "metadata": {},
   "outputs": [],
   "source": [
    "def cost_of_path_incremental(length=0) -> int:\n",
    "    return sum(range(length+1))"
   ]
  },
  {
   "cell_type": "code",
   "execution_count": 24,
   "id": "bbf412ec-2148-4d9f-b38c-18bfe4b05e1f",
   "metadata": {},
   "outputs": [],
   "source": [
    "COST_OF_PATH={i: cost_of_path_incremental(i) for i in range(min(data),max(data)+1)}"
   ]
  },
  {
   "cell_type": "code",
   "execution_count": 25,
   "id": "ed3c3495-1657-4784-abcc-3716f6103be8",
   "metadata": {},
   "outputs": [
    {
     "data": {
      "text/plain": [
       "3"
      ]
     },
     "execution_count": 25,
     "metadata": {},
     "output_type": "execute_result"
    }
   ],
   "source": [
    "COST_OF_PATH.get(2)"
   ]
  },
  {
   "cell_type": "code",
   "execution_count": 26,
   "id": "f7a22532-b09b-406b-a291-22b6db2f88e6",
   "metadata": {},
   "outputs": [],
   "source": [
    "def cost_of_path_incremental_const(length=0) -> int:\n",
    "    return COST_OF_PATH.get(length)"
   ]
  },
  {
   "cell_type": "code",
   "execution_count": 27,
   "id": "14d86972-6f12-4377-acc4-b6b78863fd82",
   "metadata": {},
   "outputs": [
    {
     "data": {
      "text/plain": [
       "210187965"
      ]
     },
     "execution_count": 27,
     "metadata": {},
     "output_type": "execute_result"
    }
   ],
   "source": [
    "cost_for_level(cost_of_path_incremental_const, data, 2)"
   ]
  },
  {
   "cell_type": "code",
   "execution_count": 28,
   "id": "2995fddb-4f01-4dac-9525-a393d40af5a1",
   "metadata": {},
   "outputs": [
    {
     "name": "stdout",
     "output_type": "stream",
     "text": [
      "CPU times: user 397 ms, sys: 2.39 ms, total: 399 ms\n",
      "Wall time: 399 ms\n"
     ]
    }
   ],
   "source": [
    "%%time\n",
    "costs=[(cost_for_level(cost_of_path_incremental_const, data, i), i) for i in range(min(data),max(data))]"
   ]
  },
  {
   "cell_type": "code",
   "execution_count": 29,
   "id": "1b661b77-9e64-48b9-8c46-de966c8d6837",
   "metadata": {},
   "outputs": [
    {
     "data": {
      "text/plain": [
       "(98925151, 473)"
      ]
     },
     "execution_count": 29,
     "metadata": {},
     "output_type": "execute_result"
    }
   ],
   "source": [
    "min(costs)"
   ]
  },
  {
   "cell_type": "code",
   "execution_count": 30,
   "id": "988abe32-0cd7-4e84-acc2-73d36afb6a58",
   "metadata": {
    "tags": []
   },
   "outputs": [],
   "source": [
    "result=min(costs)[0]"
   ]
  },
  {
   "cell_type": "code",
   "execution_count": 31,
   "id": "3765bee3-de18-4246-b7c5-4f7cacbb1e92",
   "metadata": {},
   "outputs": [
    {
     "name": "stdout",
     "output_type": "stream",
     "text": [
      "Result for part 2: 98925151\n"
     ]
    }
   ],
   "source": [
    "print(f\"Result for part 2: {result}\")"
   ]
  },
  {
   "cell_type": "code",
   "execution_count": null,
   "id": "ddb1f01e-9278-4f50-99ff-31a45446ecde",
   "metadata": {},
   "outputs": [],
   "source": []
  }
 ],
 "metadata": {
  "kernelspec": {
   "display_name": "Python 3 (ipykernel)",
   "language": "python",
   "name": "python3"
  },
  "language_info": {
   "codemirror_mode": {
    "name": "ipython",
    "version": 3
   },
   "file_extension": ".py",
   "mimetype": "text/x-python",
   "name": "python",
   "nbconvert_exporter": "python",
   "pygments_lexer": "ipython3",
   "version": "3.10.0"
  }
 },
 "nbformat": 4,
 "nbformat_minor": 5
}
