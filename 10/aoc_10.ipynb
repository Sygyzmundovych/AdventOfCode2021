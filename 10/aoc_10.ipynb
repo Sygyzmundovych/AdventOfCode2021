{
 "cells": [
  {
   "cell_type": "code",
   "execution_count": 1,
   "id": "75561c94-28fa-43fe-aaa2-286fd74ba268",
   "metadata": {},
   "outputs": [],
   "source": [
    "# Test\n",
    "file_name=\"./aoc_2110_test.txt\"\n",
    "# Prod\n",
    "file_name=\"./aoc_2110_prod.txt\""
   ]
  },
  {
   "cell_type": "code",
   "execution_count": 2,
   "id": "3ff53436-4476-46ce-8bbe-67358bb3f243",
   "metadata": {},
   "outputs": [
    {
     "data": {
      "text/plain": [
       "['[{(<<{(([<<{<<[]()>[<>[]]>[[<>[]]{{}{}}]}<<[<>()][{}]><[<>{}]<<>()>>>>([<([]<>)([][])>(<<>[]>([]()))]<[',\n",
       " '{([[[{{([{{{([[]()][()<>])}[<<(){}><<>()>>{{[]<>}[(){}]}]}<<(<<>[]>{[][]}){<<>()>({}()}}><{',\n",
       " '{[[([{([<(<{{[{}{}]<[]()>}(<<>[]><<>()>)}(<[<><>](<>[])><<(){}>{(){}}>)>{{[({}[]){[][]}]({()<>}<[]<>>)}})>({(']"
      ]
     },
     "metadata": {},
     "output_type": "display_data"
    }
   ],
   "source": [
    "with open(file_name) as f:\n",
    "    raw_data=[line for line in f.read().splitlines()]\n",
    "    f.close()\n",
    "\n",
    "# Check\n",
    "display(raw_data[:3])"
   ]
  },
  {
   "cell_type": "markdown",
   "id": "e31f7cbc-d29d-407b-9a26-4e9dfbebd9f8",
   "metadata": {},
   "source": [
    "## Part 1"
   ]
  },
  {
   "cell_type": "code",
   "execution_count": 3,
   "id": "1ed810de-c5b7-439c-8d9a-961e207a90ca",
   "metadata": {},
   "outputs": [],
   "source": [
    "class Navigation:\n",
    "    def __init__(self):\n",
    "        self.LEGAL_PAIRS=(\n",
    "            ('(',')',3,1), \n",
    "            ('[',']',57,2), \n",
    "            ('{','}',1197,3), \n",
    "            ('<','>',25137,4)\n",
    "        )\n",
    "        self.CHARS_OPEN= ''.join([lp[0] for lp in self.LEGAL_PAIRS])\n",
    "        self.CHARS_CLOSE=''.join([lp[1] for lp in self.LEGAL_PAIRS])\n",
    "        self.BRACKETS={pair[1]:{\"open\": pair[0], \"points\": pair[2]} for pair in self.LEGAL_PAIRS}\n",
    "        self.COMPLETION={pair[0]:{\"close\": pair[1], \"points\": pair[3]} for pair in self.LEGAL_PAIRS}\n",
    "        # Check\n",
    "        print(self.BRACKETS)\n",
    "        print(self.COMPLETION)\n",
    "        \n",
    "    def validate_line(self, line: str):\n",
    "        stack=list()\n",
    "        for char in line:\n",
    "            if char in self.CHARS_OPEN:\n",
    "                stack.append(char)\n",
    "                # print(char, ''.join(stack))\n",
    "            elif char in self.CHARS_CLOSE:\n",
    "                removed=stack.pop()\n",
    "                #print(f\"Closing {char} and last elem {removed} comparing to {self.BRACKETS[char]['open']}\")\n",
    "                # print(char, ''.join(stack))\n",
    "                if (removed!=self.BRACKETS[char]['open']):\n",
    "                    return (\"corrupted\", self.BRACKETS[char]['points'])\n",
    "            else:\n",
    "                raise Exception(\"Wrong char\")\n",
    "        if len(stack)==0:\n",
    "            return (\"valid\", stack)\n",
    "        else: return (\"incomplete\", stack)"
   ]
  },
  {
   "cell_type": "code",
   "execution_count": 4,
   "id": "75199b62-8f35-4f9f-b54e-20eddd4f389a",
   "metadata": {},
   "outputs": [
    {
     "name": "stdout",
     "output_type": "stream",
     "text": [
      "{')': {'open': '(', 'points': 3}, ']': {'open': '[', 'points': 57}, '}': {'open': '{', 'points': 1197}, '>': {'open': '<', 'points': 25137}}\n",
      "{'(': {'close': ')', 'points': 1}, '[': {'close': ']', 'points': 2}, '{': {'close': '}', 'points': 3}, '<': {'close': '>', 'points': 4}}\n"
     ]
    }
   ],
   "source": [
    "navi=Navigation()"
   ]
  },
  {
   "cell_type": "code",
   "execution_count": 5,
   "id": "2747875c-7cdd-4fab-9ec2-4659ebdb0bb9",
   "metadata": {},
   "outputs": [],
   "source": [
    "result=0\n",
    "data_incomplete=[]\n",
    "for line in raw_data:\n",
    "    validation=navi.validate_line(line)\n",
    "    if validation[0]=='corrupted': result+=validation[1]\n",
    "    elif validation[0]=='incomplete': data_incomplete.append(validation[1])\n",
    "    else: pass"
   ]
  },
  {
   "cell_type": "code",
   "execution_count": 6,
   "id": "bb6890d4-7048-406d-b70f-ca27bc744dee",
   "metadata": {},
   "outputs": [
    {
     "name": "stdout",
     "output_type": "stream",
     "text": [
      "Result for part 1: 369105\n"
     ]
    }
   ],
   "source": [
    "print(f\"Result for part 1: {result}\")"
   ]
  },
  {
   "cell_type": "markdown",
   "id": "2cf9e844-873f-46ef-b072-0f89f46f283a",
   "metadata": {},
   "source": [
    "## Part 2"
   ]
  },
  {
   "cell_type": "code",
   "execution_count": 7,
   "id": "f4350cf9-b79c-4515-8421-106ee016043b",
   "metadata": {},
   "outputs": [
    {
     "data": {
      "text/plain": [
       "[['[', '{', '(', '<', '<', '{', '(', '(', '[', '<', '(', '<', '['],\n",
       " ['{', '[', '[', '(', '[', '{', '(', '[', '(', '{', '('],\n",
       " ['{', '[', '<', '(', '[', '(', '<', '<', '{', '<', '(', '[', '{', '(', '{']]"
      ]
     },
     "execution_count": 7,
     "metadata": {},
     "output_type": "execute_result"
    }
   ],
   "source": [
    "# Check \n",
    "data_incomplete[:3]"
   ]
  },
  {
   "cell_type": "code",
   "execution_count": 8,
   "id": "570b02a0-dae6-40f5-9a56-5825c246152f",
   "metadata": {},
   "outputs": [
    {
     "data": {
      "text/plain": [
       "[702059292, 16198313, 20380457738]"
      ]
     },
     "execution_count": 8,
     "metadata": {},
     "output_type": "execute_result"
    }
   ],
   "source": [
    "scores=[]\n",
    "for line in data_incomplete:\n",
    "    #print(''.join(line))\n",
    "    total_score=0\n",
    "    for i in range(len(line)-1,-1,-1): \n",
    "        total_score=total_score*5+navi.COMPLETION[line[i]]['points']\n",
    "        #print (navi.COMPLETION[line[i]], total_score)\n",
    "    scores.append(total_score)\n",
    "\n",
    "# Check\n",
    "scores[:3]"
   ]
  },
  {
   "cell_type": "code",
   "execution_count": 9,
   "id": "0976cce9-4023-47bc-a260-4f0c4a5d500a",
   "metadata": {},
   "outputs": [],
   "source": [
    "import statistics\n",
    "result=statistics.median(scores)"
   ]
  },
  {
   "cell_type": "code",
   "execution_count": 10,
   "id": "85b8d65e-87ad-4fbb-b9de-1e6570da3257",
   "metadata": {},
   "outputs": [
    {
     "name": "stdout",
     "output_type": "stream",
     "text": [
      "Result for part 2: 3999363569\n"
     ]
    }
   ],
   "source": [
    "print(f\"Result for part 2: {result}\")"
   ]
  }
 ],
 "metadata": {
  "kernelspec": {
   "display_name": "Python 3 (ipykernel)",
   "language": "python",
   "name": "python3"
  },
  "language_info": {
   "codemirror_mode": {
    "name": "ipython",
    "version": 3
   },
   "file_extension": ".py",
   "mimetype": "text/x-python",
   "name": "python",
   "nbconvert_exporter": "python",
   "pygments_lexer": "ipython3",
   "version": "3.10.0"
  }
 },
 "nbformat": 4,
 "nbformat_minor": 5
}
