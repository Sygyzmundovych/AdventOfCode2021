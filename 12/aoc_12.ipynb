{
 "cells": [
  {
   "cell_type": "code",
   "execution_count": 1,
   "id": "75561c94-28fa-43fe-aaa2-286fd74ba268",
   "metadata": {},
   "outputs": [],
   "source": [
    "# Test\n",
    "file_name=\"./aoc_2112_test3.txt\"\n",
    "# Prod\n",
    "file_name=\"./aoc_2112_prod.txt\""
   ]
  },
  {
   "cell_type": "code",
   "execution_count": 2,
   "id": "3ff53436-4476-46ce-8bbe-67358bb3f243",
   "metadata": {},
   "outputs": [
    {
     "data": {
      "text/plain": [
       "['rf-RL',\n",
       " 'rf-wz',\n",
       " 'wz-RL',\n",
       " 'AV-mh',\n",
       " 'end-wz',\n",
       " 'end-dm',\n",
       " 'wz-gy',\n",
       " 'wz-dm',\n",
       " 'cg-AV',\n",
       " 'rf-AV']"
      ]
     },
     "metadata": {},
     "output_type": "display_data"
    }
   ],
   "source": [
    "with open(file_name) as f:\n",
    "    raw_data=[line for line in f.read().splitlines()]\n",
    "    f.close()\n",
    "\n",
    "# Check\n",
    "display(raw_data[:10])"
   ]
  },
  {
   "cell_type": "code",
   "execution_count": 3,
   "id": "b3f05f48-752b-4961-9ca1-53fb7be63370",
   "metadata": {},
   "outputs": [],
   "source": [
    "#data=[[int(digit) for digit in line] for line in raw_data]\n",
    "data=[line for line in raw_data]"
   ]
  },
  {
   "cell_type": "code",
   "execution_count": 4,
   "id": "146b2df7-ce50-4b2b-ace5-d1ca0d9b2453",
   "metadata": {
    "tags": []
   },
   "outputs": [
    {
     "data": {
      "text/plain": [
       "['rf-RL', 'rf-wz', 'wz-RL', 'AV-mh', 'end-wz']"
      ]
     },
     "execution_count": 4,
     "metadata": {},
     "output_type": "execute_result"
    }
   ],
   "source": [
    "data[:5]"
   ]
  },
  {
   "cell_type": "markdown",
   "id": "e31f7cbc-d29d-407b-9a26-4e9dfbebd9f8",
   "metadata": {},
   "source": [
    "## Part 0"
   ]
  },
  {
   "cell_type": "code",
   "execution_count": 5,
   "id": "05ada558-2d1e-4877-86f8-851e96434f41",
   "metadata": {},
   "outputs": [],
   "source": [
    "from typing import List, Set, Dict\n",
    "from copy import deepcopy"
   ]
  },
  {
   "cell_type": "code",
   "execution_count": 6,
   "id": "21508a41-4536-49dd-8bdc-2f3b59a55189",
   "metadata": {},
   "outputs": [],
   "source": [
    "def is_cave_small(id: str) -> bool:\n",
    "    return id[0].islower()"
   ]
  },
  {
   "cell_type": "code",
   "execution_count": 7,
   "id": "b51bb36a-88ac-4572-a63c-d31aabfe5d17",
   "metadata": {},
   "outputs": [],
   "source": [
    "class Cave:\n",
    "    def __init__(self, id: str):\n",
    "        self.id=id\n",
    "        self.is_small=is_cave_small(id[0])\n",
    "        self.tunnels_in=list()\n",
    "        self.tunnels_out=list()\n",
    "        \n",
    "    def __str__(self):\n",
    "        return str(self.id)\n",
    "\n",
    "    def add_in(self, c):\n",
    "        self.tunnels_in.append(c)\n",
    "\n",
    "    def add_out(self, c):\n",
    "        self.tunnels_out.append(c)"
   ]
  },
  {
   "cell_type": "code",
   "execution_count": 8,
   "id": "832cefc8-4064-4739-bf6a-0325984d9fa4",
   "metadata": {},
   "outputs": [],
   "source": [
    "class Map:\n",
    "    def __init__(self, connections: List[str]):\n",
    "        self.caves=dict()\n",
    "        for connection in connections:\n",
    "            caves=connection.split('-')\n",
    "            for i in range(2):\n",
    "                if caves[i] not in self.caves.keys(): self.caves[caves[i]]=Cave(caves[i])\n",
    "            for i in range(2):            \n",
    "                if not (self.caves[caves[i]].id =='end' or self.caves[caves[1-i]].id =='start'): \n",
    "                    self.caves[caves[i]].add_out(self.caves[caves[1-i]])\n",
    "                if not (self.caves[caves[i]].id =='start' or self.caves[caves[1-i]].id =='end'): \n",
    "                    self.caves[caves[i]].add_in(self.caves[caves[1-i]])\n",
    "\n",
    "    def print(self):\n",
    "        for c in self.caves.items():\n",
    "            print(f\"{c[0]}\\tout:{[cave.id for cave in c[1].tunnels_out]}, in:{[cave.id for cave in c[1].tunnels_in]}\")\n",
    "                \n",
    "    def all_paths_from_cave_no_small_twice(self, from_cave:str, visited:Dict[Cave,int]) -> List[List[Cave]]:\n",
    "        paths_from_this_cave=list()\n",
    "        visited_before=visited.copy()\n",
    "        if self.caves[from_cave].is_small: \n",
    "            visited_before[self.caves[from_cave]]=visited_before.get(self.caves[from_cave], 0)+1\n",
    "        for cave in self.caves[from_cave].tunnels_out:\n",
    "            #print(f\"Checking from {from_cave} to {cave.id} with already visited { visited_before }...\")\n",
    "            if visited_before.get(cave, 0)<1:\n",
    "                if cave.id=='end':\n",
    "                    paths_from_next=[[cave]]\n",
    "                else:\n",
    "                    paths_from_next=self.all_paths_from_cave_no_small_twice(cave.id, visited_before)\n",
    "                    #print(f\"For {from_cave} paths from next {cave.id} are {[p.id for path in paths_from_next for p in path]}\")\n",
    "                for path in paths_from_next:\n",
    "                    path.insert(0, self.caves[from_cave])\n",
    "                    paths_from_this_cave.append(path)\n",
    "        return paths_from_this_cave\n",
    "\n",
    "    def all_paths_from_cave_one_small_twice(self, from_cave:str, visited:Dict[Cave,int]) -> List[List[Cave]]:\n",
    "        paths_from_this_cave=list()\n",
    "        visited_before=visited.copy()\n",
    "        if self.caves[from_cave].is_small: \n",
    "            visited_before[self.caves[from_cave]]=visited_before.get(self.caves[from_cave], 0)+1\n",
    "        for cave in self.caves[from_cave].tunnels_out:\n",
    "            #print(f\"Checking from {from_cave} to {cave.id} with already visited { visited_before }...\")\n",
    "            if visited_before.get(cave, 0)<2 and len(list(filter(lambda v : v==2, visited_before.values())))<2:\n",
    "                if cave.id=='end':\n",
    "                    paths_from_next=[[cave]]\n",
    "                else:\n",
    "                    paths_from_next=self.all_paths_from_cave_one_small_twice(cave.id, visited_before)\n",
    "                    #print(f\"For {from_cave} paths from next {cave.id} are {[p.id for path in paths_from_next for p in path]}\")\n",
    "                for path in paths_from_next:\n",
    "                    path.insert(0, self.caves[from_cave])\n",
    "                    paths_from_this_cave.append(path)\n",
    "        return paths_from_this_cave"
   ]
  },
  {
   "cell_type": "markdown",
   "id": "6b84aec0-0cec-4224-bc05-5e24b7e6ae83",
   "metadata": {},
   "source": [
    "## Part 1"
   ]
  },
  {
   "cell_type": "code",
   "execution_count": 9,
   "id": "3ea93ebe-0a27-4126-a400-e275646ec5e0",
   "metadata": {},
   "outputs": [
    {
     "name": "stdout",
     "output_type": "stream",
     "text": [
      "rf\tout:['RL', 'wz', 'AV', 'gy', 'dm', 'mh'], in:['RL', 'wz', 'AV', 'gy', 'dm', 'mh']\n",
      "RL\tout:['rf', 'wz', 'cg', 'gy'], in:['rf', 'wz', 'cg', 'gy', 'start']\n",
      "wz\tout:['rf', 'RL', 'end', 'gy', 'dm', 'mh'], in:['rf', 'RL', 'gy', 'dm', 'mh']\n",
      "AV\tout:['mh', 'cg', 'rf', 'gy'], in:['mh', 'cg', 'rf', 'gy', 'start']\n",
      "mh\tout:['AV', 'end', 'rf', 'qk', 'wz'], in:['AV', 'rf', 'qk', 'wz']\n",
      "end\tout:[], in:['wz', 'dm', 'mh']\n",
      "dm\tout:['end', 'wz', 'rf'], in:['wz', 'rf']\n",
      "gy\tout:['wz', 'rf', 'cg', 'RL', 'VI', 'AV'], in:['wz', 'rf', 'cg', 'RL', 'VI', 'AV']\n",
      "cg\tout:['AV', 'gy', 'RL'], in:['AV', 'gy', 'RL', 'start']\n",
      "VI\tout:['gy'], in:['gy']\n",
      "start\tout:['cg', 'RL', 'AV'], in:[]\n",
      "qk\tout:['mh'], in:['mh']\n"
     ]
    }
   ],
   "source": [
    "map=Map(data)\n",
    "# Check\n",
    "map.print()"
   ]
  },
  {
   "cell_type": "code",
   "execution_count": 10,
   "id": "9ed05358-f6a0-43d5-a664-28083e539963",
   "metadata": {},
   "outputs": [
    {
     "name": "stdout",
     "output_type": "stream",
     "text": [
      "CPU times: user 24.1 ms, sys: 2.22 ms, total: 26.4 ms\n",
      "Wall time: 24.9 ms\n"
     ]
    }
   ],
   "source": [
    "%%time\n",
    "all_paths1=map.all_paths_from_cave_no_small_twice('start', dict())"
   ]
  },
  {
   "cell_type": "code",
   "execution_count": 11,
   "id": "1d87bf90-6f38-4123-8212-97ebeaa4b6ad",
   "metadata": {},
   "outputs": [],
   "source": [
    "#print([[cave.id for cave in path] for path in all_paths])\n",
    "result=len(all_paths1)"
   ]
  },
  {
   "cell_type": "code",
   "execution_count": 12,
   "id": "bb6890d4-7048-406d-b70f-ca27bc744dee",
   "metadata": {},
   "outputs": [
    {
     "name": "stdout",
     "output_type": "stream",
     "text": [
      "Result for part 1: 3421\n"
     ]
    }
   ],
   "source": [
    "print(f\"Result for part 1: {result}\")"
   ]
  },
  {
   "cell_type": "markdown",
   "id": "2cf9e844-873f-46ef-b072-0f89f46f283a",
   "metadata": {},
   "source": [
    "## Part 2"
   ]
  },
  {
   "cell_type": "code",
   "execution_count": 13,
   "id": "a0215cad-d2c2-4c95-9143-c9a599bee518",
   "metadata": {},
   "outputs": [
    {
     "name": "stdout",
     "output_type": "stream",
     "text": [
      "CPU times: user 4.32 s, sys: 15.3 ms, total: 4.33 s\n",
      "Wall time: 4.33 s\n"
     ]
    }
   ],
   "source": [
    "%%time\n",
    "all_paths2=map.all_paths_from_cave_one_small_twice('start', dict())"
   ]
  },
  {
   "cell_type": "code",
   "execution_count": 14,
   "id": "e4b5887c-c2aa-4f31-bc75-5f3fbb546739",
   "metadata": {},
   "outputs": [],
   "source": [
    "#display([[cave.id for cave in path] for path in all_paths])\n",
    "result=len(all_paths2)"
   ]
  },
  {
   "cell_type": "code",
   "execution_count": 15,
   "id": "85b8d65e-87ad-4fbb-b9de-1e6570da3257",
   "metadata": {},
   "outputs": [
    {
     "name": "stdout",
     "output_type": "stream",
     "text": [
      "Result for part 2: 84870\n"
     ]
    }
   ],
   "source": [
    "print(f\"Result for part 2: {result}\")"
   ]
  }
 ],
 "metadata": {
  "kernelspec": {
   "display_name": "Python 3 (ipykernel)",
   "language": "python",
   "name": "python3"
  },
  "language_info": {
   "codemirror_mode": {
    "name": "ipython",
    "version": 3
   },
   "file_extension": ".py",
   "mimetype": "text/x-python",
   "name": "python",
   "nbconvert_exporter": "python",
   "pygments_lexer": "ipython3",
   "version": "3.10.0"
  }
 },
 "nbformat": 4,
 "nbformat_minor": 5
}
