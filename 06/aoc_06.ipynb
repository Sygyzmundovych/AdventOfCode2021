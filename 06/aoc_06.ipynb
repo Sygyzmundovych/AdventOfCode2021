{
 "cells": [
  {
   "cell_type": "code",
   "execution_count": 1,
   "id": "75561c94-28fa-43fe-aaa2-286fd74ba268",
   "metadata": {},
   "outputs": [],
   "source": [
    "# Test\n",
    "file_name=\"./aoc_2106_test.txt\"\n",
    "# Prod\n",
    "file_name=\"./aoc_2106_prod.txt\""
   ]
  },
  {
   "cell_type": "code",
   "execution_count": 2,
   "id": "3ff53436-4476-46ce-8bbe-67358bb3f243",
   "metadata": {},
   "outputs": [
    {
     "data": {
      "text/plain": [
       "['1,1,1,3,3,2,1,1,1,1,1,4,4,1,4,1,4,1,1,4,1,1,1,3,3,2,3,1,2,1,1,1,1,1,1,1,3,4,1,1,4,3,1,2,3,1,1,1,5,2,1,1,1,1,2,1,2,5,2,2,1,1,1,3,1,1,1,4,1,1,1,1,1,3,3,2,1,1,3,1,4,1,2,1,5,1,4,2,1,1,5,1,1,1,1,4,3,1,3,2,1,4,1,1,2,1,4,4,5,1,3,1,1,1,1,2,1,4,4,1,1,1,3,1,5,1,1,1,1,1,3,2,5,1,5,4,1,4,1,3,5,1,2,5,4,3,3,2,4,1,5,1,1,2,4,1,1,1,1,2,4,1,2,5,1,4,1,4,2,5,4,1,1,2,2,4,1,5,1,4,3,3,2,3,1,2,3,1,4,1,1,1,3,5,1,1,1,3,5,1,1,4,1,4,4,1,3,1,1,1,2,3,3,2,5,1,2,1,1,2,2,1,3,4,1,3,5,1,3,4,3,5,1,1,5,1,3,3,2,1,5,1,1,3,1,1,3,1,2,1,3,2,5,1,3,1,1,3,5,1,1,1,1,2,1,2,4,4,4,2,2,3,1,5,1,2,1,3,3,3,4,1,1,5,1,3,2,4,1,5,5,1,4,4,1,4,4,1,1,2']"
      ]
     },
     "execution_count": 2,
     "metadata": {},
     "output_type": "execute_result"
    }
   ],
   "source": [
    "with open(file_name) as f:\n",
    "    raw_data=[line for line in f.read().splitlines()]\n",
    "    f.close()\n",
    "\n",
    "raw_data[:3]"
   ]
  },
  {
   "cell_type": "code",
   "execution_count": 3,
   "id": "9818331d-443d-4430-9583-84f8230d6d02",
   "metadata": {},
   "outputs": [],
   "source": [
    "data=[int(timer) for line in raw_data for timer in line.split(',')]"
   ]
  },
  {
   "cell_type": "code",
   "execution_count": 4,
   "id": "146b2df7-ce50-4b2b-ace5-d1ca0d9b2453",
   "metadata": {
    "tags": []
   },
   "outputs": [
    {
     "data": {
      "text/plain": [
       "([1, 1, 1], [1, 1, 2])"
      ]
     },
     "execution_count": 4,
     "metadata": {},
     "output_type": "execute_result"
    }
   ],
   "source": [
    "data[:3],data[-3:]"
   ]
  },
  {
   "cell_type": "markdown",
   "id": "e31f7cbc-d29d-407b-9a26-4e9dfbebd9f8",
   "metadata": {},
   "source": [
    "## Part 1"
   ]
  },
  {
   "cell_type": "code",
   "execution_count": 5,
   "id": "44dde033-b1ef-42f1-9a94-3f4415fcf90e",
   "metadata": {},
   "outputs": [],
   "source": [
    "class Lanternfish:\n",
    "    def __init__(self, internal_timer=8):\n",
    "        self.days_until_spawn=internal_timer\n",
    "        \n",
    "    def __str__(self):\n",
    "        return str(self.days_until_spawn)\n",
    "    \n",
    "    def day_passed(self) -> list:\n",
    "        self.newfish=list()\n",
    "        self.days_until_spawn-=1\n",
    "        if self.days_until_spawn<0:\n",
    "            self.days_until_spawn=6\n",
    "            self.newfish.append(Lanternfish())\n",
    "        return self.newfish"
   ]
  },
  {
   "cell_type": "code",
   "execution_count": 6,
   "id": "9ebec6c9-1f04-43f5-8452-4f51433b398f",
   "metadata": {},
   "outputs": [],
   "source": [
    "class School:\n",
    "    def __init__(self, init_school=[]):\n",
    "        self.school=[Lanternfish(internal_timer=x) for x in init_school]\n",
    "        \n",
    "    def day_passed(self) -> list:\n",
    "        self.new_school=list()\n",
    "        for fish in self.school:\n",
    "            self.new_school+=fish.day_passed()\n",
    "        self.school+=self.new_school\n",
    "        return self.school"
   ]
  },
  {
   "cell_type": "code",
   "execution_count": 7,
   "id": "e4d36995-bb96-4303-86f9-f48b30a1e283",
   "metadata": {},
   "outputs": [],
   "source": [
    "myschool=School(data)"
   ]
  },
  {
   "cell_type": "code",
   "execution_count": 8,
   "id": "7561f8fa-e04a-4220-a52f-d500d8d47be0",
   "metadata": {},
   "outputs": [],
   "source": [
    "for day in range(1,81): result=len(myschool.day_passed())"
   ]
  },
  {
   "cell_type": "code",
   "execution_count": 9,
   "id": "bb6890d4-7048-406d-b70f-ca27bc744dee",
   "metadata": {},
   "outputs": [
    {
     "name": "stdout",
     "output_type": "stream",
     "text": [
      "Result for part 1: 372984\n"
     ]
    }
   ],
   "source": [
    "print(f\"Result for part 1: {result}\")"
   ]
  },
  {
   "cell_type": "markdown",
   "id": "42566fca-c215-490a-8395-ad3929d75543",
   "metadata": {},
   "source": [
    "## Part 2"
   ]
  },
  {
   "cell_type": "code",
   "execution_count": 10,
   "id": "8a30635a-4fe7-4feb-9203-9ca82378250b",
   "metadata": {},
   "outputs": [],
   "source": [
    "class SchoolSimul:\n",
    "    def __init__(self, init_school=[]):\n",
    "        self.school=dict()\n",
    "        for i in init_school:\n",
    "            self.school[i]=self.school.get(i,0)+1\n",
    "            \n",
    "    def day_passed(self) -> dict:\n",
    "        self.school_next_day=dict()\n",
    "        for k in range(1,9):\n",
    "            self.school_next_day[k-1]=self.school.get(k,0)\n",
    "        self.school_next_day[8]=self.school.get(0,0)\n",
    "        self.school_next_day[6]=self.school.get(0,0)+self.school_next_day.get(6,0)\n",
    "        self.school=self.school_next_day\n",
    "        return self.school\n",
    "\n",
    "    def get_count(self) -> int:\n",
    "        return sum([self.school.get(k,0) for k in self.school.keys()])"
   ]
  },
  {
   "cell_type": "code",
   "execution_count": 11,
   "id": "5ad937c2-68da-4da9-aadc-560927ad1ca6",
   "metadata": {},
   "outputs": [],
   "source": [
    "myschool_simulator=SchoolSimul(data)"
   ]
  },
  {
   "cell_type": "code",
   "execution_count": 12,
   "id": "fcbd52c7-71e0-48ee-b7d4-2af7527a8fa7",
   "metadata": {},
   "outputs": [
    {
     "data": {
      "text/plain": [
       "{1: 145, 3: 45, 2: 41, 4: 42, 5: 27}"
      ]
     },
     "execution_count": 12,
     "metadata": {},
     "output_type": "execute_result"
    }
   ],
   "source": [
    "myschool_simulator.school"
   ]
  },
  {
   "cell_type": "code",
   "execution_count": 13,
   "id": "45ca4355-b61b-4372-b0fc-5716f03c6d57",
   "metadata": {},
   "outputs": [
    {
     "name": "stdout",
     "output_type": "stream",
     "text": [
      "253 1288171456079\n",
      "254 1412942531637\n",
      "255 1532240011564\n",
      "256 1681503251694\n"
     ]
    }
   ],
   "source": [
    "days_to_calculate=256\n",
    "for day in range(1,days_to_calculate+1):\n",
    "    newday=myschool_simulator.day_passed()\n",
    "    result=sum([newday.get(k,0) for k in newday.keys()])\n",
    "    if day in range(days_to_calculate-3, days_to_calculate+1): print(day, result)"
   ]
  },
  {
   "cell_type": "code",
   "execution_count": 14,
   "id": "49c45c9b-3a4d-4698-931e-f777dac41cda",
   "metadata": {},
   "outputs": [
    {
     "name": "stdout",
     "output_type": "stream",
     "text": [
      "Result for part 2: 1681503251694\n"
     ]
    }
   ],
   "source": [
    "print(f\"Result for part 2: {result}\")"
   ]
  },
  {
   "cell_type": "code",
   "execution_count": null,
   "id": "ddb1f01e-9278-4f50-99ff-31a45446ecde",
   "metadata": {},
   "outputs": [],
   "source": []
  }
 ],
 "metadata": {
  "kernelspec": {
   "display_name": "Python 3 (ipykernel)",
   "language": "python",
   "name": "python3"
  },
  "language_info": {
   "codemirror_mode": {
    "name": "ipython",
    "version": 3
   },
   "file_extension": ".py",
   "mimetype": "text/x-python",
   "name": "python",
   "nbconvert_exporter": "python",
   "pygments_lexer": "ipython3",
   "version": "3.10.0"
  }
 },
 "nbformat": 4,
 "nbformat_minor": 5
}
