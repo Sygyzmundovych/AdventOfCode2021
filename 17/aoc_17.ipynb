{
 "cells": [
  {
   "cell_type": "code",
   "execution_count": 1,
   "id": "75561c94-28fa-43fe-aaa2-286fd74ba268",
   "metadata": {},
   "outputs": [],
   "source": [
    "# Test\n",
    "file_name=\"./aoc_2117_test.txt\"\n",
    "# Prod\n",
    "file_name=\"./aoc_2117_prod.txt\""
   ]
  },
  {
   "cell_type": "code",
   "execution_count": 2,
   "id": "3ff53436-4476-46ce-8bbe-67358bb3f243",
   "metadata": {},
   "outputs": [
    {
     "data": {
      "text/plain": [
       "['target area: x=269..292, y=-68..-44']"
      ]
     },
     "metadata": {},
     "output_type": "display_data"
    }
   ],
   "source": [
    "with open(file_name) as f:\n",
    "    raw_data=[line for line in f.read().splitlines()]\n",
    "    f.close()\n",
    "\n",
    "# Check\n",
    "display(raw_data[:10])"
   ]
  },
  {
   "cell_type": "markdown",
   "id": "c974baf6-95bd-4341-9129-6722ec502361",
   "metadata": {},
   "source": [
    "## Part 0"
   ]
  },
  {
   "cell_type": "code",
   "execution_count": 3,
   "id": "2ff7b966-bdf0-480f-bfc2-6bda2b7ef585",
   "metadata": {},
   "outputs": [
    {
     "name": "stdout",
     "output_type": "stream",
     "text": [
      "X in: (269, 292), Y in: (-68, -44)\n"
     ]
    }
   ],
   "source": [
    "data=[area for area in raw_data[0].split(': ')][1]\n",
    "#print(data)\n",
    "\n",
    "data=[[part for part in axes.split('=')] for axes in data.split(', ')]\n",
    "#print(data)\n",
    "\n",
    "x_range, y_range=[tuple(int(m) for m in ranges[1].split('..')) for ranges in data]\n",
    "print(f\"X in: {x_range}, Y in: {y_range}\")"
   ]
  },
  {
   "cell_type": "markdown",
   "id": "e31f7cbc-d29d-407b-9a26-4e9dfbebd9f8",
   "metadata": {},
   "source": [
    "## Part 1"
   ]
  },
  {
   "cell_type": "code",
   "execution_count": 4,
   "id": "1ed810de-c5b7-439c-8d9a-961e207a90ca",
   "metadata": {},
   "outputs": [],
   "source": [
    "def x_loc(vx: int, step: int) -> int:\n",
    "    return int((vx+max(vx-step+1, 0)) /2 * min(vx+1, step))"
   ]
  },
  {
   "cell_type": "code",
   "execution_count": 5,
   "id": "97e3a603-1e1a-4702-81b8-26f39d21ccce",
   "metadata": {},
   "outputs": [],
   "source": [
    "def y_loc(vy: int, step: int) -> int:\n",
    "    return int((vy+(vy-step+1)) /2 * step)"
   ]
  },
  {
   "cell_type": "code",
   "execution_count": 6,
   "id": "99ff491e-a8ef-4149-8c59-d06cc6b75519",
   "metadata": {},
   "outputs": [
    {
     "name": "stdout",
     "output_type": "stream",
     "text": [
      "23 276\n"
     ]
    }
   ],
   "source": [
    "possible_nr_steps_for_x=[]\n",
    "steps_check=1\n",
    "max_distance_x=x_loc(vx=steps_check, step=steps_check)\n",
    "while max_distance_x<=x_range[1]:\n",
    "    if x_range[0]<=max_distance_x<=x_range[1]: possible_nr_steps_for_x.append(steps_check)\n",
    "    steps_check+=1\n",
    "    max_distance_x=x_loc(vx=steps_check, step=steps_check)\n",
    "\n",
    "# Check\n",
    "for x in possible_nr_steps_for_x: print(x, x_loc(x, x))"
   ]
  },
  {
   "cell_type": "code",
   "execution_count": 7,
   "id": "eb2dee29-8130-4dd5-9c46-798b7c78f8e7",
   "metadata": {},
   "outputs": [
    {
     "name": "stdout",
     "output_type": "stream",
     "text": [
      "Initial velocity: (23, 67)\n",
      "Max hight: 68, 276, 2278\n",
      "Final position: 136, 276, -68\n"
     ]
    }
   ],
   "source": [
    "VELOCITY_X, VELOCITY_Y = min(possible_nr_steps_for_x), abs(min(y_range))-1\n",
    "print (f\"Initial velocity: {(VELOCITY_X, VELOCITY_Y)}\")\n",
    "max_y_reached=0\n",
    "step=1\n",
    "xs, ys=x_loc(VELOCITY_X, step), y_loc(VELOCITY_Y, step)\n",
    "while ys>=y_range[0]:\n",
    "    if max_y_reached==ys: print(f\"Max hight: {step}, {xs}, {ys}\")\n",
    "    max_y_reached=max(ys, max_y_reached)\n",
    "    step+=1\n",
    "    xs, ys=x_loc(VELOCITY_X, step), y_loc(VELOCITY_Y, step)\n",
    "\n",
    "print(f\"Final position: {step-1}, {x_loc(VELOCITY_X, step-1)}, {y_loc(VELOCITY_Y, step-1)}\")"
   ]
  },
  {
   "cell_type": "code",
   "execution_count": 8,
   "id": "1d87bf90-6f38-4123-8212-97ebeaa4b6ad",
   "metadata": {},
   "outputs": [],
   "source": [
    "result=max_y_reached"
   ]
  },
  {
   "cell_type": "code",
   "execution_count": 9,
   "id": "bb6890d4-7048-406d-b70f-ca27bc744dee",
   "metadata": {},
   "outputs": [
    {
     "name": "stdout",
     "output_type": "stream",
     "text": [
      "Result for part 1: 2278\n"
     ]
    }
   ],
   "source": [
    "print(f\"Result for part 1: {result}\")"
   ]
  },
  {
   "cell_type": "markdown",
   "id": "2cf9e844-873f-46ef-b072-0f89f46f283a",
   "metadata": {},
   "source": [
    "## Part 2"
   ]
  },
  {
   "cell_type": "code",
   "execution_count": 10,
   "id": "a12c024c-f386-4911-b610-0330a7f092ae",
   "metadata": {
    "tags": []
   },
   "outputs": [
    {
     "data": {
      "text/plain": [
       "90"
      ]
     },
     "execution_count": 10,
     "metadata": {},
     "output_type": "execute_result"
    }
   ],
   "source": [
    "vx_values=[]\n",
    "\n",
    "for potential_vx_value in range (min(possible_nr_steps_for_x), (max(x_range)+1)):\n",
    "    # print(potential_vx_value)\n",
    "    step=1\n",
    "    x_atstep=x_loc(potential_vx_value, step)\n",
    "    while x_atstep<=x_range[1] and step<=potential_vx_value:\n",
    "        if x_range[0]<=x_atstep<=x_range[1]: vx_values.append((step, potential_vx_value, x_atstep))\n",
    "        step+=1\n",
    "        x_atstep=x_loc(potential_vx_value, step)        \n",
    "\n",
    "len(vx_values)"
   ]
  },
  {
   "cell_type": "code",
   "execution_count": 11,
   "id": "db1b66d7-2992-4fce-933f-f6d08eec9a27",
   "metadata": {},
   "outputs": [
    {
     "data": {
      "text/plain": [
       "146"
      ]
     },
     "execution_count": 11,
     "metadata": {},
     "output_type": "execute_result"
    }
   ],
   "source": [
    "vy_values=[]\n",
    "\n",
    "for potential_vy_value in range (min(y_range), abs(min(y_range))):\n",
    "    step=1\n",
    "    y_atstep=y_loc(potential_vy_value, step)\n",
    "    while y_atstep>=y_range[0]:\n",
    "        # print(potential_vy_value, step, y_atstep)\n",
    "        if y_range[0]<=y_atstep<=y_range[1]: vy_values.append((step, potential_vy_value, y_atstep))\n",
    "        step+=1\n",
    "        y_atstep=y_loc(potential_vy_value, step)\n",
    "\n",
    "len(vy_values)"
   ]
  },
  {
   "cell_type": "code",
   "execution_count": 12,
   "id": "ebb70a85-f122-4dfe-abc9-8faf17472883",
   "metadata": {},
   "outputs": [
    {
     "data": {
      "text/plain": [
       "[(269, -68), (270, -68), (271, -68), (272, -68), (273, -68)]"
      ]
     },
     "execution_count": 12,
     "metadata": {},
     "output_type": "execute_result"
    }
   ],
   "source": [
    "start_velocities=[(vx_value[1], vy_value[1]) \n",
    " for vy_value in vy_values \n",
    " for vx_value in vx_values\n",
    " if (vy_value[0]==vx_value[0]) or (vx_value[0]==vx_value[1] and vy_value[0]>vx_value[0])\n",
    "]\n",
    "# Check\n",
    "start_velocities[:5]"
   ]
  },
  {
   "cell_type": "code",
   "execution_count": 13,
   "id": "570b02a0-dae6-40f5-9a56-5825c246152f",
   "metadata": {},
   "outputs": [],
   "source": [
    "result=len(set(start_velocities))"
   ]
  },
  {
   "cell_type": "code",
   "execution_count": 14,
   "id": "85b8d65e-87ad-4fbb-b9de-1e6570da3257",
   "metadata": {},
   "outputs": [
    {
     "name": "stdout",
     "output_type": "stream",
     "text": [
      "Result for part 2: 996\n"
     ]
    }
   ],
   "source": [
    "print(f\"Result for part 2: {result}\")"
   ]
  }
 ],
 "metadata": {
  "kernelspec": {
   "display_name": "Python 3 (ipykernel)",
   "language": "python",
   "name": "python3"
  },
  "language_info": {
   "codemirror_mode": {
    "name": "ipython",
    "version": 3
   },
   "file_extension": ".py",
   "mimetype": "text/x-python",
   "name": "python",
   "nbconvert_exporter": "python",
   "pygments_lexer": "ipython3",
   "version": "3.10.0"
  }
 },
 "nbformat": 4,
 "nbformat_minor": 5
}
