{
 "cells": [
  {
   "cell_type": "code",
   "execution_count": 1,
   "id": "75561c94-28fa-43fe-aaa2-286fd74ba268",
   "metadata": {},
   "outputs": [],
   "source": [
    "# Test\n",
    "file_name=\"./aoc_2114_test.txt\"\n",
    "# Prod\n",
    "file_name=\"./aoc_2114_prod.txt\""
   ]
  },
  {
   "cell_type": "code",
   "execution_count": 2,
   "id": "0da52ffa-555d-485b-b8fa-f60ee3dba9be",
   "metadata": {},
   "outputs": [],
   "source": [
    "with open(file_name) as f:\n",
    "    paragraphs=[paragraph for paragraph in f.read().split('\\n\\n')]\n",
    "    f.close()\n",
    "\n",
    "# Check\n",
    "#display(paragraphs)"
   ]
  },
  {
   "cell_type": "markdown",
   "id": "11e2adcb-5959-466c-b86f-4ded9321183b",
   "metadata": {},
   "source": [
    "## Part 0"
   ]
  },
  {
   "cell_type": "code",
   "execution_count": 3,
   "id": "99d56cc3-64de-48bf-95d6-6b1ce960d2cd",
   "metadata": {},
   "outputs": [],
   "source": [
    "from typing import Tuple"
   ]
  },
  {
   "cell_type": "code",
   "execution_count": 4,
   "id": "467c25d9-f1df-4399-aacb-2be433626d64",
   "metadata": {},
   "outputs": [],
   "source": [
    "template=paragraphs[0]"
   ]
  },
  {
   "cell_type": "code",
   "execution_count": 5,
   "id": "b8c4f6db-07aa-46db-8552-3b9cfec27cb6",
   "metadata": {},
   "outputs": [],
   "source": [
    "pair_rules=dict([[rule for rule in rule_string.split(' -> ')] for rule_string in paragraphs[1].split('\\n')])"
   ]
  },
  {
   "cell_type": "code",
   "execution_count": 6,
   "id": "c557d1c9-4b7d-4d96-a127-672afdd0eca4",
   "metadata": {},
   "outputs": [],
   "source": [
    "def elements_to_two(elements: str)->str:\n",
    "    return elements[0]+pair_rules[elements]"
   ]
  },
  {
   "cell_type": "markdown",
   "id": "e31f7cbc-d29d-407b-9a26-4e9dfbebd9f8",
   "metadata": {},
   "source": [
    "## Part 1"
   ]
  },
  {
   "cell_type": "code",
   "execution_count": 7,
   "id": "3a92dbc9-cb52-4abf-b360-cd0cd67e0b5d",
   "metadata": {},
   "outputs": [],
   "source": [
    "class Polymer1:\n",
    "    def __init__(self, in_string: str):\n",
    "        self.chain=in_string\n",
    "        \n",
    "    def step(self) -> int:\n",
    "        self.chain=''.join([elements_to_two(self.chain[i:i+2]) for i in range(len(self.chain)-1)])+self.chain[-1]\n",
    "        return len(self.chain)\n",
    "    \n",
    "    def calc_result(self)->int:\n",
    "        count_elems=[self.chain.count(elem) for elem in set(self.chain)]\n",
    "        return max(count_elems)-min(count_elems)"
   ]
  },
  {
   "cell_type": "code",
   "execution_count": 9,
   "id": "6e2b8661-a124-44ab-b4b8-cb9143863f49",
   "metadata": {},
   "outputs": [
    {
     "name": "stdout",
     "output_type": "stream",
     "text": [
      "0 39\n",
      "1 77\n",
      "2 153\n",
      "3 305\n",
      "4 609\n",
      "5 1217\n",
      "6 2433\n",
      "7 4865\n",
      "8 9729\n",
      "9 19457\n",
      "CPU times: user 9.49 ms, sys: 2.22 ms, total: 11.7 ms\n",
      "Wall time: 10.1 ms\n"
     ]
    }
   ],
   "source": [
    "%%time\n",
    "p=Polymer1(template)\n",
    "\n",
    "STEPS=10\n",
    "for step in range(STEPS):\n",
    "    print (step, p.step())"
   ]
  },
  {
   "cell_type": "code",
   "execution_count": 10,
   "id": "1d87bf90-6f38-4123-8212-97ebeaa4b6ad",
   "metadata": {},
   "outputs": [],
   "source": [
    "result=p.calc_result()"
   ]
  },
  {
   "cell_type": "code",
   "execution_count": 11,
   "id": "bb6890d4-7048-406d-b70f-ca27bc744dee",
   "metadata": {},
   "outputs": [
    {
     "name": "stdout",
     "output_type": "stream",
     "text": [
      "Result for part 1: 2937\n"
     ]
    }
   ],
   "source": [
    "print(f\"Result for part 1: {result}\")"
   ]
  },
  {
   "cell_type": "markdown",
   "id": "2cf9e844-873f-46ef-b072-0f89f46f283a",
   "metadata": {},
   "source": [
    "## Part 2"
   ]
  },
  {
   "cell_type": "code",
   "execution_count": 12,
   "id": "37221f87-3eeb-4788-8035-9bac33cd3632",
   "metadata": {},
   "outputs": [
    {
     "name": "stdout",
     "output_type": "stream",
     "text": [
      "PF ('PN', 'NF')\n"
     ]
    }
   ],
   "source": [
    "def pair_to_2pairs(pair_in: str) -> Tuple[str]:\n",
    "    new_triple=pair_in[0] + pair_rules[pair_in] + pair_in[1]\n",
    "    return (new_triple[:2],new_triple[-2:])\n",
    "\n",
    "# Check\n",
    "print(template[:2], pair_to_2pairs(template[:2]))"
   ]
  },
  {
   "cell_type": "code",
   "execution_count": 13,
   "id": "e79d324a-7372-4669-b6fe-baa8700ae7dc",
   "metadata": {},
   "outputs": [],
   "source": [
    "class Polymer2:\n",
    "    def __init__(self, in_string: str):\n",
    "        self.pairs=dict()\n",
    "        for l in range(len(in_string)-1):\n",
    "            self.pairs[in_string[l:l+2]]=self.pairs.get(in_string[l:l+2], 0)+1\n",
    "        self.last_char =in_string[-1]\n",
    "        self.first_char=in_string[0]\n",
    "        \n",
    "    def step(self) -> int:\n",
    "        new_pairs={}\n",
    "        for pair in self.pairs:\n",
    "            for new_1pair in pair_to_2pairs(pair):\n",
    "                new_pairs[new_1pair]=self.pairs.get(pair, 0) + new_pairs.get(new_1pair, 0)\n",
    "        self.pairs=new_pairs.copy()\n",
    "        return sum([c for c in self.pairs.values()])+1 # add 1 for the last character  \n",
    "    \n",
    "    def calc_result(self)->int:\n",
    "        count_first_elems=[(pair_count[0][1], pair_count[1]) for pair_count in self.pairs.items()]\n",
    "        count_first_elems.append((self.last_char, 1))\n",
    "        \n",
    "        count_elems_totals={}\n",
    "        for count in count_first_elems:\n",
    "            count_elems_totals[count[0]]=count_elems_totals.get(count[0],0)+count[1]\n",
    "        count_elems=list(count_elems_totals.values())\n",
    "        return max(count_elems)-min(count_elems)"
   ]
  },
  {
   "cell_type": "code",
   "execution_count": 14,
   "id": "36e8173a-5452-4274-a393-c519cc6b9d51",
   "metadata": {},
   "outputs": [
    {
     "name": "stdout",
     "output_type": "stream",
     "text": [
      "1 39\n",
      "2 77\n",
      "3 153\n",
      "4 305\n",
      "5 609\n",
      "6 1217\n",
      "7 2433\n",
      "8 4865\n",
      "9 9729\n",
      "10 19457\n",
      "CPU times: user 1.13 ms, sys: 257 µs, total: 1.39 ms\n",
      "Wall time: 1.19 ms\n"
     ]
    }
   ],
   "source": [
    "%%time\n",
    "p2=Polymer2(template)\n",
    "\n",
    "STEPS=10\n",
    "for step in range(1, STEPS+1):\n",
    "    print (step, p2.step())"
   ]
  },
  {
   "cell_type": "code",
   "execution_count": 15,
   "id": "58fa3c6a-79b7-4e69-ab44-3121e3ee825a",
   "metadata": {},
   "outputs": [
    {
     "data": {
      "text/plain": [
       "2937"
      ]
     },
     "execution_count": 15,
     "metadata": {},
     "output_type": "execute_result"
    }
   ],
   "source": [
    "p2.calc_result() #Should be same is in the part 1"
   ]
  },
  {
   "cell_type": "code",
   "execution_count": 16,
   "id": "27d3f696-262b-43b6-a02c-881442adf301",
   "metadata": {},
   "outputs": [
    {
     "name": "stdout",
     "output_type": "stream",
     "text": [
      "11 38913\n",
      "12 77825\n",
      "13 155649\n",
      "14 311297\n",
      "15 622593\n",
      "16 1245185\n",
      "17 2490369\n",
      "18 4980737\n",
      "19 9961473\n",
      "20 19922945\n",
      "21 39845889\n",
      "22 79691777\n",
      "23 159383553\n",
      "24 318767105\n",
      "25 637534209\n",
      "26 1275068417\n",
      "27 2550136833\n",
      "28 5100273665\n",
      "29 10200547329\n",
      "30 20401094657\n",
      "31 40802189313\n",
      "32 81604378625\n",
      "33 163208757249\n",
      "34 326417514497\n",
      "35 652835028993\n",
      "36 1305670057985\n",
      "37 2611340115969\n",
      "38 5222680231937\n",
      "39 10445360463873\n",
      "40 20890720927745\n",
      "CPU times: user 4.86 ms, sys: 2.32 ms, total: 7.18 ms\n",
      "Wall time: 5.32 ms\n"
     ]
    }
   ],
   "source": [
    "%%time\n",
    "STEPS_MORE=30\n",
    "for step in range(STEPS+1, STEPS+STEPS_MORE+1):\n",
    "    print (step, p2.step())"
   ]
  },
  {
   "cell_type": "code",
   "execution_count": 17,
   "id": "570b02a0-dae6-40f5-9a56-5825c246152f",
   "metadata": {},
   "outputs": [],
   "source": [
    "result=p2.calc_result()"
   ]
  },
  {
   "cell_type": "code",
   "execution_count": 18,
   "id": "85b8d65e-87ad-4fbb-b9de-1e6570da3257",
   "metadata": {},
   "outputs": [
    {
     "name": "stdout",
     "output_type": "stream",
     "text": [
      "Result for part 2: 3390034818249\n"
     ]
    }
   ],
   "source": [
    "print(f\"Result for part 2: {result}\")"
   ]
  }
 ],
 "metadata": {
  "kernelspec": {
   "display_name": "Python 3 (ipykernel)",
   "language": "python",
   "name": "python3"
  },
  "language_info": {
   "codemirror_mode": {
    "name": "ipython",
    "version": 3
   },
   "file_extension": ".py",
   "mimetype": "text/x-python",
   "name": "python",
   "nbconvert_exporter": "python",
   "pygments_lexer": "ipython3",
   "version": "3.10.0"
  }
 },
 "nbformat": 4,
 "nbformat_minor": 5
}
