{
 "cells": [
  {
   "cell_type": "code",
   "execution_count": 1,
   "id": "847d28c4-2f7a-48a5-b456-0c736ecfda7f",
   "metadata": {},
   "outputs": [],
   "source": [
    "#Test\n",
    "start_positions=(4,8)\n",
    "#Prod\n",
    "start_positions=(9,6)"
   ]
  },
  {
   "cell_type": "markdown",
   "id": "e31f7cbc-d29d-407b-9a26-4e9dfbebd9f8",
   "metadata": {},
   "source": [
    "## Part 1"
   ]
  },
  {
   "cell_type": "code",
   "execution_count": 2,
   "id": "1ed810de-c5b7-439c-8d9a-961e207a90ca",
   "metadata": {},
   "outputs": [],
   "source": [
    "class Player:\n",
    "    def __init__(self, start_position: int, board_size: int):\n",
    "        self.position=start_position\n",
    "        self.score=0\n",
    "        self.board_size=board_size\n",
    "        \n",
    "    def __str__(self) -> int:\n",
    "        return f\"{(self.position, self.score)}\"\n",
    "    \n",
    "    def add_score(self, die_score: int) -> int:\n",
    "        #print(f\"Before: {(self.position, die_score)}\")\n",
    "        self.position=(self.position - 1  + die_score) % (self.board_size) + 1\n",
    "        self.score+=self.position\n",
    "        #print(f\"After: {(self.position, self.score)}\")\n",
    "        \n",
    "        return self.score"
   ]
  },
  {
   "cell_type": "code",
   "execution_count": 3,
   "id": "7cd58f1b-b0ec-4201-84c2-1a7ea8b6e012",
   "metadata": {},
   "outputs": [],
   "source": [
    "class Die:\n",
    "    def __init__(self, size: int):\n",
    "        self.size=size\n",
    "        self.score=0\n",
    "        self.rolls=0\n",
    "        \n",
    "    def roll(self) -> tuple:\n",
    "        self.rolls+=1\n",
    "        self.score=(self.rolls -1) % self.size + 1\n",
    "        \n",
    "        return (self.score, self.rolls)"
   ]
  },
  {
   "cell_type": "code",
   "execution_count": 4,
   "id": "0e946fd8-df38-47af-b248-7ea3eadd4688",
   "metadata": {},
   "outputs": [],
   "source": [
    "class Game:\n",
    "    def __init__(self, start_positions: tuple, winning_score: int):\n",
    "        self.players=[Player(start_position=pos, board_size=10) for pos in start_positions]\n",
    "        self.die=Die(100)\n",
    "        self.WINNING_SCORE=winning_score\n",
    "        \n",
    "    def play(self)->int:\n",
    "        NR_ROLLS_PER_PLAYER=3\n",
    "        while True:\n",
    "            for player_nr in (range(len(self.players))):\n",
    "                roll_total_score=0\n",
    "                for roll_nr in (range(NR_ROLLS_PER_PLAYER)):\n",
    "                    roll_result=self.die.roll()\n",
    "                    roll_total_score+=roll_result[0]\n",
    "                p_score = self.players[player_nr].add_score(roll_total_score)\n",
    "                # print(f\"player: {player_nr}, position: {self.players[player_nr].position}, roll_score: {roll_total_score}, p_score: {p_score}\")\n",
    "                if p_score >=self.WINNING_SCORE:\n",
    "                    return (player_nr, self.players, self.die)"
   ]
  },
  {
   "cell_type": "code",
   "execution_count": 5,
   "id": "018e16da-1b81-49be-8afe-1d904946f688",
   "metadata": {},
   "outputs": [
    {
     "data": {
      "text/plain": [
       "[9, 6]"
      ]
     },
     "execution_count": 5,
     "metadata": {},
     "output_type": "execute_result"
    }
   ],
   "source": [
    "g=Game(start_positions, 1000)\n",
    "[p.position for p in g.players]"
   ]
  },
  {
   "cell_type": "code",
   "execution_count": 6,
   "id": "8196fc9a-c646-4b66-904a-0e764a84d6cd",
   "metadata": {
    "tags": []
   },
   "outputs": [],
   "source": [
    "game_end_state=g.play()"
   ]
  },
  {
   "cell_type": "code",
   "execution_count": 7,
   "id": "975fc0b0-4259-4cce-97a1-d13dce8a9343",
   "metadata": {
    "tags": []
   },
   "outputs": [
    {
     "name": "stdout",
     "output_type": "stream",
     "text": [
      "Player 1 won with the core 1000\n"
     ]
    }
   ],
   "source": [
    "print(f\"Player {game_end_state[0]} won with the core {game_end_state[1][game_end_state[0]].score}\")"
   ]
  },
  {
   "cell_type": "code",
   "execution_count": 8,
   "id": "bb6890d4-7048-406d-b70f-ca27bc744dee",
   "metadata": {},
   "outputs": [
    {
     "name": "stdout",
     "output_type": "stream",
     "text": [
      "Result for part 1: 1004670\n"
     ]
    }
   ],
   "source": [
    "result=game_end_state[1][1-game_end_state[0]].score * game_end_state[2].rolls\n",
    "print(f\"Result for part 1: {result}\")"
   ]
  },
  {
   "cell_type": "markdown",
   "id": "2cf9e844-873f-46ef-b072-0f89f46f283a",
   "metadata": {},
   "source": [
    "## Part 2"
   ]
  },
  {
   "cell_type": "code",
   "execution_count": null,
   "id": "340a0aa0-e208-455b-8962-b01682bf582e",
   "metadata": {},
   "outputs": [],
   "source": []
  },
  {
   "cell_type": "code",
   "execution_count": 9,
   "id": "570b02a0-dae6-40f5-9a56-5825c246152f",
   "metadata": {},
   "outputs": [],
   "source": [
    "result=-1"
   ]
  },
  {
   "cell_type": "code",
   "execution_count": 10,
   "id": "85b8d65e-87ad-4fbb-b9de-1e6570da3257",
   "metadata": {},
   "outputs": [
    {
     "name": "stdout",
     "output_type": "stream",
     "text": [
      "Result for part 2: -1\n"
     ]
    }
   ],
   "source": [
    "print(f\"Result for part 2: {result}\")"
   ]
  },
  {
   "cell_type": "code",
   "execution_count": null,
   "id": "800df4b3-5ef8-4586-a28d-4cd003382776",
   "metadata": {},
   "outputs": [],
   "source": []
  }
 ],
 "metadata": {
  "kernelspec": {
   "display_name": "Python 3 (ipykernel)",
   "language": "python",
   "name": "python3"
  },
  "language_info": {
   "codemirror_mode": {
    "name": "ipython",
    "version": 3
   },
   "file_extension": ".py",
   "mimetype": "text/x-python",
   "name": "python",
   "nbconvert_exporter": "python",
   "pygments_lexer": "ipython3",
   "version": "3.10.0"
  }
 },
 "nbformat": 4,
 "nbformat_minor": 5
}
