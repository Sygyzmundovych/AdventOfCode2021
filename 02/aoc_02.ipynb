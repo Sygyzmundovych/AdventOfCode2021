{
 "cells": [
  {
   "cell_type": "code",
   "execution_count": 1,
   "id": "e90ad89f-c534-4469-86c6-47afdec303e7",
   "metadata": {},
   "outputs": [],
   "source": [
    "# Test\n",
    "file_name=\"./aoc_2102_test.txt\"\n",
    "# Prod\n",
    "file_name=\"./aoc_2102_prod.txt\""
   ]
  },
  {
   "cell_type": "code",
   "execution_count": 2,
   "id": "2eb75b2d-4a74-4cee-909c-920208bb85d6",
   "metadata": {},
   "outputs": [
    {
     "name": "stdout",
     "output_type": "stream",
     "text": [
      "['forward 8', 'forward 3', 'down 8', 'forward 4', 'down 2', 'down 4', 'down 8', 'down 4', 'down 7', 'up 4', 'down 6', 'down 2', 'forward 7', 'down 5', 'down 7']\n",
      "1000\n"
     ]
    }
   ],
   "source": [
    "with open(file_name) as f:\n",
    "    data=[line for line in f.read().splitlines()]\n",
    "    \n",
    "print(data[:15])\n",
    "print(len(data))"
   ]
  },
  {
   "cell_type": "code",
   "execution_count": 3,
   "id": "da300c23-d2ea-4fdb-a239-3a7d36670cee",
   "metadata": {},
   "outputs": [
    {
     "data": {
      "text/plain": [
       "(('forward', 8),\n",
       " ('forward', 3),\n",
       " ('down', 8),\n",
       " ('forward', 4),\n",
       " ('down', 2),\n",
       " ('down', 4),\n",
       " ('down', 8),\n",
       " ('down', 4),\n",
       " ('down', 7),\n",
       " ('up', 4),\n",
       " ('down', 6),\n",
       " ('down', 2),\n",
       " ('forward', 7),\n",
       " ('down', 5),\n",
       " ('down', 7))"
      ]
     },
     "execution_count": 3,
     "metadata": {},
     "output_type": "execute_result"
    }
   ],
   "source": [
    "series_commands=tuple((command, int(value)) for command, value in [elem.split(' ') for elem in data])\n",
    "series_commands[:15]"
   ]
  },
  {
   "cell_type": "markdown",
   "id": "72194f6d-32f5-4514-8e41-574d96744f21",
   "metadata": {},
   "source": [
    "## Part 1"
   ]
  },
  {
   "cell_type": "code",
   "execution_count": 4,
   "id": "d3f4a202-9a1f-471d-ae7d-83933c148e6b",
   "metadata": {},
   "outputs": [
    {
     "data": {
      "text/plain": [
       "{'forward': 1991, 'down': 1969, 'up': 1058}"
      ]
     },
     "execution_count": 4,
     "metadata": {},
     "output_type": "execute_result"
    }
   ],
   "source": [
    "V=dict()\n",
    "for command in series_commands:\n",
    "    V[command[0]]=command[1]+V.get(command[0],0)\n",
    "\n",
    "V"
   ]
  },
  {
   "cell_type": "code",
   "execution_count": 5,
   "id": "0cb3ebbb-4a12-47ae-9e83-17a36a4cda38",
   "metadata": {},
   "outputs": [],
   "source": [
    "result=V['forward']*(V['down']-V['up'])"
   ]
  },
  {
   "cell_type": "code",
   "execution_count": 6,
   "id": "509c6a64-3c33-4a0a-8910-3eae8beb1189",
   "metadata": {},
   "outputs": [
    {
     "name": "stdout",
     "output_type": "stream",
     "text": [
      "Result for part 1: 1813801\n"
     ]
    }
   ],
   "source": [
    "print(f\"Result for part 1: {result}\")"
   ]
  },
  {
   "cell_type": "markdown",
   "id": "956adb13-b794-49b5-9d2d-dad25fb36d23",
   "metadata": {},
   "source": [
    "## Part 2"
   ]
  },
  {
   "cell_type": "code",
   "execution_count": 7,
   "id": "ad232969-7d66-4ff7-ae66-550f6ace0386",
   "metadata": {},
   "outputs": [],
   "source": [
    "position, depth, aim = 0,0,0\n",
    "\n",
    "for command in series_commands:\n",
    "    if command[0]=='forward':\n",
    "        position+=command[1]\n",
    "        depth+=aim*command[1]\n",
    "    elif command[0]=='down':\n",
    "        aim+=command[1]\n",
    "    elif command[0]=='up':\n",
    "        aim-=command[1]\n",
    "    else:\n",
    "        pass"
   ]
  },
  {
   "cell_type": "code",
   "execution_count": 8,
   "id": "5e01413c-156c-498c-85dc-40464b7726ca",
   "metadata": {},
   "outputs": [],
   "source": [
    "position, depth, aim \n",
    "result=position*depth"
   ]
  },
  {
   "cell_type": "code",
   "execution_count": 9,
   "id": "ab9d3fc9-e857-4a4b-85aa-363a0a93deec",
   "metadata": {},
   "outputs": [
    {
     "name": "stdout",
     "output_type": "stream",
     "text": [
      "Result for part 2: 1960569556\n"
     ]
    }
   ],
   "source": [
    "print(f\"Result for part 2: {result}\")"
   ]
  },
  {
   "cell_type": "code",
   "execution_count": null,
   "id": "2db6bdc0-b857-428b-964e-10792601a5ae",
   "metadata": {},
   "outputs": [],
   "source": []
  }
 ],
 "metadata": {
  "kernelspec": {
   "display_name": "sandbox",
   "language": "python",
   "name": "sandbox"
  },
  "language_info": {
   "codemirror_mode": {
    "name": "ipython",
    "version": 3
   },
   "file_extension": ".py",
   "mimetype": "text/x-python",
   "name": "python",
   "nbconvert_exporter": "python",
   "pygments_lexer": "ipython3",
   "version": "3.9.7"
  }
 },
 "nbformat": 4,
 "nbformat_minor": 5
}
