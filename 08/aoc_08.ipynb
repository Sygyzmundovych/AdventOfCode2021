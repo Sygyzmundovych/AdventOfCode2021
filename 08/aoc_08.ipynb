{
 "cells": [
  {
   "cell_type": "code",
   "execution_count": 1,
   "id": "75561c94-28fa-43fe-aaa2-286fd74ba268",
   "metadata": {},
   "outputs": [],
   "source": [
    "# Test\n",
    "file_name=\"./aoc_2108_test.txt\"\n",
    "# Prod\n",
    "file_name=\"./aoc_2108_prod.txt\""
   ]
  },
  {
   "cell_type": "code",
   "execution_count": 2,
   "id": "3ff53436-4476-46ce-8bbe-67358bb3f243",
   "metadata": {},
   "outputs": [
    {
     "data": {
      "text/plain": [
       "['fdceba bafdgc abeg afbdgec gbeacd abced bgc fcdge bg bedgc | bafdec cgefd gcebd ebcgd',\n",
       " 'gbfac fegbda fcedagb bea ea abcdef dgbfe gfabe dgea gbdfec | gdea bgefdc bea efdbg',\n",
       " 'eg dagef gbcfeda ageb cegbfd gfe dbefa facdg abfged cedbaf | befda daefb egf gcdfa',\n",
       " 'edgacfb gcfd dgb degfab bcega bdagc cgafbd fbacd gd fceabd | fbdac gd gdbcaf dgb',\n",
       " 'eaf bedgaf dbafc bfceag fedcbg eafdcgb debfa ae adge gdebf | abcdfeg febdg ae daebf']"
      ]
     },
     "execution_count": 2,
     "metadata": {},
     "output_type": "execute_result"
    }
   ],
   "source": [
    "with open(file_name) as f:\n",
    "    raw_data=[line for line in f.read().splitlines()]\n",
    "    f.close()\n",
    "\n",
    "# Check\n",
    "raw_data[:5]"
   ]
  },
  {
   "cell_type": "code",
   "execution_count": 3,
   "id": "9818331d-443d-4430-9583-84f8230d6d02",
   "metadata": {},
   "outputs": [],
   "source": [
    "#For test\n",
    "data=[raw_data[l]+raw_data[l+1] for l in range(len(raw_data)) if raw_data[l][-1:]=='|']"
   ]
  },
  {
   "cell_type": "code",
   "execution_count": 4,
   "id": "b3f05f48-752b-4961-9ca1-53fb7be63370",
   "metadata": {},
   "outputs": [],
   "source": [
    "#For prod\n",
    "data=raw_data"
   ]
  },
  {
   "cell_type": "code",
   "execution_count": 5,
   "id": "146b2df7-ce50-4b2b-ace5-d1ca0d9b2453",
   "metadata": {
    "tags": []
   },
   "outputs": [
    {
     "data": {
      "text/plain": [
       "(['fdceba bafdgc abeg afbdgec gbeacd abced bgc fcdge bg bedgc | bafdec cgefd gcebd ebcgd',\n",
       "  'gbfac fegbda fcedagb bea ea abcdef dgbfe gfabe dgea gbdfec | gdea bgefdc bea efdbg',\n",
       "  'eg dagef gbcfeda ageb cegbfd gfe dbefa facdg abfged cedbaf | befda daefb egf gcdfa'],\n",
       " ['cefgda daefc agecfb fce cgdbefa dfcga dbaef ce badgcf gced | fbdgcea ebafd gdefacb fdcag',\n",
       "  'ebagd fb fbgd cefda ebcagf cgfbade afegdb bdagce bef badfe | ebafgd bfdgea ecdfa bfdcega',\n",
       "  'gcedb fdcb aebgcd bf fcgabe cfbaedg fdbceg bfegd aedgf gbf | bfg cdgeb fdebg cebdg'])"
      ]
     },
     "execution_count": 5,
     "metadata": {},
     "output_type": "execute_result"
    }
   ],
   "source": [
    "data[:3],data[-3:]"
   ]
  },
  {
   "cell_type": "markdown",
   "id": "531dd0c1-9d7b-4a32-8e3d-e74f6bdd60b0",
   "metadata": {},
   "source": [
    "## Part 0"
   ]
  },
  {
   "cell_type": "code",
   "execution_count": 6,
   "id": "3bafdc4d-623e-4100-beff-fc4d479b3b77",
   "metadata": {},
   "outputs": [],
   "source": [
    "DIGITS_7S='''\n",
    "  0:      1:      2:      3:      4:\n",
    " aaaa    ....    aaaa    aaaa    ....\n",
    "b    c  .    c  .    c  .    c  b    c\n",
    "b    c  .    c  .    c  .    c  b    c\n",
    " ....    ....    dddd    dddd    dddd\n",
    "e    f  .    f  e    .  .    f  .    f\n",
    "e    f  .    f  e    .  .    f  .    f\n",
    " gggg    ....    gggg    gggg    ....\n",
    "\n",
    "  5:      6:      7:      8:      9:\n",
    " aaaa    aaaa    aaaa    aaaa    aaaa\n",
    "b    .  b    .  .    c  b    c  b    c\n",
    "b    .  b    .  .    c  b    c  b    c\n",
    " dddd    dddd    ....    dddd    dddd\n",
    ".    f  e    f  .    f  e    f  .    f\n",
    ".    f  e    f  .    f  e    f  .    f\n",
    " gggg    gggg    ....    gggg    gggg\n",
    "'''"
   ]
  },
  {
   "cell_type": "code",
   "execution_count": 7,
   "id": "3cdaf480-9dc1-4864-8dd0-209ccd2f6cc7",
   "metadata": {},
   "outputs": [],
   "source": [
    "DIGITS_7S=DIGITS_7S[1:len(DIGITS_7S)-1].split('\\n\\n')"
   ]
  },
  {
   "cell_type": "code",
   "execution_count": 8,
   "id": "986011d0-68af-404e-926a-c95eda06164e",
   "metadata": {},
   "outputs": [
    {
     "name": "stdout",
     "output_type": "stream",
     "text": [
      "37  aaaa    ....    aaaa    aaaa    ....\n",
      "38 b    c  .    c  .    c  .    c  b    c\n",
      "38 b    c  .    c  .    c  .    c  b    c\n",
      "37  ....    ....    dddd    dddd    dddd\n",
      "38 e    f  .    f  e    .  .    f  .    f\n",
      "38 e    f  .    f  e    .  .    f  .    f\n",
      "37  gggg    ....    gggg    gggg    ....\n",
      "37  aaaa    aaaa    aaaa    aaaa    aaaa\n",
      "38 b    .  b    .  .    c  b    c  b    c\n",
      "38 b    .  b    .  .    c  b    c  b    c\n",
      "37  dddd    dddd    ....    dddd    dddd\n",
      "38 .    f  e    f  .    f  e    f  .    f\n",
      "38 .    f  e    f  .    f  e    f  .    f\n",
      "37  gggg    gggg    ....    gggg    gggg\n"
     ]
    }
   ],
   "source": [
    "# Find wires per digit\n",
    "DIGITS_WIRES=[set() for _ in range(10)]\n",
    "for paragraph_nr in range(len(DIGITS_7S)):\n",
    "    digits7s_paragraph=DIGITS_7S[paragraph_nr].splitlines()\n",
    "    # print(digits7s_paragraph)\n",
    "    for line_nr in range(1, len(digits7s_paragraph)):\n",
    "        print(len(digits7s_paragraph[line_nr]), digits7s_paragraph[line_nr])\n",
    "        for number in range(5):\n",
    "            #print(paragraph_nr*5+number, (digits7s_paragraph[line_nr][number*8:(number+1)*8]), DIGITS_WIRES[paragraph_nr*5+number])\n",
    "            DIGITS_WIRES[paragraph_nr*5+number]=(\n",
    "                DIGITS_WIRES[paragraph_nr*5+number].union(\n",
    "                    set(\n",
    "                        digits7s_paragraph[line_nr][number*8:(number+1)*8]\n",
    "                       )\n",
    "                )\n",
    "            )\n",
    "\n",
    "for i in range(len(DIGITS_WIRES)):\n",
    "    DIGITS_WIRES[i].discard(' ')\n",
    "    DIGITS_WIRES[i].discard('.')"
   ]
  },
  {
   "cell_type": "code",
   "execution_count": 9,
   "id": "c85ee2a9-baa3-4e0d-8606-27a18298db01",
   "metadata": {},
   "outputs": [
    {
     "name": "stdout",
     "output_type": "stream",
     "text": [
      "0 6 {'b', 'g', 'c', 'a', 'e', 'f'}\n",
      "1 2 {'c', 'f'}\n",
      "2 5 {'g', 'c', 'a', 'd', 'e'}\n",
      "3 5 {'g', 'c', 'a', 'd', 'f'}\n",
      "4 4 {'b', 'c', 'd', 'f'}\n",
      "5 5 {'b', 'g', 'a', 'd', 'f'}\n",
      "6 6 {'d', 'b', 'g', 'a', 'e', 'f'}\n",
      "7 3 {'c', 'a', 'f'}\n",
      "8 7 {'d', 'b', 'g', 'c', 'a', 'e', 'f'}\n",
      "9 6 {'d', 'b', 'g', 'c', 'a', 'f'}\n"
     ]
    }
   ],
   "source": [
    "#Check \n",
    "for i in range(len(DIGITS_WIRES)):\n",
    "    print(i, len(DIGITS_WIRES[i]), DIGITS_WIRES[i])"
   ]
  },
  {
   "cell_type": "markdown",
   "id": "e31f7cbc-d29d-407b-9a26-4e9dfbebd9f8",
   "metadata": {},
   "source": [
    "## Part 1"
   ]
  },
  {
   "cell_type": "code",
   "execution_count": 10,
   "id": "09e3f24a-8120-4729-9455-4ab546498d3f",
   "metadata": {},
   "outputs": [
    {
     "data": {
      "text/plain": [
       "{2, 3, 4, 7}"
      ]
     },
     "execution_count": 10,
     "metadata": {},
     "output_type": "execute_result"
    }
   ],
   "source": [
    "LOOKUP={len(DIGITS_WIRES[i]) for i in {1,4,7,8} }\n",
    "LOOKUP"
   ]
  },
  {
   "cell_type": "code",
   "execution_count": 11,
   "id": "1d87bf90-6f38-4123-8212-97ebeaa4b6ad",
   "metadata": {},
   "outputs": [],
   "source": [
    "result:int =0\n",
    "for input in data:\n",
    "    input_values=input.split('|')[1].split()\n",
    "    result+=len([v for v in input_values if len(v) in LOOKUP])\n",
    "    #print(input_values, result)\n",
    "    "
   ]
  },
  {
   "cell_type": "code",
   "execution_count": 12,
   "id": "bb6890d4-7048-406d-b70f-ca27bc744dee",
   "metadata": {},
   "outputs": [
    {
     "name": "stdout",
     "output_type": "stream",
     "text": [
      "Result for part 1: 255\n"
     ]
    }
   ],
   "source": [
    "print(f\"Result for part 1: {result}\")"
   ]
  },
  {
   "cell_type": "markdown",
   "id": "2cf9e844-873f-46ef-b072-0f89f46f283a",
   "metadata": {},
   "source": [
    "## Part 2"
   ]
  },
  {
   "cell_type": "code",
   "execution_count": 13,
   "id": "4a2a9cae-4010-43c2-a97d-9957d7f9b33c",
   "metadata": {},
   "outputs": [],
   "source": [
    "from typing import List, Set"
   ]
  },
  {
   "cell_type": "code",
   "execution_count": 14,
   "id": "bb2bc045-acff-4c2f-86f8-e829be3599c7",
   "metadata": {},
   "outputs": [],
   "source": [
    "# Rules built manually\n",
    "def decypher_wires(curr_line_in : List[str]) -> List[str]:\n",
    "    current_wires=['' for _ in range(10)]\n",
    "    for i in {1,4,7,8}:\n",
    "        current_wires[i]=list(filter(lambda x : len(x)==len(DIGITS_WIRES[i]), curr_line_in))[0]\n",
    "\n",
    "    current_wires[9]=(list(\n",
    "        filter(lambda x : ((set(x).issuperset(set(current_wires[4]).union(set(current_wires[7])))) and len(x)==len(DIGITS_WIRES[9])), curr_line_in)\n",
    "     ))[0]\n",
    "    current_wires[0]=(list(\n",
    "        filter(lambda x : ((set(x).issuperset(set(current_wires[1]))) and len(x)==len(DIGITS_WIRES[0]) and x!=current_wires[9]), curr_line_in)\n",
    "     ))[0]\n",
    "    current_wires[6]=list(filter(lambda x : (len(x)==len(DIGITS_WIRES[6]) and x!=current_wires[0] and x!=current_wires[9]), curr_line_in))[0]\n",
    "    current_wires[2]=list(filter(lambda x : (len(x)==len(DIGITS_WIRES[2]) and not(set(x).issubset(current_wires[9]))), curr_line_in))[0]\n",
    "    current_wires[5]=list(filter(lambda x : (len(x)==len(DIGITS_WIRES[5]) and (set(x).issubset(current_wires[6]))), curr_line_in))[0]\n",
    "    current_wires[3]=list(filter(lambda x : (len(x)==len(DIGITS_WIRES[3]) and x!=current_wires[2] and x!=current_wires[5]), curr_line_in))[0]\n",
    "    return current_wires"
   ]
  },
  {
   "cell_type": "code",
   "execution_count": 15,
   "id": "85812f08-aa0c-4af5-a803-6417405c1491",
   "metadata": {},
   "outputs": [],
   "source": [
    "def decode2digit(wires: str) -> int:\n",
    "    for i in range(10):\n",
    "        if set(CURRENT_WIRES[i])==set(wires): return i\n",
    "    raise Exception(\"Sorry, no match\")"
   ]
  },
  {
   "cell_type": "code",
   "execution_count": 16,
   "id": "5dfe6353-f8c2-42bb-a399-6f6d69634478",
   "metadata": {},
   "outputs": [],
   "source": [
    "result=0\n",
    "for input_nr in range(len(data)):\n",
    "    curr_line_in, curr_line_out=data[input_nr].split('|')[0].split(), data[input_nr].split('|')[1].split()\n",
    "    # Check\n",
    "    # print(curr_line_in, curr_line_out)\n",
    "    CURRENT_WIRES=decypher_wires(curr_line_in)\n",
    "    curr_number=int(''.join([str(decode2digit(input_word)) for input_word in curr_line_out]))\n",
    "    #print(CURRENT_WIRES, curr_number)\n",
    "    result+=curr_number"
   ]
  },
  {
   "cell_type": "code",
   "execution_count": 17,
   "id": "85b8d65e-87ad-4fbb-b9de-1e6570da3257",
   "metadata": {},
   "outputs": [
    {
     "name": "stdout",
     "output_type": "stream",
     "text": [
      "Result for part 2: 982158\n"
     ]
    }
   ],
   "source": [
    "print(f\"Result for part 2: {result}\")"
   ]
  },
  {
   "cell_type": "code",
   "execution_count": null,
   "id": "800df4b3-5ef8-4586-a28d-4cd003382776",
   "metadata": {},
   "outputs": [],
   "source": []
  }
 ],
 "metadata": {
  "kernelspec": {
   "display_name": "Python 3 (ipykernel)",
   "language": "python",
   "name": "python3"
  },
  "language_info": {
   "codemirror_mode": {
    "name": "ipython",
    "version": 3
   },
   "file_extension": ".py",
   "mimetype": "text/x-python",
   "name": "python",
   "nbconvert_exporter": "python",
   "pygments_lexer": "ipython3",
   "version": "3.10.0"
  }
 },
 "nbformat": 4,
 "nbformat_minor": 5
}
