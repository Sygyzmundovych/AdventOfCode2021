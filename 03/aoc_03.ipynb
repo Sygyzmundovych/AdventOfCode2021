{
 "cells": [
  {
   "cell_type": "code",
   "execution_count": 1,
   "id": "e90ad89f-c534-4469-86c6-47afdec303e7",
   "metadata": {},
   "outputs": [],
   "source": [
    "# Test\n",
    "file_name=\"./aoc_2103_test.txt\"\n",
    "# Prod\n",
    "file_name=\"./aoc_2103_prod.txt\""
   ]
  },
  {
   "cell_type": "code",
   "execution_count": 2,
   "id": "2eb75b2d-4a74-4cee-909c-920208bb85d6",
   "metadata": {},
   "outputs": [
    {
     "name": "stdout",
     "output_type": "stream",
     "text": [
      "['110011101111', '011110010111', '101010111001', '110011100110', '110010000101', '000111001111', '001111110011', '100000111010', '101010000110', '001000100011', '110000000100', '000100110000', '010010101110', '101110111101', '100000100111']\n",
      "1000\n"
     ]
    }
   ],
   "source": [
    "with open(file_name) as f:\n",
    "    data=[line for line in f.read().splitlines()]\n",
    "    \n",
    "print(data[:15])\n",
    "print(len(data))"
   ]
  },
  {
   "cell_type": "markdown",
   "id": "72194f6d-32f5-4514-8e41-574d96744f21",
   "metadata": {},
   "source": [
    "## Part 1"
   ]
  },
  {
   "cell_type": "code",
   "execution_count": 3,
   "id": "ec90cdef-a6d5-473c-84fd-c9cbaa607357",
   "metadata": {
    "tags": []
   },
   "outputs": [
    {
     "data": {
      "text/plain": [
       "[[0, 0, 1], [0, 1, 1], [0, 2, 0], [0, 3, 0], [0, 4, 1]]"
      ]
     },
     "execution_count": 3,
     "metadata": {},
     "output_type": "execute_result"
    }
   ],
   "source": [
    "# Just to understand a structure\n",
    "[[diagnostic_nr, i, int(data[diagnostic_nr][i])] for diagnostic_nr in range(len(data)) for i in range(len(data[diagnostic_nr]))][:5]"
   ]
  },
  {
   "cell_type": "code",
   "execution_count": 4,
   "id": "1f4d4d4d-0bde-409e-83b3-a4748166c53e",
   "metadata": {},
   "outputs": [],
   "source": [
    "def count_bits(in_list : set) -> set:\n",
    "    diagnostic_record_len=len(in_list[0])\n",
    "    bit_counts=[0] * diagnostic_record_len\n",
    "    \n",
    "    for diagnostic_nr in range(len(in_list)):\n",
    "        for i in range(diagnostic_record_len):\n",
    "            bit_counts[i]+=int(in_list[diagnostic_nr][i])\n",
    "    return bit_counts"
   ]
  },
  {
   "cell_type": "code",
   "execution_count": 5,
   "id": "d1ed389d-73ad-47da-8063-232fbcab5c3d",
   "metadata": {
    "tags": []
   },
   "outputs": [
    {
     "data": {
      "text/plain": [
       "[484, 501, 519, 496, 493, 504, 485, 504, 487, 499, 490, 494]"
      ]
     },
     "execution_count": 5,
     "metadata": {},
     "output_type": "execute_result"
    }
   ],
   "source": [
    "bit_counts=count_bits(data)\n",
    "\n",
    "bit_counts"
   ]
  },
  {
   "cell_type": "code",
   "execution_count": 6,
   "id": "ec837b00-3fb1-4bd1-8cb1-8839d8cfc1a3",
   "metadata": {},
   "outputs": [],
   "source": [
    "def identify_common_bits(in_list : set) -> set:\n",
    "    bit_counts=count_bits(in_list)\n",
    "    half=len(in_list)/2\n",
    "    most_common=[1*(x>=half) for x in bit_counts]\n",
    "    least_common=[1-x for x in most_common]\n",
    "    return [most_common, least_common]"
   ]
  },
  {
   "cell_type": "code",
   "execution_count": 7,
   "id": "5a05bcd4-24a7-4392-8ef5-b0faba264f78",
   "metadata": {},
   "outputs": [],
   "source": [
    "# half=len(data)//2\n",
    "# gamma_rate=[1*(x>=half) for x in bit_counts]\n",
    "# epsilon_rate=[1-x for x in gamma_rate]"
   ]
  },
  {
   "cell_type": "code",
   "execution_count": 8,
   "id": "4931e2dd-9a1e-41c1-a185-176b16ac55e8",
   "metadata": {},
   "outputs": [
    {
     "data": {
      "text/plain": [
       "([0, 1, 1, 0, 0, 1, 0, 1, 0, 0, 0, 0], [1, 0, 0, 1, 1, 0, 1, 0, 1, 1, 1, 1])"
      ]
     },
     "execution_count": 8,
     "metadata": {},
     "output_type": "execute_result"
    }
   ],
   "source": [
    "gamma_rate, epsilon_rate  = identify_common_bits(data)\n",
    "\n",
    "gamma_rate, epsilon_rate"
   ]
  },
  {
   "cell_type": "code",
   "execution_count": 9,
   "id": "ed6610a7-6c5e-44b5-9115-b6ea607781a8",
   "metadata": {},
   "outputs": [],
   "source": [
    "def bits2dec(in_list : set) -> int:\n",
    "    diagnostic_record_len=len(in_list)\n",
    "    return sum([in_list[i] * 2**(diagnostic_record_len-i-1) for i in range(diagnostic_record_len)])"
   ]
  },
  {
   "cell_type": "code",
   "execution_count": 10,
   "id": "2c8d160b-de09-4d6d-afc3-4cdeeffb0d0e",
   "metadata": {},
   "outputs": [],
   "source": [
    "# gamma_rate_dec=sum([gamma_rate[i] * 2**(diagnostic_record_len-i-1) for i in range(diagnostic_record_len)])\n",
    "# epsilon_rate_dec=sum([epsilon_rate[i] * 2**(diagnostic_record_len-i-1) for i in range(diagnostic_record_len)])"
   ]
  },
  {
   "cell_type": "code",
   "execution_count": 11,
   "id": "9e5a07da-4719-4e55-9f3f-10a4e8d263bb",
   "metadata": {},
   "outputs": [],
   "source": [
    "gamma_rate_dec=bits2dec(gamma_rate)\n",
    "epsilon_rate_dec=bits2dec(epsilon_rate)"
   ]
  },
  {
   "cell_type": "code",
   "execution_count": 12,
   "id": "e187cf92-306c-4bc7-9e0a-bb3492e24647",
   "metadata": {},
   "outputs": [],
   "source": [
    "#Using Python without reinventing the wheel\n",
    "gamma_rate_dec=int(''.join([str(d) for d in gamma_rate]) , 2)\n",
    "epsilon_rate_dec=int(''.join([str(d) for d in epsilon_rate]) , 2)"
   ]
  },
  {
   "cell_type": "code",
   "execution_count": 13,
   "id": "d4a20cd3-ed52-4d27-9028-fd0ee4fabfa4",
   "metadata": {},
   "outputs": [],
   "source": [
    "result=gamma_rate_dec*epsilon_rate_dec"
   ]
  },
  {
   "cell_type": "code",
   "execution_count": 14,
   "id": "509c6a64-3c33-4a0a-8910-3eae8beb1189",
   "metadata": {},
   "outputs": [
    {
     "name": "stdout",
     "output_type": "stream",
     "text": [
      "Result for part 1: 4006064\n"
     ]
    }
   ],
   "source": [
    "print(f\"Result for part 1: {result}\")"
   ]
  },
  {
   "cell_type": "markdown",
   "id": "956adb13-b794-49b5-9d2d-dad25fb36d23",
   "metadata": {},
   "source": [
    "## Part 2"
   ]
  },
  {
   "cell_type": "code",
   "execution_count": 15,
   "id": "5ca9e765-888f-4c01-a450-d462b4a6ec8f",
   "metadata": {},
   "outputs": [
    {
     "name": "stdout",
     "output_type": "stream",
     "text": [
      "['011000111111']\n"
     ]
    }
   ],
   "source": [
    "# O2 \n",
    "generator_rating_o2=data\n",
    "iter=0\n",
    "while len(generator_rating_o2)>1:\n",
    "    most_common_bits, _  = identify_common_bits(generator_rating_o2)\n",
    "    generator_rating_o2=list(filter(lambda diagnostic_record : diagnostic_record[iter]==str(most_common_bits[iter]), generator_rating_o2))\n",
    "    iter+=1\n",
    "    # print(iter, generator_rating_o2)\n",
    "    \n",
    "print(generator_rating_o2)"
   ]
  },
  {
   "cell_type": "code",
   "execution_count": 16,
   "id": "48ebc0f6-413a-468f-bfde-8e67390cab6c",
   "metadata": {},
   "outputs": [
    {
     "name": "stdout",
     "output_type": "stream",
     "text": [
      "['111010000100']\n"
     ]
    }
   ],
   "source": [
    "# CO2\n",
    "generator_rating_co2=data\n",
    "iter=0\n",
    "while len(generator_rating_co2)>1:\n",
    "    _, least_common_bits = identify_common_bits(generator_rating_co2)\n",
    "    generator_rating_co2=list(filter(lambda diagnostic_record : diagnostic_record[iter]==str(least_common_bits[iter]), generator_rating_co2))\n",
    "    iter+=1\n",
    "    # print(iter, generator_rating_co2)\n",
    "    \n",
    "print(generator_rating_co2)"
   ]
  },
  {
   "cell_type": "code",
   "execution_count": 17,
   "id": "295bf47e-5962-441d-bbee-32bd1afbcfaf",
   "metadata": {},
   "outputs": [
    {
     "data": {
      "text/plain": [
       "[1, 1, 1, 0, 1, 0, 0, 0, 0, 1, 0, 0]"
      ]
     },
     "execution_count": 17,
     "metadata": {},
     "output_type": "execute_result"
    }
   ],
   "source": [
    "#Just to understand a way to split list of strings into individual digits\n",
    "[int(c) for s in generator_rating_co2 for c in s]"
   ]
  },
  {
   "cell_type": "code",
   "execution_count": 18,
   "id": "03e45213-b20d-4c11-8229-c7cd6a5e7faf",
   "metadata": {},
   "outputs": [],
   "source": [
    "result=(\n",
    "    bits2dec([int(c) for s in generator_rating_o2 for c in s])\n",
    "    * bits2dec([int(c) for s in generator_rating_co2 for c in s])\n",
    ")"
   ]
  },
  {
   "cell_type": "code",
   "execution_count": 19,
   "id": "de4369eb-7108-432d-b941-8eee155706c0",
   "metadata": {},
   "outputs": [],
   "source": [
    "# Less smart, but using Python :-D\n",
    "result=(\n",
    "    int(generator_rating_o2[0],2)\n",
    "    * int(generator_rating_co2[0],2)\n",
    ")"
   ]
  },
  {
   "cell_type": "code",
   "execution_count": 20,
   "id": "ab9d3fc9-e857-4a4b-85aa-363a0a93deec",
   "metadata": {},
   "outputs": [
    {
     "name": "stdout",
     "output_type": "stream",
     "text": [
      "Result for part 2: 5941884\n"
     ]
    }
   ],
   "source": [
    "print(f\"Result for part 2: {result}\")"
   ]
  },
  {
   "cell_type": "code",
   "execution_count": null,
   "id": "69198e3d-ca17-4b92-94f4-045d75b7de3b",
   "metadata": {},
   "outputs": [],
   "source": []
  }
 ],
 "metadata": {
  "kernelspec": {
   "display_name": "sandbox",
   "language": "python",
   "name": "sandbox"
  },
  "language_info": {
   "codemirror_mode": {
    "name": "ipython",
    "version": 3
   },
   "file_extension": ".py",
   "mimetype": "text/x-python",
   "name": "python",
   "nbconvert_exporter": "python",
   "pygments_lexer": "ipython3",
   "version": "3.9.7"
  }
 },
 "nbformat": 4,
 "nbformat_minor": 5
}
