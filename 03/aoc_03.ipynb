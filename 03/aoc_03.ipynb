{
 "cells": [
  {
   "cell_type": "code",
   "execution_count": 1,
   "id": "e90ad89f-c534-4469-86c6-47afdec303e7",
   "metadata": {},
   "outputs": [],
   "source": [
    "# Test\n",
    "file_name=\"./aoc_2103_test.txt\"\n",
    "# Prod\n",
    "file_name=\"./aoc_2103_prod.txt\""
   ]
  },
  {
   "cell_type": "code",
   "execution_count": 2,
   "id": "2eb75b2d-4a74-4cee-909c-920208bb85d6",
   "metadata": {},
   "outputs": [
    {
     "name": "stdout",
     "output_type": "stream",
     "text": [
      "['110011101111', '011110010111', '101010111001', '110011100110', '110010000101', '000111001111', '001111110011', '100000111010', '101010000110', '001000100011', '110000000100', '000100110000', '010010101110', '101110111101', '100000100111']\n",
      "1000\n"
     ]
    }
   ],
   "source": [
    "with open(file_name) as f:\n",
    "    data=[line for line in f.read().splitlines()]\n",
    "    \n",
    "print(data[:15])\n",
    "print(len(data))"
   ]
  },
  {
   "cell_type": "code",
   "execution_count": 3,
   "id": "38f2269c-e100-4801-a1ea-91a7e8a20c21",
   "metadata": {},
   "outputs": [
    {
     "name": "stdout",
     "output_type": "stream",
     "text": [
      "1\n",
      "1\n",
      "0\n",
      "0\n",
      "1\n",
      "1\n",
      "1\n",
      "0\n",
      "1\n",
      "1\n",
      "1\n",
      "1\n"
     ]
    }
   ],
   "source": [
    "for i in range(len(data[0])):\n",
    "    print(data[0][i])"
   ]
  },
  {
   "cell_type": "markdown",
   "id": "72194f6d-32f5-4514-8e41-574d96744f21",
   "metadata": {},
   "source": [
    "## Part 1"
   ]
  },
  {
   "cell_type": "code",
   "execution_count": 4,
   "id": "ec90cdef-a6d5-473c-84fd-c9cbaa607357",
   "metadata": {
    "tags": []
   },
   "outputs": [
    {
     "data": {
      "text/plain": [
       "[[0, 0, 1], [0, 1, 1], [0, 2, 0], [0, 3, 0], [0, 4, 1]]"
      ]
     },
     "execution_count": 4,
     "metadata": {},
     "output_type": "execute_result"
    }
   ],
   "source": [
    "[[diagnostic_nr, i, int(data[diagnostic_nr][i])] for diagnostic_nr in range(len(data)) for i in range(len(data[diagnostic_nr]))][:5]"
   ]
  },
  {
   "cell_type": "code",
   "execution_count": 5,
   "id": "d1ed389d-73ad-47da-8063-232fbcab5c3d",
   "metadata": {
    "tags": []
   },
   "outputs": [
    {
     "data": {
      "text/plain": [
       "[484, 501, 519, 496, 493, 504, 485, 504, 487, 499, 490, 494]"
      ]
     },
     "execution_count": 5,
     "metadata": {},
     "output_type": "execute_result"
    }
   ],
   "source": [
    "diagnostic_record_len=len(data[0])\n",
    "bit_counts=[0] * diagnostic_record_len\n",
    "\n",
    "for diagnostic_nr in range(len(data)):\n",
    "    for i in range(diagnostic_record_len):\n",
    "        bit_counts[i]+=int(data[diagnostic_nr][i])\n",
    "        #print(i, int(data[diagnostic_nr][i]), bit_counts[i])\n",
    "\n",
    "bit_counts"
   ]
  },
  {
   "cell_type": "code",
   "execution_count": 6,
   "id": "5a05bcd4-24a7-4392-8ef5-b0faba264f78",
   "metadata": {},
   "outputs": [],
   "source": [
    "half=len(data)//2\n",
    "gamma_rate=[1*(x>half) for x in bit_counts]\n",
    "epsilon_rate=[1-x for x in gamma_rate]"
   ]
  },
  {
   "cell_type": "code",
   "execution_count": 7,
   "id": "7638aac2-ce14-4522-91ae-cde7c3d169d0",
   "metadata": {},
   "outputs": [
    {
     "data": {
      "text/plain": [
       "([0, 1, 1, 0, 0, 1, 0, 1, 0, 0, 0, 0], [1, 0, 0, 1, 1, 0, 1, 0, 1, 1, 1, 1])"
      ]
     },
     "execution_count": 7,
     "metadata": {},
     "output_type": "execute_result"
    }
   ],
   "source": [
    "gamma_rate, epsilon_rate"
   ]
  },
  {
   "cell_type": "code",
   "execution_count": 8,
   "id": "97478090-b802-4cec-9216-db41db7b8ee6",
   "metadata": {},
   "outputs": [],
   "source": [
    "gamma_rate_dec=sum([gamma_rate[i] * 2**(diagnostic_record_len-i-1) for i in range(diagnostic_record_len)])\n",
    "epsilon_rate_dec=sum([epsilon_rate[i] * 2**(diagnostic_record_len-i-1) for i in range(diagnostic_record_len)])"
   ]
  },
  {
   "cell_type": "code",
   "execution_count": 9,
   "id": "d4a20cd3-ed52-4d27-9028-fd0ee4fabfa4",
   "metadata": {},
   "outputs": [],
   "source": [
    "result=gamma_rate_dec*epsilon_rate_dec"
   ]
  },
  {
   "cell_type": "code",
   "execution_count": 10,
   "id": "509c6a64-3c33-4a0a-8910-3eae8beb1189",
   "metadata": {},
   "outputs": [
    {
     "name": "stdout",
     "output_type": "stream",
     "text": [
      "Result for part 1: 4006064\n"
     ]
    }
   ],
   "source": [
    "print(f\"Result for part 1: {result}\")"
   ]
  },
  {
   "cell_type": "markdown",
   "id": "956adb13-b794-49b5-9d2d-dad25fb36d23",
   "metadata": {},
   "source": [
    "## Part 2"
   ]
  },
  {
   "cell_type": "code",
   "execution_count": null,
   "id": "5ca9e765-888f-4c01-a450-d462b4a6ec8f",
   "metadata": {},
   "outputs": [],
   "source": []
  },
  {
   "cell_type": "code",
   "execution_count": null,
   "id": "ab9d3fc9-e857-4a4b-85aa-363a0a93deec",
   "metadata": {},
   "outputs": [],
   "source": [
    "print(f\"Result for part 2: {result}\")"
   ]
  },
  {
   "cell_type": "code",
   "execution_count": null,
   "id": "2db6bdc0-b857-428b-964e-10792601a5ae",
   "metadata": {},
   "outputs": [],
   "source": []
  }
 ],
 "metadata": {
  "kernelspec": {
   "display_name": "sandbox",
   "language": "python",
   "name": "sandbox"
  },
  "language_info": {
   "codemirror_mode": {
    "name": "ipython",
    "version": 3
   },
   "file_extension": ".py",
   "mimetype": "text/x-python",
   "name": "python",
   "nbconvert_exporter": "python",
   "pygments_lexer": "ipython3",
   "version": "3.9.7"
  }
 },
 "nbformat": 4,
 "nbformat_minor": 5
}
