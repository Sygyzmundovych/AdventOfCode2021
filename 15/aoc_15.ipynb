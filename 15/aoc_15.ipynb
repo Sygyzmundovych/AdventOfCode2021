{
 "cells": [
  {
   "cell_type": "code",
   "execution_count": 1,
   "id": "75561c94-28fa-43fe-aaa2-286fd74ba268",
   "metadata": {},
   "outputs": [],
   "source": [
    "# Test\n",
    "file_name=\"./aoc_2115_test.txt\"\n",
    "# Prod\n",
    "file_name=\"./aoc_2115_prod.txt\""
   ]
  },
  {
   "cell_type": "code",
   "execution_count": 2,
   "id": "3ff53436-4476-46ce-8bbe-67358bb3f243",
   "metadata": {},
   "outputs": [
    {
     "data": {
      "text/plain": [
       "['6489887186259823155119378351872148719812918213519649577918412241959623221389974192429139298912991367',\n",
       " '3859891261917894749518659872199265294116953513169391165342899913878588561865553734597561693917577259',\n",
       " '7821697449796196228941887781377133998193483644892699199569294366179448944296919898443894894653982299',\n",
       " '4521784638899152252884535888651941499199556787174181866459996191939865591888468793671399848719386874',\n",
       " '9191996931799877154649198443239834219617959491499995891819688991189512152374148611392199689771321748',\n",
       " '3667131999966376698925485914885119653598637984789199249717987982323518981692239229913697228977769187',\n",
       " '5913911179874379588135157927159887689932919711124715316555782223929991889593659797141392198858861889',\n",
       " '8889299854191893897698362569935143896411522526753243281794876746461747369943293918696398639953911511',\n",
       " '6463567347538215129956611194361438953389822419896312246999991693527638996861829479689711567997995192',\n",
       " '4969812254996785971152245859891328871698554194613499811274874939279976912834954128868111913733497634']"
      ]
     },
     "metadata": {},
     "output_type": "display_data"
    }
   ],
   "source": [
    "with open(file_name) as f:\n",
    "    raw_data=[line for line in f.read().splitlines()]\n",
    "    f.close()\n",
    "\n",
    "# Check\n",
    "display(raw_data[:10])"
   ]
  },
  {
   "cell_type": "code",
   "execution_count": 3,
   "id": "b3f05f48-752b-4961-9ca1-53fb7be63370",
   "metadata": {},
   "outputs": [],
   "source": [
    "data=[[int(digit) for digit in line] for line in raw_data]"
   ]
  },
  {
   "cell_type": "code",
   "execution_count": 4,
   "id": "45a73172-8698-4ad7-80e8-c828f6e5936f",
   "metadata": {},
   "outputs": [],
   "source": [
    "#data"
   ]
  },
  {
   "cell_type": "markdown",
   "id": "c5c2bfd7-c58a-4c7f-a2aa-ae2b8141d66b",
   "metadata": {},
   "source": [
    "## Part 0"
   ]
  },
  {
   "cell_type": "code",
   "execution_count": 5,
   "id": "4d251771-3b55-443e-bead-f4ee09351eea",
   "metadata": {},
   "outputs": [],
   "source": [
    "from typing import Tuple, List"
   ]
  },
  {
   "cell_type": "code",
   "execution_count": 6,
   "id": "09a2f39d-1ada-4767-a322-580d94f11c18",
   "metadata": {},
   "outputs": [
    {
     "name": "stdout",
     "output_type": "stream",
     "text": [
      "2.10.21091803\n"
     ]
    }
   ],
   "source": [
    "import pandas as pd\n",
    "pd.__version__\n",
    "\n",
    "import hana_ml\n",
    "print(hana_ml.__version__)"
   ]
  },
  {
   "cell_type": "code",
   "execution_count": 7,
   "id": "22b3f579-d7d7-4571-b39d-de61773a673f",
   "metadata": {},
   "outputs": [],
   "source": [
    "hana_cloud_endpoint=\"402c4ef5-358b-4a67-b849-242c5ca7da89.hana.prod-eu10.hanacloud.ondemand.com:443\""
   ]
  },
  {
   "cell_type": "code",
   "execution_count": 8,
   "id": "b6ff027c-d511-4339-a2dd-45801ce07d11",
   "metadata": {},
   "outputs": [
    {
     "name": "stdin",
     "output_type": "stream",
     "text": [
      "HANA DB User : DataGeek Password :  ·········\n"
     ]
    }
   ],
   "source": [
    "hana_cloud_host, hana_cloud_port=hana_cloud_endpoint.split(\":\")\n",
    "\n",
    "cchc=hana_ml.dataframe.ConnectionContext(port=hana_cloud_port,\n",
    "                                         address=hana_cloud_host,\n",
    "                                         user='DataGeek'\n",
    "                                        )"
   ]
  },
  {
   "cell_type": "code",
   "execution_count": 9,
   "id": "a0c3087b-8ea6-47b8-a83a-4c81ad8e908f",
   "metadata": {},
   "outputs": [
    {
     "name": "stdout",
     "output_type": "stream",
     "text": [
      "4.00.000.00.1638878465 (fa/CE2021.30)\n",
      "DATAGEEK\n"
     ]
    }
   ],
   "source": [
    "print(cchc.hana_version())\n",
    "print(cchc.get_current_schema())"
   ]
  },
  {
   "cell_type": "markdown",
   "id": "e31f7cbc-d29d-407b-9a26-4e9dfbebd9f8",
   "metadata": {},
   "source": [
    "## Part 1"
   ]
  },
  {
   "cell_type": "code",
   "execution_count": 10,
   "id": "2b38e2b5-5120-4730-a73a-a2e3b83034ff",
   "metadata": {},
   "outputs": [
    {
     "data": {
      "text/plain": [
       "(100, 100)"
      ]
     },
     "execution_count": 10,
     "metadata": {},
     "output_type": "execute_result"
    }
   ],
   "source": [
    "max_y=len(data)\n",
    "max_x=len(data[0])\n",
    "max_y, max_x"
   ]
  },
  {
   "cell_type": "code",
   "execution_count": 11,
   "id": "8f1fa6a7-0dba-48db-adcd-5b81b22ab9f6",
   "metadata": {},
   "outputs": [
    {
     "name": "stdout",
     "output_type": "stream",
     "text": [
      "CPU times: user 7.09 ms, sys: 515 µs, total: 7.61 ms\n",
      "Wall time: 7.54 ms\n"
     ]
    }
   ],
   "source": [
    "%%time\n",
    "nodes4dfp={\n",
    "    'node_id':    [y*max_x+ x   for y in range(max_y) for x in range(max_x)],\n",
    "    'node_coord': [(y,x)    for y in range(max_y) for x in range(max_x)],\n",
    "    'node_name':  [str((y,x))    for y in range(max_y) for x in range(max_x)],\n",
    "    'own_cost':   [data[y][x] for y in range(max_y) for x in range(max_x)]\n",
    "}"
   ]
  },
  {
   "cell_type": "code",
   "execution_count": 12,
   "id": "ede54d81-cd1a-4d48-9be4-3aecd6d1994d",
   "metadata": {},
   "outputs": [
    {
     "data": {
      "text/html": [
       "<div>\n",
       "<style scoped>\n",
       "    .dataframe tbody tr th:only-of-type {\n",
       "        vertical-align: middle;\n",
       "    }\n",
       "\n",
       "    .dataframe tbody tr th {\n",
       "        vertical-align: top;\n",
       "    }\n",
       "\n",
       "    .dataframe thead th {\n",
       "        text-align: right;\n",
       "    }\n",
       "</style>\n",
       "<table border=\"1\" class=\"dataframe\">\n",
       "  <thead>\n",
       "    <tr style=\"text-align: right;\">\n",
       "      <th></th>\n",
       "      <th>node_id</th>\n",
       "      <th>node_coord</th>\n",
       "      <th>node_name</th>\n",
       "      <th>own_cost</th>\n",
       "    </tr>\n",
       "  </thead>\n",
       "  <tbody>\n",
       "    <tr>\n",
       "      <th>0</th>\n",
       "      <td>0</td>\n",
       "      <td>(0, 0)</td>\n",
       "      <td>(0, 0)</td>\n",
       "      <td>6</td>\n",
       "    </tr>\n",
       "    <tr>\n",
       "      <th>1</th>\n",
       "      <td>1</td>\n",
       "      <td>(0, 1)</td>\n",
       "      <td>(0, 1)</td>\n",
       "      <td>4</td>\n",
       "    </tr>\n",
       "    <tr>\n",
       "      <th>2</th>\n",
       "      <td>2</td>\n",
       "      <td>(0, 2)</td>\n",
       "      <td>(0, 2)</td>\n",
       "      <td>8</td>\n",
       "    </tr>\n",
       "    <tr>\n",
       "      <th>3</th>\n",
       "      <td>3</td>\n",
       "      <td>(0, 3)</td>\n",
       "      <td>(0, 3)</td>\n",
       "      <td>9</td>\n",
       "    </tr>\n",
       "    <tr>\n",
       "      <th>4</th>\n",
       "      <td>4</td>\n",
       "      <td>(0, 4)</td>\n",
       "      <td>(0, 4)</td>\n",
       "      <td>8</td>\n",
       "    </tr>\n",
       "    <tr>\n",
       "      <th>...</th>\n",
       "      <td>...</td>\n",
       "      <td>...</td>\n",
       "      <td>...</td>\n",
       "      <td>...</td>\n",
       "    </tr>\n",
       "    <tr>\n",
       "      <th>9995</th>\n",
       "      <td>9995</td>\n",
       "      <td>(99, 95)</td>\n",
       "      <td>(99, 95)</td>\n",
       "      <td>9</td>\n",
       "    </tr>\n",
       "    <tr>\n",
       "      <th>9996</th>\n",
       "      <td>9996</td>\n",
       "      <td>(99, 96)</td>\n",
       "      <td>(99, 96)</td>\n",
       "      <td>9</td>\n",
       "    </tr>\n",
       "    <tr>\n",
       "      <th>9997</th>\n",
       "      <td>9997</td>\n",
       "      <td>(99, 97)</td>\n",
       "      <td>(99, 97)</td>\n",
       "      <td>3</td>\n",
       "    </tr>\n",
       "    <tr>\n",
       "      <th>9998</th>\n",
       "      <td>9998</td>\n",
       "      <td>(99, 98)</td>\n",
       "      <td>(99, 98)</td>\n",
       "      <td>1</td>\n",
       "    </tr>\n",
       "    <tr>\n",
       "      <th>9999</th>\n",
       "      <td>9999</td>\n",
       "      <td>(99, 99)</td>\n",
       "      <td>(99, 99)</td>\n",
       "      <td>8</td>\n",
       "    </tr>\n",
       "  </tbody>\n",
       "</table>\n",
       "<p>10000 rows × 4 columns</p>\n",
       "</div>"
      ],
      "text/plain": [
       "      node_id node_coord node_name  own_cost\n",
       "0           0     (0, 0)    (0, 0)         6\n",
       "1           1     (0, 1)    (0, 1)         4\n",
       "2           2     (0, 2)    (0, 2)         8\n",
       "3           3     (0, 3)    (0, 3)         9\n",
       "4           4     (0, 4)    (0, 4)         8\n",
       "...       ...        ...       ...       ...\n",
       "9995     9995   (99, 95)  (99, 95)         9\n",
       "9996     9996   (99, 96)  (99, 96)         9\n",
       "9997     9997   (99, 97)  (99, 97)         3\n",
       "9998     9998   (99, 98)  (99, 98)         1\n",
       "9999     9999   (99, 99)  (99, 99)         8\n",
       "\n",
       "[10000 rows x 4 columns]"
      ]
     },
     "execution_count": 12,
     "metadata": {},
     "output_type": "execute_result"
    }
   ],
   "source": [
    "dfp_nodes=pd.DataFrame(nodes4dfp)\n",
    "\n",
    "# Check\n",
    "dfp_nodes"
   ]
  },
  {
   "cell_type": "code",
   "execution_count": 13,
   "id": "a4564282-c4dd-409f-aeab-1da08e3f78aa",
   "metadata": {},
   "outputs": [
    {
     "data": {
      "text/plain": [
       "[(7, 8), (8, 7), (8, 9), (9, 8)]"
      ]
     },
     "execution_count": 13,
     "metadata": {},
     "output_type": "execute_result"
    }
   ],
   "source": [
    "def get_neighbours(yx: Tuple[int,int]) -> List[Tuple[int, int]]:\n",
    "    y,x=yx\n",
    "    neighbours=[\n",
    "        (ny,nx) \n",
    "        for ny in range(max(0,y-1), min(y+2, max_y))\n",
    "        for nx in range(max(0,x-1), min(x+2, max_x))\n",
    "        if not(ny==y and nx==x) and not(ny!=y and nx!=x)\n",
    "    ]\n",
    "    return neighbours\n",
    "\n",
    "#Check\n",
    "get_neighbours((8,8))"
   ]
  },
  {
   "cell_type": "code",
   "execution_count": 14,
   "id": "811e6058-202e-4887-9cc7-dc359b568481",
   "metadata": {},
   "outputs": [
    {
     "data": {
      "text/plain": [
       "[(98, 6), (199, 9)]"
      ]
     },
     "execution_count": 14,
     "metadata": {},
     "output_type": "execute_result"
    }
   ],
   "source": [
    "def get_neighbours_by_id(node_id: int) -> List[Tuple[int, int]]:\n",
    "    y,x=dfp_nodes[dfp_nodes['node_id']==node_id]['node_coord'].iloc[0]\n",
    "    neighbours_coord=[\n",
    "        (ny,nx) \n",
    "        for ny in range(max(0,y-1), min(y+2, max_y))\n",
    "        for nx in range(max(0,x-1), min(x+2, max_x))\n",
    "        if not(ny==y and nx==x) and not(ny!=y and nx!=x)\n",
    "    ]\n",
    "    neighbours_ids_costs=[\n",
    "        (dfp_nodes[dfp_nodes['node_coord']==neighbour_coord][['node_id','own_cost']].values[0][0], #node_id\n",
    "        dfp_nodes[dfp_nodes['node_coord']==neighbour_coord][['node_id','own_cost']].values[0][1]) #node_cost\n",
    "        for neighbour_coord in neighbours_coord\n",
    "    ]\n",
    "    return neighbours_ids_costs\n",
    "\n",
    "#Check\n",
    "get_neighbours_by_id(99)"
   ]
  },
  {
   "cell_type": "code",
   "execution_count": 15,
   "id": "317918f6-1dd1-4e09-a5b1-bc313530c0c4",
   "metadata": {
    "tags": []
   },
   "outputs": [],
   "source": [
    "edges4dfp={\n",
    "    'edge_id': [],\n",
    "    'node_from': [],\n",
    "    'node_to': [],\n",
    "    'cost': []\n",
    "}\n",
    "\n",
    "edge_id=0\n",
    "for node_from_id in nodes4dfp['node_id']:\n",
    "    node_from_coord=dfp_nodes[dfp_nodes['node_id']==node_from_id]['node_coord'].iloc[0]\n",
    "    for neighbour in get_neighbours_by_id(node_from_id):\n",
    "        edge_id+=1\n",
    "        #print(edge_id, node_from_id, neighbour[0], neighbour[1])\n",
    "        edges4dfp['edge_id'].append(edge_id)\n",
    "        edges4dfp['node_from'].append(node_from_id)\n",
    "        edges4dfp['node_to'].append(neighbour[0])\n",
    "        edges4dfp['cost'].append(float(neighbour[1]))"
   ]
  },
  {
   "cell_type": "code",
   "execution_count": 16,
   "id": "096b0ffd-3495-42df-b8b7-673843cdc3b6",
   "metadata": {},
   "outputs": [
    {
     "data": {
      "text/html": [
       "<div>\n",
       "<style scoped>\n",
       "    .dataframe tbody tr th:only-of-type {\n",
       "        vertical-align: middle;\n",
       "    }\n",
       "\n",
       "    .dataframe tbody tr th {\n",
       "        vertical-align: top;\n",
       "    }\n",
       "\n",
       "    .dataframe thead th {\n",
       "        text-align: right;\n",
       "    }\n",
       "</style>\n",
       "<table border=\"1\" class=\"dataframe\">\n",
       "  <thead>\n",
       "    <tr style=\"text-align: right;\">\n",
       "      <th></th>\n",
       "      <th>edge_id</th>\n",
       "      <th>node_from</th>\n",
       "      <th>node_to</th>\n",
       "      <th>cost</th>\n",
       "    </tr>\n",
       "  </thead>\n",
       "  <tbody>\n",
       "    <tr>\n",
       "      <th>0</th>\n",
       "      <td>1</td>\n",
       "      <td>0</td>\n",
       "      <td>1</td>\n",
       "      <td>4.0</td>\n",
       "    </tr>\n",
       "    <tr>\n",
       "      <th>1</th>\n",
       "      <td>2</td>\n",
       "      <td>0</td>\n",
       "      <td>100</td>\n",
       "      <td>3.0</td>\n",
       "    </tr>\n",
       "    <tr>\n",
       "      <th>2</th>\n",
       "      <td>3</td>\n",
       "      <td>1</td>\n",
       "      <td>0</td>\n",
       "      <td>6.0</td>\n",
       "    </tr>\n",
       "    <tr>\n",
       "      <th>3</th>\n",
       "      <td>4</td>\n",
       "      <td>1</td>\n",
       "      <td>2</td>\n",
       "      <td>8.0</td>\n",
       "    </tr>\n",
       "    <tr>\n",
       "      <th>4</th>\n",
       "      <td>5</td>\n",
       "      <td>1</td>\n",
       "      <td>101</td>\n",
       "      <td>8.0</td>\n",
       "    </tr>\n",
       "    <tr>\n",
       "      <th>...</th>\n",
       "      <td>...</td>\n",
       "      <td>...</td>\n",
       "      <td>...</td>\n",
       "      <td>...</td>\n",
       "    </tr>\n",
       "    <tr>\n",
       "      <th>39595</th>\n",
       "      <td>39596</td>\n",
       "      <td>9998</td>\n",
       "      <td>9898</td>\n",
       "      <td>4.0</td>\n",
       "    </tr>\n",
       "    <tr>\n",
       "      <th>39596</th>\n",
       "      <td>39597</td>\n",
       "      <td>9998</td>\n",
       "      <td>9997</td>\n",
       "      <td>3.0</td>\n",
       "    </tr>\n",
       "    <tr>\n",
       "      <th>39597</th>\n",
       "      <td>39598</td>\n",
       "      <td>9998</td>\n",
       "      <td>9999</td>\n",
       "      <td>8.0</td>\n",
       "    </tr>\n",
       "    <tr>\n",
       "      <th>39598</th>\n",
       "      <td>39599</td>\n",
       "      <td>9999</td>\n",
       "      <td>9899</td>\n",
       "      <td>6.0</td>\n",
       "    </tr>\n",
       "    <tr>\n",
       "      <th>39599</th>\n",
       "      <td>39600</td>\n",
       "      <td>9999</td>\n",
       "      <td>9998</td>\n",
       "      <td>1.0</td>\n",
       "    </tr>\n",
       "  </tbody>\n",
       "</table>\n",
       "<p>39600 rows × 4 columns</p>\n",
       "</div>"
      ],
      "text/plain": [
       "       edge_id  node_from  node_to  cost\n",
       "0            1          0        1   4.0\n",
       "1            2          0      100   3.0\n",
       "2            3          1        0   6.0\n",
       "3            4          1        2   8.0\n",
       "4            5          1      101   8.0\n",
       "...        ...        ...      ...   ...\n",
       "39595    39596       9998     9898   4.0\n",
       "39596    39597       9998     9997   3.0\n",
       "39597    39598       9998     9999   8.0\n",
       "39598    39599       9999     9899   6.0\n",
       "39599    39600       9999     9998   1.0\n",
       "\n",
       "[39600 rows x 4 columns]"
      ]
     },
     "execution_count": 16,
     "metadata": {},
     "output_type": "execute_result"
    }
   ],
   "source": [
    "dfp_edges=pd.DataFrame(edges4dfp)\n",
    "\n",
    "dfp_edges"
   ]
  },
  {
   "cell_type": "code",
   "execution_count": 17,
   "id": "d7aead87-a924-4845-8ebb-2649831af07d",
   "metadata": {},
   "outputs": [
    {
     "name": "stderr",
     "output_type": "stream",
     "text": [
      "100%|█████████████████████████████████████████████████████████████████████████████████████████| 1/1 [00:00<00:00,  2.74it/s]\n",
      "100%|█████████████████████████████████████████████████████████████████████████████████████████| 1/1 [00:00<00:00,  1.76it/s]\n"
     ]
    }
   ],
   "source": [
    "import hana_ml.graph\n",
    "\n",
    "hg = hana_ml.graph.create_graph_from_dataframes(connection_context=cchc,\n",
    "                                                vertices_df=dfp_nodes[['node_id','node_name','own_cost']].convert_dtypes(), \n",
    "                                                edges_df=dfp_edges,\n",
    "                                                workspace_name=\"AOC2021DAY15\",\n",
    "                                                vertex_key_column=\"node_id\",\n",
    "                                                edge_key_column=\"edge_id\", edge_source_column=\"node_from\", edge_target_column=\"node_to\",\n",
    "                                                drop_exist_tab=True\n",
    "                                               )"
   ]
  },
  {
   "cell_type": "code",
   "execution_count": 18,
   "id": "64ca5038-2c09-4ffa-8e3b-6fb7c4f2ac37",
   "metadata": {},
   "outputs": [
    {
     "name": "stdout",
     "output_type": "stream",
     "text": [
      "  SCHEMA_NAME             TABLE_NAME\n",
      "0    DATAGEEK     AOC2021DAY15_EDGES\n",
      "1    DATAGEEK  AOC2021DAY15_VERTICES\n"
     ]
    }
   ],
   "source": [
    "print(cchc.sql(\"SELECT SCHEMA_NAME, TABLE_NAME FROM TABLES WHERE SCHEMA_NAME='{schema_name}'\"\n",
    "                 .format(schema_name=cchc.get_current_schema()))\n",
    "        .collect()\n",
    "       )"
   ]
  },
  {
   "cell_type": "code",
   "execution_count": 19,
   "id": "c93642e5-1e92-43cf-9414-de2a5de09dc8",
   "metadata": {},
   "outputs": [
    {
     "data": {
      "text/html": [
       "<div>\n",
       "<style scoped>\n",
       "    .dataframe tbody tr th:only-of-type {\n",
       "        vertical-align: middle;\n",
       "    }\n",
       "\n",
       "    .dataframe tbody tr th {\n",
       "        vertical-align: top;\n",
       "    }\n",
       "\n",
       "    .dataframe thead th {\n",
       "        text-align: right;\n",
       "    }\n",
       "</style>\n",
       "<table border=\"1\" class=\"dataframe\">\n",
       "  <thead>\n",
       "    <tr style=\"text-align: right;\">\n",
       "      <th></th>\n",
       "      <th>SCHEMA_NAME</th>\n",
       "      <th>WORKSPACE_NAME</th>\n",
       "      <th>IS_VALID</th>\n",
       "      <th>EDGE_SCHEMA_NAME</th>\n",
       "      <th>EDGE_TABLE_NAME</th>\n",
       "      <th>EDGE_KEY_COLUMN_NAME</th>\n",
       "      <th>EDGE_SOURCE_COLUMN_NAME</th>\n",
       "      <th>EDGE_TARGET_COLUMN</th>\n",
       "      <th>VERTEX_SCHEMA_NAME</th>\n",
       "      <th>VERTEX_TABLE_NAME</th>\n",
       "      <th>VERTEX_KEY_COLUMN_NAME</th>\n",
       "    </tr>\n",
       "  </thead>\n",
       "  <tbody>\n",
       "    <tr>\n",
       "      <th>0</th>\n",
       "      <td>DATAGEEK</td>\n",
       "      <td>AOC2021DAY15</td>\n",
       "      <td>TRUE</td>\n",
       "      <td>DATAGEEK</td>\n",
       "      <td>AOC2021DAY15_EDGES</td>\n",
       "      <td>edge_id</td>\n",
       "      <td>node_from</td>\n",
       "      <td>node_to</td>\n",
       "      <td>DATAGEEK</td>\n",
       "      <td>AOC2021DAY15_VERTICES</td>\n",
       "      <td>node_id</td>\n",
       "    </tr>\n",
       "  </tbody>\n",
       "</table>\n",
       "</div>"
      ],
      "text/plain": [
       "  SCHEMA_NAME WORKSPACE_NAME IS_VALID EDGE_SCHEMA_NAME     EDGE_TABLE_NAME  \\\n",
       "0    DATAGEEK   AOC2021DAY15     TRUE         DATAGEEK  AOC2021DAY15_EDGES   \n",
       "\n",
       "  EDGE_KEY_COLUMN_NAME EDGE_SOURCE_COLUMN_NAME EDGE_TARGET_COLUMN  \\\n",
       "0              edge_id               node_from            node_to   \n",
       "\n",
       "  VERTEX_SCHEMA_NAME      VERTEX_TABLE_NAME VERTEX_KEY_COLUMN_NAME  \n",
       "0           DATAGEEK  AOC2021DAY15_VERTICES                node_id  "
      ]
     },
     "execution_count": 19,
     "metadata": {},
     "output_type": "execute_result"
    }
   ],
   "source": [
    "hana_ml.graph.discover_graph_workspaces(connection_context=cchc)"
   ]
  },
  {
   "cell_type": "code",
   "execution_count": 20,
   "id": "ef3a40fa-4e0c-4978-a85d-31e7c0b42f91",
   "metadata": {},
   "outputs": [
    {
     "data": {
      "text/plain": [
       "(0, 9999)"
      ]
     },
     "execution_count": 20,
     "metadata": {},
     "output_type": "execute_result"
    }
   ],
   "source": [
    "start_node=dfp_nodes[dfp_nodes['node_coord']==(0,0)][['node_id','own_cost']].values[0][0]\n",
    "end_node=dfp_nodes[dfp_nodes['node_coord']==(max_y-1,max_x-1)][['node_id','own_cost']].values[0][0]\n",
    "start_node, end_node"
   ]
  },
  {
   "cell_type": "code",
   "execution_count": 21,
   "id": "b396b372-d905-4193-b487-b51951451887",
   "metadata": {},
   "outputs": [
    {
     "name": "stdout",
     "output_type": "stream",
     "text": [
      "CPU times: user 6.67 ms, sys: 4.82 ms, total: 11.5 ms\n",
      "Wall time: 444 ms\n"
     ]
    }
   ],
   "source": [
    "%%time\n",
    "import hana_ml.graph.algorithms\n",
    "sp = hana_ml.graph.algorithms.ShortestPath(graph=hg).execute(source=str(start_node), target=str(end_node), weight=\"cost\")"
   ]
  },
  {
   "cell_type": "code",
   "execution_count": 22,
   "id": "1d87bf90-6f38-4123-8212-97ebeaa4b6ad",
   "metadata": {},
   "outputs": [],
   "source": [
    "result=int(sp.weight)"
   ]
  },
  {
   "cell_type": "code",
   "execution_count": 23,
   "id": "bb6890d4-7048-406d-b70f-ca27bc744dee",
   "metadata": {},
   "outputs": [
    {
     "name": "stdout",
     "output_type": "stream",
     "text": [
      "Result for part 1: 609\n"
     ]
    }
   ],
   "source": [
    "print(f\"Result for part 1: {result}\")"
   ]
  },
  {
   "cell_type": "markdown",
   "id": "2cf9e844-873f-46ef-b072-0f89f46f283a",
   "metadata": {},
   "source": [
    "## Part 2"
   ]
  },
  {
   "cell_type": "code",
   "execution_count": 24,
   "id": "f506ca92-5de9-47bc-a197-57a41e8e473d",
   "metadata": {},
   "outputs": [
    {
     "name": "stdout",
     "output_type": "stream",
     "text": [
      "1 2\n",
      "2 3\n",
      "3 4\n",
      "4 5\n",
      "5 6\n",
      "6 7\n",
      "7 8\n",
      "8 9\n",
      "9 1\n"
     ]
    }
   ],
   "source": [
    "def next_digit(input: int)->int:\n",
    "    return (input+1)%10 + (input+1) // 10\n",
    "\n",
    "for i in range(1,10):\n",
    "    print(i, next_digit(i))"
   ]
  },
  {
   "cell_type": "code",
   "execution_count": 25,
   "id": "fc97d0a9-12ba-4a49-8925-fc05fcd3c072",
   "metadata": {},
   "outputs": [
    {
     "name": "stdout",
     "output_type": "stream",
     "text": [
      "500\n",
      "500\n"
     ]
    }
   ],
   "source": [
    "MULTIPLIER=5\n",
    "new_data=[]\n",
    "\n",
    "for m_y in range(MULTIPLIER):\n",
    "    for y in range(max_y):\n",
    "        new_data.append(\n",
    "            [next_digit(digit+m_y-1) for digit in data[y]]\n",
    "        )\n",
    "\n",
    "max_new_y=len(new_data)\n",
    "print(max_new_y)\n",
    "\n",
    "for y in range(max_new_y):\n",
    "    for m_x in range(MULTIPLIER-1):\n",
    "        new_data[y]+=[next_digit(digit+m_x) for digit in new_data[y][:max_x]]\n",
    "max_new_x=len(new_data[0])\n",
    "print(max_new_x)"
   ]
  },
  {
   "cell_type": "code",
   "execution_count": 26,
   "id": "37ec79f7-0820-42c5-a93a-28e361662ca6",
   "metadata": {},
   "outputs": [],
   "source": [
    "from copy import deepcopy\n",
    "data=deepcopy(new_data)"
   ]
  },
  {
   "cell_type": "code",
   "execution_count": 27,
   "id": "19fd8d11-44c7-4778-8ed2-0f74e564dbfa",
   "metadata": {},
   "outputs": [
    {
     "data": {
      "text/plain": [
       "(500, 500)"
      ]
     },
     "execution_count": 27,
     "metadata": {},
     "output_type": "execute_result"
    }
   ],
   "source": [
    "max_y=len(data)\n",
    "max_x=len(data[0])\n",
    "max_y, max_x"
   ]
  },
  {
   "cell_type": "code",
   "execution_count": 28,
   "id": "4fc58a76-3997-4b4e-9de8-4047d51076dc",
   "metadata": {},
   "outputs": [
    {
     "name": "stdout",
     "output_type": "stream",
     "text": [
      "CPU times: user 159 ms, sys: 12.4 ms, total: 171 ms\n",
      "Wall time: 170 ms\n"
     ]
    }
   ],
   "source": [
    "%%time\n",
    "nodes4dfp={\n",
    "    'node_id':    [y*max_x+ x   for y in range(max_y) for x in range(max_x)],\n",
    "    'node_coord': [(y,x)    for y in range(max_y) for x in range(max_x)],\n",
    "    'node_name':  [str((y,x))    for y in range(max_y) for x in range(max_x)],\n",
    "    'own_cost':   [data[y][x] for y in range(max_y) for x in range(max_x)]\n",
    "}"
   ]
  },
  {
   "cell_type": "code",
   "execution_count": 29,
   "id": "6ee6b808-dd78-4dea-9319-db1875e27f82",
   "metadata": {},
   "outputs": [
    {
     "data": {
      "text/html": [
       "<div>\n",
       "<style scoped>\n",
       "    .dataframe tbody tr th:only-of-type {\n",
       "        vertical-align: middle;\n",
       "    }\n",
       "\n",
       "    .dataframe tbody tr th {\n",
       "        vertical-align: top;\n",
       "    }\n",
       "\n",
       "    .dataframe thead th {\n",
       "        text-align: right;\n",
       "    }\n",
       "</style>\n",
       "<table border=\"1\" class=\"dataframe\">\n",
       "  <thead>\n",
       "    <tr style=\"text-align: right;\">\n",
       "      <th></th>\n",
       "      <th>node_id</th>\n",
       "      <th>node_coord</th>\n",
       "      <th>node_name</th>\n",
       "      <th>own_cost</th>\n",
       "    </tr>\n",
       "  </thead>\n",
       "  <tbody>\n",
       "    <tr>\n",
       "      <th>0</th>\n",
       "      <td>0</td>\n",
       "      <td>(0, 0)</td>\n",
       "      <td>(0, 0)</td>\n",
       "      <td>6</td>\n",
       "    </tr>\n",
       "    <tr>\n",
       "      <th>1</th>\n",
       "      <td>1</td>\n",
       "      <td>(0, 1)</td>\n",
       "      <td>(0, 1)</td>\n",
       "      <td>4</td>\n",
       "    </tr>\n",
       "    <tr>\n",
       "      <th>2</th>\n",
       "      <td>2</td>\n",
       "      <td>(0, 2)</td>\n",
       "      <td>(0, 2)</td>\n",
       "      <td>8</td>\n",
       "    </tr>\n",
       "    <tr>\n",
       "      <th>3</th>\n",
       "      <td>3</td>\n",
       "      <td>(0, 3)</td>\n",
       "      <td>(0, 3)</td>\n",
       "      <td>9</td>\n",
       "    </tr>\n",
       "    <tr>\n",
       "      <th>4</th>\n",
       "      <td>4</td>\n",
       "      <td>(0, 4)</td>\n",
       "      <td>(0, 4)</td>\n",
       "      <td>8</td>\n",
       "    </tr>\n",
       "    <tr>\n",
       "      <th>...</th>\n",
       "      <td>...</td>\n",
       "      <td>...</td>\n",
       "      <td>...</td>\n",
       "      <td>...</td>\n",
       "    </tr>\n",
       "    <tr>\n",
       "      <th>249995</th>\n",
       "      <td>249995</td>\n",
       "      <td>(499, 495)</td>\n",
       "      <td>(499, 495)</td>\n",
       "      <td>8</td>\n",
       "    </tr>\n",
       "    <tr>\n",
       "      <th>249996</th>\n",
       "      <td>249996</td>\n",
       "      <td>(499, 496)</td>\n",
       "      <td>(499, 496)</td>\n",
       "      <td>8</td>\n",
       "    </tr>\n",
       "    <tr>\n",
       "      <th>249997</th>\n",
       "      <td>249997</td>\n",
       "      <td>(499, 497)</td>\n",
       "      <td>(499, 497)</td>\n",
       "      <td>2</td>\n",
       "    </tr>\n",
       "    <tr>\n",
       "      <th>249998</th>\n",
       "      <td>249998</td>\n",
       "      <td>(499, 498)</td>\n",
       "      <td>(499, 498)</td>\n",
       "      <td>9</td>\n",
       "    </tr>\n",
       "    <tr>\n",
       "      <th>249999</th>\n",
       "      <td>249999</td>\n",
       "      <td>(499, 499)</td>\n",
       "      <td>(499, 499)</td>\n",
       "      <td>7</td>\n",
       "    </tr>\n",
       "  </tbody>\n",
       "</table>\n",
       "<p>250000 rows × 4 columns</p>\n",
       "</div>"
      ],
      "text/plain": [
       "        node_id  node_coord   node_name  own_cost\n",
       "0             0      (0, 0)      (0, 0)         6\n",
       "1             1      (0, 1)      (0, 1)         4\n",
       "2             2      (0, 2)      (0, 2)         8\n",
       "3             3      (0, 3)      (0, 3)         9\n",
       "4             4      (0, 4)      (0, 4)         8\n",
       "...         ...         ...         ...       ...\n",
       "249995   249995  (499, 495)  (499, 495)         8\n",
       "249996   249996  (499, 496)  (499, 496)         8\n",
       "249997   249997  (499, 497)  (499, 497)         2\n",
       "249998   249998  (499, 498)  (499, 498)         9\n",
       "249999   249999  (499, 499)  (499, 499)         7\n",
       "\n",
       "[250000 rows x 4 columns]"
      ]
     },
     "execution_count": 29,
     "metadata": {},
     "output_type": "execute_result"
    }
   ],
   "source": [
    "dfp_nodes=pd.DataFrame(nodes4dfp)\n",
    "\n",
    "# Check\n",
    "dfp_nodes"
   ]
  },
  {
   "cell_type": "code",
   "execution_count": 30,
   "id": "88a6b9f2-49ce-457f-8419-cab2f05e6a6d",
   "metadata": {
    "tags": []
   },
   "outputs": [
    {
     "name": "stdout",
     "output_type": "stream",
     "text": [
      "CPU times: user 7h 5min 27s, sys: 18.6 s, total: 7h 5min 46s\n",
      "Wall time: 7h 6min 1s\n"
     ]
    }
   ],
   "source": [
    "%%time\n",
    "edges4dfp={\n",
    "    'edge_id': [],\n",
    "    'node_from': [],\n",
    "    'node_to': [],\n",
    "    'cost': []\n",
    "}\n",
    "\n",
    "edge_id=0\n",
    "for node_from_id in nodes4dfp['node_id']:\n",
    "    node_from_coord=dfp_nodes[dfp_nodes['node_id']==node_from_id]['node_coord'].iloc[0]\n",
    "    for neighbour in get_neighbours_by_id(node_from_id):\n",
    "        edge_id+=1\n",
    "        #print(edge_id, node_from_id, neighbour[0], neighbour[1])\n",
    "        edges4dfp['edge_id'].append(edge_id)\n",
    "        edges4dfp['node_from'].append(node_from_id)\n",
    "        edges4dfp['node_to'].append(neighbour[0])\n",
    "        edges4dfp['cost'].append(float(neighbour[1]))"
   ]
  },
  {
   "cell_type": "code",
   "execution_count": 31,
   "id": "141f6887-ae26-4b51-90cb-fc9d4c1f591e",
   "metadata": {},
   "outputs": [
    {
     "data": {
      "text/html": [
       "<div>\n",
       "<style scoped>\n",
       "    .dataframe tbody tr th:only-of-type {\n",
       "        vertical-align: middle;\n",
       "    }\n",
       "\n",
       "    .dataframe tbody tr th {\n",
       "        vertical-align: top;\n",
       "    }\n",
       "\n",
       "    .dataframe thead th {\n",
       "        text-align: right;\n",
       "    }\n",
       "</style>\n",
       "<table border=\"1\" class=\"dataframe\">\n",
       "  <thead>\n",
       "    <tr style=\"text-align: right;\">\n",
       "      <th></th>\n",
       "      <th>edge_id</th>\n",
       "      <th>node_from</th>\n",
       "      <th>node_to</th>\n",
       "      <th>cost</th>\n",
       "    </tr>\n",
       "  </thead>\n",
       "  <tbody>\n",
       "    <tr>\n",
       "      <th>0</th>\n",
       "      <td>1</td>\n",
       "      <td>0</td>\n",
       "      <td>1</td>\n",
       "      <td>4.0</td>\n",
       "    </tr>\n",
       "    <tr>\n",
       "      <th>1</th>\n",
       "      <td>2</td>\n",
       "      <td>0</td>\n",
       "      <td>500</td>\n",
       "      <td>3.0</td>\n",
       "    </tr>\n",
       "    <tr>\n",
       "      <th>2</th>\n",
       "      <td>3</td>\n",
       "      <td>1</td>\n",
       "      <td>0</td>\n",
       "      <td>6.0</td>\n",
       "    </tr>\n",
       "    <tr>\n",
       "      <th>3</th>\n",
       "      <td>4</td>\n",
       "      <td>1</td>\n",
       "      <td>2</td>\n",
       "      <td>8.0</td>\n",
       "    </tr>\n",
       "    <tr>\n",
       "      <th>4</th>\n",
       "      <td>5</td>\n",
       "      <td>1</td>\n",
       "      <td>501</td>\n",
       "      <td>8.0</td>\n",
       "    </tr>\n",
       "    <tr>\n",
       "      <th>...</th>\n",
       "      <td>...</td>\n",
       "      <td>...</td>\n",
       "      <td>...</td>\n",
       "      <td>...</td>\n",
       "    </tr>\n",
       "    <tr>\n",
       "      <th>997995</th>\n",
       "      <td>997996</td>\n",
       "      <td>249998</td>\n",
       "      <td>249498</td>\n",
       "      <td>3.0</td>\n",
       "    </tr>\n",
       "    <tr>\n",
       "      <th>997996</th>\n",
       "      <td>997997</td>\n",
       "      <td>249998</td>\n",
       "      <td>249997</td>\n",
       "      <td>2.0</td>\n",
       "    </tr>\n",
       "    <tr>\n",
       "      <th>997997</th>\n",
       "      <td>997998</td>\n",
       "      <td>249998</td>\n",
       "      <td>249999</td>\n",
       "      <td>7.0</td>\n",
       "    </tr>\n",
       "    <tr>\n",
       "      <th>997998</th>\n",
       "      <td>997999</td>\n",
       "      <td>249999</td>\n",
       "      <td>249499</td>\n",
       "      <td>5.0</td>\n",
       "    </tr>\n",
       "    <tr>\n",
       "      <th>997999</th>\n",
       "      <td>998000</td>\n",
       "      <td>249999</td>\n",
       "      <td>249998</td>\n",
       "      <td>9.0</td>\n",
       "    </tr>\n",
       "  </tbody>\n",
       "</table>\n",
       "<p>998000 rows × 4 columns</p>\n",
       "</div>"
      ],
      "text/plain": [
       "        edge_id  node_from  node_to  cost\n",
       "0             1          0        1   4.0\n",
       "1             2          0      500   3.0\n",
       "2             3          1        0   6.0\n",
       "3             4          1        2   8.0\n",
       "4             5          1      501   8.0\n",
       "...         ...        ...      ...   ...\n",
       "997995   997996     249998   249498   3.0\n",
       "997996   997997     249998   249997   2.0\n",
       "997997   997998     249998   249999   7.0\n",
       "997998   997999     249999   249499   5.0\n",
       "997999   998000     249999   249998   9.0\n",
       "\n",
       "[998000 rows x 4 columns]"
      ]
     },
     "execution_count": 31,
     "metadata": {},
     "output_type": "execute_result"
    }
   ],
   "source": [
    "dfp_edges=pd.DataFrame(edges4dfp)\n",
    "\n",
    "dfp_edges"
   ]
  },
  {
   "cell_type": "code",
   "execution_count": 32,
   "id": "f2b9a6be-3b4b-411f-b4d4-8e4ae379a21a",
   "metadata": {},
   "outputs": [
    {
     "name": "stderr",
     "output_type": "stream",
     "text": [
      "100%|█████████████████████████████████████████████████████████████████████████████████████████| 6/6 [00:03<00:00,  1.66it/s]\n",
      "100%|███████████████████████████████████████████████████████████████████████████████████████| 20/20 [00:16<00:00,  1.25it/s]\n"
     ]
    }
   ],
   "source": [
    "import hana_ml.graph\n",
    "\n",
    "hg = hana_ml.graph.create_graph_from_dataframes(connection_context=cchc,\n",
    "                                                vertices_df=dfp_nodes[['node_id','node_name','own_cost']].convert_dtypes(), \n",
    "                                                edges_df=dfp_edges,\n",
    "                                                workspace_name=\"AOC2021DAY15\",\n",
    "                                                vertex_key_column=\"node_id\",\n",
    "                                                edge_key_column=\"edge_id\", edge_source_column=\"node_from\", edge_target_column=\"node_to\",\n",
    "                                                drop_exist_tab=True\n",
    "                                               )"
   ]
  },
  {
   "cell_type": "code",
   "execution_count": 33,
   "id": "5f900f12-6a36-470d-8933-2df9297af273",
   "metadata": {},
   "outputs": [
    {
     "name": "stdout",
     "output_type": "stream",
     "text": [
      "  SCHEMA_NAME             TABLE_NAME\n",
      "0    DATAGEEK     AOC2021DAY15_EDGES\n",
      "1    DATAGEEK  AOC2021DAY15_VERTICES\n"
     ]
    }
   ],
   "source": [
    "print(cchc.sql(\"SELECT SCHEMA_NAME, TABLE_NAME FROM TABLES WHERE SCHEMA_NAME='{schema_name}'\"\n",
    "                 .format(schema_name=cchc.get_current_schema()))\n",
    "        .collect()\n",
    "       )"
   ]
  },
  {
   "cell_type": "code",
   "execution_count": 34,
   "id": "c74a232c-2393-482e-bfe7-d635e94fa878",
   "metadata": {},
   "outputs": [
    {
     "data": {
      "text/html": [
       "<div>\n",
       "<style scoped>\n",
       "    .dataframe tbody tr th:only-of-type {\n",
       "        vertical-align: middle;\n",
       "    }\n",
       "\n",
       "    .dataframe tbody tr th {\n",
       "        vertical-align: top;\n",
       "    }\n",
       "\n",
       "    .dataframe thead th {\n",
       "        text-align: right;\n",
       "    }\n",
       "</style>\n",
       "<table border=\"1\" class=\"dataframe\">\n",
       "  <thead>\n",
       "    <tr style=\"text-align: right;\">\n",
       "      <th></th>\n",
       "      <th>SCHEMA_NAME</th>\n",
       "      <th>WORKSPACE_NAME</th>\n",
       "      <th>IS_VALID</th>\n",
       "      <th>EDGE_SCHEMA_NAME</th>\n",
       "      <th>EDGE_TABLE_NAME</th>\n",
       "      <th>EDGE_KEY_COLUMN_NAME</th>\n",
       "      <th>EDGE_SOURCE_COLUMN_NAME</th>\n",
       "      <th>EDGE_TARGET_COLUMN</th>\n",
       "      <th>VERTEX_SCHEMA_NAME</th>\n",
       "      <th>VERTEX_TABLE_NAME</th>\n",
       "      <th>VERTEX_KEY_COLUMN_NAME</th>\n",
       "    </tr>\n",
       "  </thead>\n",
       "  <tbody>\n",
       "    <tr>\n",
       "      <th>0</th>\n",
       "      <td>DATAGEEK</td>\n",
       "      <td>AOC2021DAY15</td>\n",
       "      <td>TRUE</td>\n",
       "      <td>DATAGEEK</td>\n",
       "      <td>AOC2021DAY15_EDGES</td>\n",
       "      <td>edge_id</td>\n",
       "      <td>node_from</td>\n",
       "      <td>node_to</td>\n",
       "      <td>DATAGEEK</td>\n",
       "      <td>AOC2021DAY15_VERTICES</td>\n",
       "      <td>node_id</td>\n",
       "    </tr>\n",
       "  </tbody>\n",
       "</table>\n",
       "</div>"
      ],
      "text/plain": [
       "  SCHEMA_NAME WORKSPACE_NAME IS_VALID EDGE_SCHEMA_NAME     EDGE_TABLE_NAME  \\\n",
       "0    DATAGEEK   AOC2021DAY15     TRUE         DATAGEEK  AOC2021DAY15_EDGES   \n",
       "\n",
       "  EDGE_KEY_COLUMN_NAME EDGE_SOURCE_COLUMN_NAME EDGE_TARGET_COLUMN  \\\n",
       "0              edge_id               node_from            node_to   \n",
       "\n",
       "  VERTEX_SCHEMA_NAME      VERTEX_TABLE_NAME VERTEX_KEY_COLUMN_NAME  \n",
       "0           DATAGEEK  AOC2021DAY15_VERTICES                node_id  "
      ]
     },
     "execution_count": 34,
     "metadata": {},
     "output_type": "execute_result"
    }
   ],
   "source": [
    "hana_ml.graph.discover_graph_workspaces(connection_context=cchc)"
   ]
  },
  {
   "cell_type": "code",
   "execution_count": 35,
   "id": "d3acc89e-8713-4ff7-acff-794ec5d19efc",
   "metadata": {},
   "outputs": [
    {
     "data": {
      "text/plain": [
       "(0, 249999)"
      ]
     },
     "execution_count": 35,
     "metadata": {},
     "output_type": "execute_result"
    }
   ],
   "source": [
    "start_node=dfp_nodes[dfp_nodes['node_coord']==(0,0)][['node_id','own_cost']].values[0][0]\n",
    "end_node=dfp_nodes[dfp_nodes['node_coord']==(max_y-1,max_x-1)][['node_id','own_cost']].values[0][0]\n",
    "start_node, end_node"
   ]
  },
  {
   "cell_type": "code",
   "execution_count": 36,
   "id": "d94e9eaf-0f49-4a5b-b7eb-8724b1ebb612",
   "metadata": {},
   "outputs": [
    {
     "name": "stdout",
     "output_type": "stream",
     "text": [
      "CPU times: user 6.29 ms, sys: 4.42 ms, total: 10.7 ms\n",
      "Wall time: 1.51 s\n"
     ]
    }
   ],
   "source": [
    "%%time\n",
    "import hana_ml.graph.algorithms\n",
    "sp = hana_ml.graph.algorithms.ShortestPath(graph=hg).execute(source=str(start_node), target=str(end_node), weight=\"cost\")"
   ]
  },
  {
   "cell_type": "code",
   "execution_count": 37,
   "id": "b4ee2420-db29-47b1-99ed-6003bbac5672",
   "metadata": {},
   "outputs": [],
   "source": [
    "result=int(sp.weight)"
   ]
  },
  {
   "cell_type": "code",
   "execution_count": 38,
   "id": "85b8d65e-87ad-4fbb-b9de-1e6570da3257",
   "metadata": {},
   "outputs": [
    {
     "name": "stdout",
     "output_type": "stream",
     "text": [
      "Result for part 2: 2925\n"
     ]
    }
   ],
   "source": [
    "print(f\"Result for part 2: {result}\")"
   ]
  }
 ],
 "metadata": {
  "kernelspec": {
   "display_name": "Python 3 (ipykernel)",
   "language": "python",
   "name": "python3"
  },
  "language_info": {
   "codemirror_mode": {
    "name": "ipython",
    "version": 3
   },
   "file_extension": ".py",
   "mimetype": "text/x-python",
   "name": "python",
   "nbconvert_exporter": "python",
   "pygments_lexer": "ipython3",
   "version": "3.10.0"
  }
 },
 "nbformat": 4,
 "nbformat_minor": 5
}
