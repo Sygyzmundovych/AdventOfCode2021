{
 "cells": [
  {
   "cell_type": "code",
   "execution_count": 1,
   "id": "d302371e-45bf-415a-aa25-571254b3cdde",
   "metadata": {},
   "outputs": [],
   "source": [
    "from typing import List, Tuple"
   ]
  },
  {
   "cell_type": "code",
   "execution_count": 2,
   "id": "75561c94-28fa-43fe-aaa2-286fd74ba268",
   "metadata": {},
   "outputs": [],
   "source": [
    "# Test\n",
    "file_name=\"./aoc_2116_test.txt\"\n",
    "# Prod\n",
    "file_name=\"./aoc_2116_prod.txt\""
   ]
  },
  {
   "cell_type": "code",
   "execution_count": 3,
   "id": "3ff53436-4476-46ce-8bbe-67358bb3f243",
   "metadata": {},
   "outputs": [],
   "source": [
    "with open(file_name) as f:\n",
    "    raw_data=[line for line in f.read().splitlines()]\n",
    "    f.close()\n",
    "\n",
    "# Check\n",
    "# display(raw_data[:10])"
   ]
  },
  {
   "cell_type": "code",
   "execution_count": 4,
   "id": "b3f05f48-752b-4961-9ca1-53fb7be63370",
   "metadata": {},
   "outputs": [
    {
     "data": {
      "text/plain": [
       "'6053231004C12DC26D00526BEE728D2C013AC7795ACA756F93B524D8000AAC8FF80B3A7A4016F6802D35C7C94C8AC97AD81D30024C00D1003C80AD050029C00E20240580853401E98C00D50038400D401518C00C7003880376300290023000060D800D09B9D03E7F546930052C016000422234208CC000854778CF0EA7C9C802ACE005FE4EBE1B99EA4C8A2A804D26730E25AA8B23CBDE7C855808057C9C87718DFEED9A008880391520BC280004260C44C8E460086802600087C548430A4401B8C91AE3749CF9CEFF0A8C0041498F180532A9728813A012261367931FF43E9040191F002A539D7A9CEBFCF7B3DE36CA56BC506005EE6393A0ACAA990030B3E29348734BC200D980390960BC723007614C618DC600D4268AD168C0268ED2CB72E09341040181D802B285937A739ACCEFFE9F4B6D30802DC94803D80292B5389DFEB2A440081CE0FCE951005AD800D04BF26B32FC9AFCF8D280592D65B9CE67DCEF20C530E13B7F67F8FB140D200E6673BA45C0086262FBB084F5BF381918017221E402474EF86280333100622FC37844200DC6A8950650005C8273133A300465A7AEC08B00103925392575007E63310592EA747830052801C99C9CB215397F3ACF97CFE41C802DBD004244C67B189E3BC4584E2013C1F91B0BCD60AA1690060360094F6A70B7FC7D34A52CBAE011CB6A17509F8DF61F3B4ED46A683E6BD258100667EA4B1A6211006AD367D600ACBD61FD10CBD61FD129003D9600B4608C931D54700AA6E2932D3CBB45399A49E66E641274AE4040039B8BD2C933137F95A4A76CFBAE122704026E700662200D4358530D4401F8AD0722DCEC3124E92B639CC5AF413300700010D8F30FE1B80021506A33C3F1007A314348DC0002EC4D9CF36280213938F648925BDE134803CB9BD6BF3BFD83C0149E859EA6614A8C'"
      ]
     },
     "execution_count": 4,
     "metadata": {},
     "output_type": "execute_result"
    }
   ],
   "source": [
    "data=raw_data[0]\n",
    "data"
   ]
  },
  {
   "cell_type": "markdown",
   "id": "9f3eb543-debc-4288-afbf-b8f56de1896e",
   "metadata": {},
   "source": [
    "## Part 0"
   ]
  },
  {
   "cell_type": "code",
   "execution_count": 5,
   "id": "ab4360f7-7eea-4c42-85e4-2ac147adad3d",
   "metadata": {},
   "outputs": [
    {
     "data": {
      "text/plain": [
       "2021"
      ]
     },
     "execution_count": 5,
     "metadata": {},
     "output_type": "execute_result"
    }
   ],
   "source": [
    "str(bin(int('0',16)))[2:].zfill(4)\n",
    "int('011111100101',2)"
   ]
  },
  {
   "cell_type": "code",
   "execution_count": 6,
   "id": "09da1882-24f4-4a4d-84e4-5e13f55e0842",
   "metadata": {},
   "outputs": [],
   "source": [
    "def hex2bin(msg_hex: str) -> str:\n",
    "    return ''.join([str(bin(int(hex_digit,16)))[2:].zfill(4) for hex_digit in msg_hex])\n",
    "#hex2bin(data)"
   ]
  },
  {
   "cell_type": "code",
   "execution_count": 7,
   "id": "d72582fa-a8aa-4b90-9b93-4449b4d29c15",
   "metadata": {},
   "outputs": [],
   "source": [
    "def decode_value(encoded_value_bin: str) -> Tuple[int, str]:\n",
    "    value_bin=''\n",
    "    bit_position=0\n",
    "    while encoded_value_bin[bit_position]!='0':\n",
    "        value_bin+=encoded_value_bin[bit_position+1:bit_position+5]\n",
    "        bit_position+=5\n",
    "    value_bin+=encoded_value_bin[bit_position+1:bit_position+5]\n",
    "    bit_position+=5\n",
    "    value_dec=int(value_bin, 2)\n",
    "    return (value_dec, encoded_value_bin[bit_position:])"
   ]
  },
  {
   "cell_type": "code",
   "execution_count": 8,
   "id": "0ef27b9b-14b4-4268-bc79-4c2f16e7de8a",
   "metadata": {},
   "outputs": [
    {
     "data": {
      "text/plain": [
       "(2021, '000')"
      ]
     },
     "execution_count": 8,
     "metadata": {},
     "output_type": "execute_result"
    }
   ],
   "source": [
    "decode_value('101111111000101000')"
   ]
  },
  {
   "cell_type": "markdown",
   "id": "e31f7cbc-d29d-407b-9a26-4e9dfbebd9f8",
   "metadata": {},
   "source": [
    "## Part 1"
   ]
  },
  {
   "cell_type": "code",
   "execution_count": 9,
   "id": "203856a0-a4b6-4e6f-b2c8-4fa52a73db81",
   "metadata": {},
   "outputs": [],
   "source": [
    "def parse_msg(pack_bin: str, nr_of_packs=1) -> List[Tuple[int, int, int, str, int]]:\n",
    "    sub_packs_tuples=[]\n",
    "    my_calc_value=0\n",
    "    #Header\n",
    "    my_version_bin=pack_bin[:3]\n",
    "    my_version_dec=int(my_version_bin, 2)\n",
    "    my_type_id_bin=pack_bin[3:6]\n",
    "    my_type_id_dec=int(my_type_id_bin, 2)\n",
    "    \n",
    "    #Value or package\n",
    "    if my_type_id_dec==4:\n",
    "        # Value\n",
    "        my_calc_value, my_remain_part = decode_value(pack_bin[6:])\n",
    "        # print(f\"Extracted value {my_calc_value}, remained {my_remain_part}\")\n",
    "        remaining_packs=nr_of_packs-1\n",
    "    else:\n",
    "        #Operator\n",
    "        pack_len_type_id=int(pack_bin[6])\n",
    "        # print(pack_len_type_id)\n",
    "        if pack_len_type_id==0:\n",
    "            #Fixed bits lengths\n",
    "            sub_packs_len_bin=pack_bin[7:7+15]\n",
    "            sub_packs_len_dec=int(sub_packs_len_bin, 2)\n",
    "            # print(my_version_dec, my_type_id_dec, pack_len_type_id, sub_packs_len_dec)\n",
    "            sub_packs_tuples=parse_msg(pack_bin[7+15:7+15+sub_packs_len_dec])\n",
    "            sub_packs_remaining_bin=sub_packs_tuples[0][3]\n",
    "            while sub_packs_remaining_bin!='':\n",
    "                sub_packs_tuple=parse_msg(sub_packs_remaining_bin)\n",
    "                sub_packs_remaining_bin=sub_packs_tuple[0][3]\n",
    "                sub_packs_tuples+=sub_packs_tuple\n",
    "            my_remain_part = pack_bin[7+15+sub_packs_len_dec:]\n",
    "            remaining_packs=nr_of_packs-1\n",
    "        elif pack_len_type_id==1:  \n",
    "            #Fixed count\n",
    "            # print(my_version_dec, my_type_id_dec, pack_len_type_id)\n",
    "            sub_packs_count_bin=pack_bin[7:7+11]\n",
    "            sub_packs_count_dec=int(sub_packs_count_bin, 2)\n",
    "            # print(my_version_dec, my_type_id_dec, pack_len_type_id, sub_packs_count_dec)\n",
    "            sub_packs_remaining_bin=pack_bin[7+11:]\n",
    "            while sub_packs_count_dec>0:\n",
    "                sub_packs_tuple=parse_msg(sub_packs_remaining_bin, nr_of_packs=sub_packs_count_dec)\n",
    "                sub_packs_tuples+=sub_packs_tuple\n",
    "                sub_packs_remaining_bin=sub_packs_tuple[0][3]\n",
    "                sub_packs_count_dec=sub_packs_tuple[0][4]\n",
    "            remaining_packs=nr_of_packs-1\n",
    "            my_remain_part=sub_packs_remaining_bin\n",
    "        else:\n",
    "            print(\"Pass\")\n",
    "            raise Exception('It should not get here!!!')\n",
    "    \n",
    "    my_tuple=[(my_version_dec, my_type_id_dec, my_calc_value, my_remain_part, remaining_packs)]\n",
    "    return my_tuple+sub_packs_tuples"
   ]
  },
  {
   "cell_type": "code",
   "execution_count": 10,
   "id": "e4e52364-1917-417c-bc6d-ebdbf962b7eb",
   "metadata": {},
   "outputs": [],
   "source": [
    "parsed_msg=parse_msg(hex2bin(data))\n",
    "#parsed_msg"
   ]
  },
  {
   "cell_type": "code",
   "execution_count": 11,
   "id": "f732b20b-a6f8-4fc6-ade1-e78e4e23dd6f",
   "metadata": {},
   "outputs": [],
   "source": [
    "result=sum([subpack[0] for subpack in parsed_msg])"
   ]
  },
  {
   "cell_type": "code",
   "execution_count": 12,
   "id": "bb6890d4-7048-406d-b70f-ca27bc744dee",
   "metadata": {},
   "outputs": [
    {
     "name": "stdout",
     "output_type": "stream",
     "text": [
      "Result for part 1: 953\n"
     ]
    }
   ],
   "source": [
    "print(f\"Result for part 1: {result}\")"
   ]
  },
  {
   "cell_type": "markdown",
   "id": "2cf9e844-873f-46ef-b072-0f89f46f283a",
   "metadata": {},
   "source": [
    "## Part 2"
   ]
  },
  {
   "cell_type": "code",
   "execution_count": 13,
   "id": "906242b3-0fb0-4b7d-9d0d-cc9fac1bf429",
   "metadata": {},
   "outputs": [],
   "source": [
    "from math import prod"
   ]
  },
  {
   "cell_type": "code",
   "execution_count": 14,
   "id": "24dc486e-b3b9-42b7-ba37-43160dab2e1b",
   "metadata": {
    "tags": []
   },
   "outputs": [],
   "source": [
    "def parse_msg(pack_bin: str, nr_of_packs=1) -> List[Tuple[int, int, int, str, int]]:\n",
    "    sub_packs_tuples=[]\n",
    "    my_calc_value=0\n",
    "    #Header\n",
    "    my_version_bin=pack_bin[:3]\n",
    "    my_version_dec=int(my_version_bin, 2)\n",
    "    my_type_id_bin=pack_bin[3:6]\n",
    "    my_type_id_dec=int(my_type_id_bin, 2)\n",
    "    \n",
    "    #Value or package\n",
    "    if my_type_id_dec==4:\n",
    "        # Value\n",
    "        my_calc_value, my_remain_part = decode_value(pack_bin[6:])\n",
    "        # print(f\"Extracted value {my_calc_value}, remained {my_remain_part}\")\n",
    "        remaining_packs=nr_of_packs-1\n",
    "    else:\n",
    "        #Operator\n",
    "        pack_len_type_id=int(pack_bin[6])\n",
    "        # print(pack_len_type_id)\n",
    "        if pack_len_type_id==0:\n",
    "            #Fixed bits lengths\n",
    "            sub_packs_len_bin=pack_bin[7:7+15]\n",
    "            sub_packs_len_dec=int(sub_packs_len_bin, 2)\n",
    "            # print(my_version_dec, my_type_id_dec, pack_len_type_id, sub_packs_len_dec)\n",
    "            sub_packs_tuples=parse_msg(pack_bin[7+15:7+15+sub_packs_len_dec])\n",
    "            sub_packs_remaining_bin=sub_packs_tuples[0][3]\n",
    "            while sub_packs_remaining_bin!='':\n",
    "                sub_packs_tuple=parse_msg(sub_packs_remaining_bin)\n",
    "                sub_packs_remaining_bin=sub_packs_tuple[0][3]\n",
    "                sub_packs_tuples+=sub_packs_tuple\n",
    "            my_remain_part = pack_bin[7+15+sub_packs_len_dec:]\n",
    "            remaining_packs=nr_of_packs-1\n",
    "        elif pack_len_type_id==1:  \n",
    "            #Fixed count\n",
    "            # print(my_version_dec, my_type_id_dec, pack_len_type_id)\n",
    "            sub_packs_count_bin=pack_bin[7:7+11]\n",
    "            sub_packs_count_dec=int(sub_packs_count_bin, 2)\n",
    "            # print(my_version_dec, my_type_id_dec, pack_len_type_id, sub_packs_count_dec)\n",
    "            sub_packs_remaining_bin=pack_bin[7+11:]\n",
    "            while sub_packs_count_dec>0:\n",
    "                sub_packs_tuple=parse_msg(sub_packs_remaining_bin, nr_of_packs=sub_packs_count_dec)\n",
    "                sub_packs_tuples+=sub_packs_tuple\n",
    "                sub_packs_remaining_bin=sub_packs_tuple[0][3]\n",
    "                sub_packs_count_dec=sub_packs_tuple[0][4]\n",
    "            remaining_packs=nr_of_packs-1\n",
    "            my_remain_part=sub_packs_remaining_bin\n",
    "        else:\n",
    "            print(\"Pass\")\n",
    "            raise Exception('It should not get here!!!')\n",
    "    \n",
    "    sub_pack_vals=[sub_pack[2] for sub_pack in sub_packs_tuples]\n",
    "    if my_type_id_dec==0:\n",
    "        my_calc_value=sum(sub_pack_vals)\n",
    "    elif my_type_id_dec==1:\n",
    "        my_calc_value=prod(sub_pack_vals)\n",
    "    elif my_type_id_dec==2:\n",
    "        my_calc_value=min(sub_pack_vals)\n",
    "    elif my_type_id_dec==3:\n",
    "        my_calc_value=max(sub_pack_vals)\n",
    "    elif my_type_id_dec==5:\n",
    "        my_calc_value=int(sub_pack_vals[0]>sub_pack_vals[1])\n",
    "    elif my_type_id_dec==6:\n",
    "        my_calc_value=int(sub_pack_vals[0]<sub_pack_vals[1])\n",
    "    elif my_type_id_dec==7:\n",
    "        my_calc_value=int(sub_pack_vals[0]==sub_pack_vals[1])\n",
    "    \n",
    "    # if my_type_id_dec!=4: print(my_calc_value, my_type_id_dec, sub_pack_vals)\n",
    "    \n",
    "    my_tuple=[(my_version_dec, my_type_id_dec, my_calc_value, my_remain_part, remaining_packs)]\n",
    "    return my_tuple"
   ]
  },
  {
   "cell_type": "code",
   "execution_count": 15,
   "id": "19d7c024-b563-4c0e-a7e4-5dc8bc17ab0d",
   "metadata": {},
   "outputs": [],
   "source": [
    "parsed_msg=parse_msg(hex2bin(data))"
   ]
  },
  {
   "cell_type": "code",
   "execution_count": 16,
   "id": "570b02a0-dae6-40f5-9a56-5825c246152f",
   "metadata": {},
   "outputs": [],
   "source": [
    "result=parsed_msg[0][2]"
   ]
  },
  {
   "cell_type": "code",
   "execution_count": 17,
   "id": "85b8d65e-87ad-4fbb-b9de-1e6570da3257",
   "metadata": {},
   "outputs": [
    {
     "name": "stdout",
     "output_type": "stream",
     "text": [
      "Result for part 2: 246225449979\n"
     ]
    }
   ],
   "source": [
    "print(f\"Result for part 2: {result}\")"
   ]
  }
 ],
 "metadata": {
  "kernelspec": {
   "display_name": "Python 3 (ipykernel)",
   "language": "python",
   "name": "python3"
  },
  "language_info": {
   "codemirror_mode": {
    "name": "ipython",
    "version": 3
   },
   "file_extension": ".py",
   "mimetype": "text/x-python",
   "name": "python",
   "nbconvert_exporter": "python",
   "pygments_lexer": "ipython3",
   "version": "3.10.0"
  }
 },
 "nbformat": 4,
 "nbformat_minor": 5
}
