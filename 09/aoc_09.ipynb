{
 "cells": [
  {
   "cell_type": "code",
   "execution_count": 1,
   "id": "75561c94-28fa-43fe-aaa2-286fd74ba268",
   "metadata": {},
   "outputs": [],
   "source": [
    "# Test\n",
    "file_name=\"./aoc_2109_test.txt\"\n",
    "# Prod\n",
    "file_name=\"./aoc_2109_prod.txt\""
   ]
  },
  {
   "cell_type": "code",
   "execution_count": 2,
   "id": "3ff53436-4476-46ce-8bbe-67358bb3f243",
   "metadata": {},
   "outputs": [
    {
     "data": {
      "text/plain": [
       "['5432345678989998934579789765459876765467892399767954567893212987898410456789329876710145678998765432',\n",
       " '6754656789879987899698678954398765452356953989654543456789329876987321345697634965431236989239879321',\n",
       " '9865769898767656798979567893249876321257899878653432568996499865696534456789549876542345892125998945',\n",
       " '5976778999656545987665456799345985432348989965432101457897989879987876567998756987656456789234987899',\n",
       " '4987889998945439876567344678969876543489879876543212345689878998998997688959987998966567897649876798',\n",
       " '3298998987832123965432123499999989865678967989654346896893567897899989789543998999878689998799965457',\n",
       " '9989867896543239876321014989989595978789656998767567998932456956912978997659899987989789459987654346',\n",
       " '8678456789656798765432199878879434989892546799987678979321767899899767998798789876699892398996543212',\n",
       " '6532349898767899878543987654568923996921234789898889765433479998765656899987698765459921987987652101',\n",
       " '6431239929898910989654598743478919875210145698789999876764989999854345678965439999568939875498778212']"
      ]
     },
     "metadata": {},
     "output_type": "display_data"
    }
   ],
   "source": [
    "with open(file_name) as f:\n",
    "    raw_data=[line for line in f.read().splitlines()]\n",
    "    f.close()\n",
    "\n",
    "# Check\n",
    "display(raw_data[:10])"
   ]
  },
  {
   "cell_type": "code",
   "execution_count": 3,
   "id": "b3f05f48-752b-4961-9ca1-53fb7be63370",
   "metadata": {},
   "outputs": [],
   "source": [
    "data=[[int(digit) for digit in line] for line in raw_data]"
   ]
  },
  {
   "cell_type": "code",
   "execution_count": 4,
   "id": "146b2df7-ce50-4b2b-ace5-d1ca0d9b2453",
   "metadata": {
    "tags": []
   },
   "outputs": [
    {
     "name": "stdout",
     "output_type": "stream",
     "text": [
      "[5, 4, 3, 2, 3, 4, 5, 6, 7, 8, 9, 8, 9, 9, 9, 8, 9, 3, 4, 5, 7, 9, 7, 8, 9, 7, 6, 5, 4, 5, 9, 8, 7, 6, 7, 6, 5, 4, 6, 7, 8, 9, 2, 3, 9, 9, 7, 6, 7, 9, 5, 4, 5, 6, 7, 8, 9, 3, 2, 1, 2, 9, 8, 7, 8, 9, 8, 4, 1, 0, 4, 5, 6, 7, 8, 9, 3, 2, 9, 8, 7, 6, 7, 1, 0, 1, 4, 5, 6, 7, 8, 9, 9, 8, 7, 6, 5, 4, 3, 2]\n"
     ]
    }
   ],
   "source": [
    "# Check\n",
    "print(data[0])"
   ]
  },
  {
   "cell_type": "markdown",
   "id": "e31f7cbc-d29d-407b-9a26-4e9dfbebd9f8",
   "metadata": {},
   "source": [
    "## Part 1"
   ]
  },
  {
   "cell_type": "code",
   "execution_count": 5,
   "id": "6d7b73b9-2c01-43e0-9100-cb27c421239a",
   "metadata": {},
   "outputs": [],
   "source": [
    "from typing import Dict, Set, Tuple"
   ]
  },
  {
   "cell_type": "code",
   "execution_count": 6,
   "id": "1ed810de-c5b7-439c-8d9a-961e207a90ca",
   "metadata": {
    "tags": []
   },
   "outputs": [
    {
     "data": {
      "text/plain": [
       "((0, 3), (99, 94))"
      ]
     },
     "execution_count": 6,
     "metadata": {},
     "output_type": "execute_result"
    }
   ],
   "source": [
    "local_mins=dict()\n",
    "for y in range(len(data)):\n",
    "    for x in range(len(data[0])):\n",
    "        points_values=(set([data[j][x] for j in {y-1,y+1} if j not in {-1,len(data)}])  #y dim\n",
    "                        .union(set([data[y][i] for i in {x-1,x+1} if i not in {-1,len(data[0])}])))  #x dim\n",
    "        #print(y, x, data[y][x], min(points_values))\n",
    "        if data[y][x]<min(points_values): local_mins[(y,x)]=data[y][x]\n",
    "\n",
    "#Check\n",
    "min(local_mins), max(local_mins)"
   ]
  },
  {
   "cell_type": "code",
   "execution_count": 7,
   "id": "1d87bf90-6f38-4123-8212-97ebeaa4b6ad",
   "metadata": {},
   "outputs": [],
   "source": [
    "result=sum([local_mins[k]+1 for k in local_mins.keys()])"
   ]
  },
  {
   "cell_type": "code",
   "execution_count": 8,
   "id": "bb6890d4-7048-406d-b70f-ca27bc744dee",
   "metadata": {},
   "outputs": [
    {
     "name": "stdout",
     "output_type": "stream",
     "text": [
      "Result for part 1: 518\n"
     ]
    }
   ],
   "source": [
    "print(f\"Result for part 1: {result}\")"
   ]
  },
  {
   "cell_type": "markdown",
   "id": "2cf9e844-873f-46ef-b072-0f89f46f283a",
   "metadata": {},
   "source": [
    "## Part 2"
   ]
  },
  {
   "cell_type": "code",
   "execution_count": 9,
   "id": "d5e21485-20bd-42cc-a0ef-02ebff450f4f",
   "metadata": {},
   "outputs": [
    {
     "data": {
      "text/plain": [
       "[((0, 3), {(0, 3)}), ((0, 17), {(0, 17)}), ((0, 42), {(0, 42)})]"
      ]
     },
     "execution_count": 9,
     "metadata": {},
     "output_type": "execute_result"
    }
   ],
   "source": [
    "basins=dict()\n",
    "for local_min in local_mins:\n",
    "    basins[local_min]={local_min}\n",
    "\n",
    "# Check \n",
    "list(basins.items())[0:3]"
   ]
  },
  {
   "cell_type": "code",
   "execution_count": 10,
   "id": "d7ea5740-761f-4aa9-a8c4-c23443e25a86",
   "metadata": {},
   "outputs": [],
   "source": [
    "# Recursive procedure to the rescue!\n",
    "def mark_basin(start_point: Tuple[int,int], mark_point: Tuple[int,int]):\n",
    "    global basins\n",
    "    # print(start_point, mark_point, basins[start_point], basins)\n",
    "    basins[start_point].add(mark_point)\n",
    "    for j,i in {(mark_point[0]-1,mark_point[1]),(mark_point[0]+1,mark_point[1]),(mark_point[0],mark_point[1]-1),(mark_point[0],mark_point[1]+1)}:\n",
    "        if (j not in {-1,len(data)}) and (i not in {-1,len(data[0])}) and ((j,i) not in basins[start_point]) and (data[j][i]!=9):\n",
    "            mark_basin(start_point=start_point, mark_point=(j,i))"
   ]
  },
  {
   "cell_type": "code",
   "execution_count": 11,
   "id": "e1883096-477f-4c15-bc78-5ed267a6c022",
   "metadata": {},
   "outputs": [
    {
     "name": "stdout",
     "output_type": "stream",
     "text": [
      "224\n",
      "CPU times: user 24.3 ms, sys: 2.04 ms, total: 26.4 ms\n",
      "Wall time: 25.1 ms\n"
     ]
    }
   ],
   "source": [
    "%%time\n",
    "basin_areas=[]\n",
    "for local_min in local_mins:\n",
    "    mark_basin(start_point=local_min, mark_point=local_min)\n",
    "    basin_areas.append(len(basins[local_min]))\n",
    "\n",
    "# Check\n",
    "print(len(basin_areas))"
   ]
  },
  {
   "cell_type": "code",
   "execution_count": 12,
   "id": "ab3523e0-c239-4c0c-82b3-dcd9922471de",
   "metadata": {},
   "outputs": [
    {
     "data": {
      "text/plain": [
       "[95, 99, 101]"
      ]
     },
     "execution_count": 12,
     "metadata": {},
     "output_type": "execute_result"
    }
   ],
   "source": [
    "basin_areas.sort()\n",
    "# Check\n",
    "basin_areas[-3:]"
   ]
  },
  {
   "cell_type": "code",
   "execution_count": 13,
   "id": "856e8351-de81-4c89-9f9e-3990f31dae72",
   "metadata": {},
   "outputs": [],
   "source": [
    "import math\n",
    "result=math.prod(basin_areas[-3:])"
   ]
  },
  {
   "cell_type": "code",
   "execution_count": 14,
   "id": "85b8d65e-87ad-4fbb-b9de-1e6570da3257",
   "metadata": {},
   "outputs": [
    {
     "name": "stdout",
     "output_type": "stream",
     "text": [
      "Result for part 2: 949905\n"
     ]
    }
   ],
   "source": [
    "print(f\"Result for part 2: {result}\")"
   ]
  }
 ],
 "metadata": {
  "kernelspec": {
   "display_name": "Python 3 (ipykernel)",
   "language": "python",
   "name": "python3"
  },
  "language_info": {
   "codemirror_mode": {
    "name": "ipython",
    "version": 3
   },
   "file_extension": ".py",
   "mimetype": "text/x-python",
   "name": "python",
   "nbconvert_exporter": "python",
   "pygments_lexer": "ipython3",
   "version": "3.10.0"
  }
 },
 "nbformat": 4,
 "nbformat_minor": 5
}
