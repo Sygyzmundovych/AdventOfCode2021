{
 "cells": [
  {
   "cell_type": "code",
   "execution_count": 1,
   "id": "75561c94-28fa-43fe-aaa2-286fd74ba268",
   "metadata": {},
   "outputs": [],
   "source": [
    "# Test\n",
    "file_name=\"./aoc_2120_test.txt\"\n",
    "# Prod\n",
    "file_name=\"./aoc_2120_prod.txt\""
   ]
  },
  {
   "cell_type": "code",
   "execution_count": 2,
   "id": "71bfc5d8-2aaf-4d25-a19b-3468af4161d9",
   "metadata": {},
   "outputs": [],
   "source": [
    "with open(file_name) as f:\n",
    "    raw_data=[line for line in f.read().split('\\n\\n')]\n",
    "    f.close()\n",
    "\n",
    "# Check\n",
    "#display(raw_data)"
   ]
  },
  {
   "cell_type": "code",
   "execution_count": 3,
   "id": "989eb8c9-a094-49ff-896e-946c9c9572ef",
   "metadata": {},
   "outputs": [],
   "source": [
    "data_algorithm, data_image=raw_data\n",
    "\n",
    "#My tests for the infinity\n",
    "#data_image='.....\\n.....\\n.....\\n.....\\n.....'\n",
    "#data_image='#####\\n#####\\n#####\\n#####\\n#####'"
   ]
  },
  {
   "cell_type": "code",
   "execution_count": 4,
   "id": "b3f05f48-752b-4961-9ca1-53fb7be63370",
   "metadata": {},
   "outputs": [],
   "source": [
    "data_algorithm=data_algorithm.replace('\\n','')\n",
    "algorithm={i:1 if data_algorithm[i]=='#' else 0 for i in range(len(data_algorithm))}\n",
    "#algorithm"
   ]
  },
  {
   "cell_type": "code",
   "execution_count": 5,
   "id": "7afa1bda-8009-4d1c-88c3-9dbd45658a7f",
   "metadata": {},
   "outputs": [
    {
     "data": {
      "text/plain": [
       "(1, 0)"
      ]
     },
     "execution_count": 5,
     "metadata": {},
     "output_type": "execute_result"
    }
   ],
   "source": [
    "algorithm[0],algorithm[511]"
   ]
  },
  {
   "cell_type": "code",
   "execution_count": 6,
   "id": "b8c84c55-f34f-4002-aa4a-cb8c37273087",
   "metadata": {},
   "outputs": [],
   "source": [
    "from typing import Tuple, List, Dict"
   ]
  },
  {
   "cell_type": "markdown",
   "id": "e31f7cbc-d29d-407b-9a26-4e9dfbebd9f8",
   "metadata": {},
   "source": [
    "## Part 1"
   ]
  },
  {
   "cell_type": "code",
   "execution_count": 7,
   "id": "15097c1c-4a38-4166-9de7-f6ff78d5eff8",
   "metadata": {},
   "outputs": [
    {
     "data": {
      "text/plain": [
       "[(-1, -1), (-1, 0), (-1, 1), (0, -1), (0, 0), (0, 1), (1, -1), (1, 0), (1, 1)]"
      ]
     },
     "execution_count": 7,
     "metadata": {},
     "output_type": "execute_result"
    }
   ],
   "source": [
    "def get_neigs(myloc)->List[Tuple[int, int]]:\n",
    "    return [(y,x) for y in range(myloc[0]-1, myloc[0]+2) for x in range(myloc[1]-1, myloc[1]+2)]\n",
    "\n",
    "get_neigs((0,0))"
   ]
  },
  {
   "cell_type": "code",
   "execution_count": 8,
   "id": "1ed810de-c5b7-439c-8d9a-961e207a90ca",
   "metadata": {},
   "outputs": [],
   "source": [
    "class Image:\n",
    "    def __init__(self, in_string):\n",
    "        in_string_by_line=in_string.split('\\n')\n",
    "        self.y_min, self.x_min = 0, 0\n",
    "        self.y_max=len(in_string_by_line)\n",
    "        self.x_max=len(in_string_by_line[0])\n",
    "        self.infinite_light=0\n",
    "        print(f\"image size: {(self.y_min, self.y_max)} by {(self.x_min, self.x_max)}\")\n",
    "        \n",
    "        self.myimage={(line_nr, char_nr): 1 if in_string_by_line[line_nr][char_nr]=='#' else 0\n",
    "                      for line_nr in range(self.y_max)\n",
    "                      for char_nr in range(self.x_max)\n",
    "                     }\n",
    "        \n",
    "    def __str__(self) -> str:\n",
    "        return f\"{self.myimage}\"\n",
    "\n",
    "    def draw(self):\n",
    "        for y in range(self.y_min, self.y_max):\n",
    "            print (''.join(['#' if (self.myimage[(y,x)]) else '.' for x in range(self.x_min, self.x_max)]))\n",
    "                    \n",
    "    def get_number_by_loc(self, myloc) -> int:\n",
    "        return int(''.join([str(self.myimage.get(loc, self.infinite_light)) for loc in get_neigs(myloc)]), 2)\n",
    "\n",
    "    def step(self) -> int:\n",
    "        y_min, x_min = self.y_min-1, self.x_min-1\n",
    "        y_max, x_max = self.y_max+1, self.x_max+1\n",
    "        myimage={}\n",
    "        for y in range(y_min, y_max+1):\n",
    "            for x in range(x_min, x_max+1):\n",
    "                myimage[(y,x)]=algorithm[self.get_number_by_loc((y,x))]\n",
    "        self.myimage=myimage\n",
    "        self.y_min, self.x_min=y_min, x_min\n",
    "        self.y_max, self.x_max=y_max, x_max\n",
    "        self.infinite_light=algorithm[511] if self.infinite_light else algorithm[0]\n",
    "        # print(f\"image size: {(self.y_min, self.y_max)} by {(self.x_min, self.x_max)}\")\n",
    "        return sum(self.myimage.values())"
   ]
  },
  {
   "cell_type": "code",
   "execution_count": 9,
   "id": "bb34914d-544f-4cb9-a73c-41fd4a02e913",
   "metadata": {},
   "outputs": [
    {
     "name": "stdout",
     "output_type": "stream",
     "text": [
      "image size: (0, 100) by (0, 100)\n"
     ]
    }
   ],
   "source": [
    "curr_image=Image(data_image)\n",
    "# print(curr_image)"
   ]
  },
  {
   "cell_type": "code",
   "execution_count": 10,
   "id": "08cf581b-5fd1-4bb4-897d-c6161d061b03",
   "metadata": {},
   "outputs": [],
   "source": [
    "STEPS=2\n",
    "for _ in range(STEPS):\n",
    "    result=curr_image.step()"
   ]
  },
  {
   "cell_type": "code",
   "execution_count": 11,
   "id": "bb6890d4-7048-406d-b70f-ca27bc744dee",
   "metadata": {},
   "outputs": [
    {
     "name": "stdout",
     "output_type": "stream",
     "text": [
      "Result for part 1: 5583\n"
     ]
    }
   ],
   "source": [
    "print(f\"Result for part 1: {result}\")"
   ]
  },
  {
   "cell_type": "markdown",
   "id": "2cf9e844-873f-46ef-b072-0f89f46f283a",
   "metadata": {},
   "source": [
    "## Part 2"
   ]
  },
  {
   "cell_type": "code",
   "execution_count": 12,
   "id": "cce08760-1a70-4c62-8e92-366d3f4777b1",
   "metadata": {},
   "outputs": [
    {
     "name": "stdout",
     "output_type": "stream",
     "text": [
      "CPU times: user 5.45 s, sys: 31.3 ms, total: 5.48 s\n",
      "Wall time: 5.5 s\n"
     ]
    }
   ],
   "source": [
    "%%time\n",
    "ALL_STEPS=50\n",
    "for _ in range(ALL_STEPS-STEPS):\n",
    "    result=curr_image.step()"
   ]
  },
  {
   "cell_type": "code",
   "execution_count": 13,
   "id": "85b8d65e-87ad-4fbb-b9de-1e6570da3257",
   "metadata": {},
   "outputs": [
    {
     "name": "stdout",
     "output_type": "stream",
     "text": [
      "Result for part 2: 19592\n"
     ]
    }
   ],
   "source": [
    "print(f\"Result for part 2: {result}\")"
   ]
  }
 ],
 "metadata": {
  "kernelspec": {
   "display_name": "Python 3 (ipykernel)",
   "language": "python",
   "name": "python3"
  },
  "language_info": {
   "codemirror_mode": {
    "name": "ipython",
    "version": 3
   },
   "file_extension": ".py",
   "mimetype": "text/x-python",
   "name": "python",
   "nbconvert_exporter": "python",
   "pygments_lexer": "ipython3",
   "version": "3.10.0"
  }
 },
 "nbformat": 4,
 "nbformat_minor": 5
}
